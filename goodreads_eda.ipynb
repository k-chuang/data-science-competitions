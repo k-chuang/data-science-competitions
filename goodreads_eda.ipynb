{
 "cells": [
  {
   "cell_type": "markdown",
   "metadata": {},
   "source": [
    "# Goodreads Exploratory Data Analysis\n",
    "\n",
    "- Author: Kevin Chuang (https://www.github.com/k-chuang)\n",
    "- Date: 03/22/2019\n",
    "- Description: Kaggle competition on the Goodreads dataset to develop a recommender system to recommend books to users."
   ]
  },
  {
   "cell_type": "markdown",
   "metadata": {},
   "source": [
    "**Overview and Assignment Goals**\n",
    "\n",
    "The objective of this assignment is to help you develop a recommender system for an medium-sized dataset, to gain hands-on skills on data preparation and recommender system algorithms.\n",
    "\n",
    "For this assignment, you are asked to predict the rating that a user will give to a book given their past book ratings. At the very minimum you can use only this information for your recommender system. However, you are also given access to additional data, including book metadata, timestamps etc. in case you'd like to use them as well for your analysis."
   ]
  },
  {
   "cell_type": "code",
   "execution_count": 1,
   "metadata": {
    "ExecuteTime": {
     "end_time": "2019-03-31T18:07:50.061786Z",
     "start_time": "2019-03-31T18:07:46.093951Z"
    }
   },
   "outputs": [],
   "source": [
    "__author__ = 'Kevin Chuang (https://www.github.com/k-chuang)' \n",
    "\n",
    "# linear algebra\n",
    "import numpy as np \n",
    "\n",
    "# data processing\n",
    "import pandas as pd \n",
    "\n",
    "# data visualization\n",
    "import seaborn as sns\n",
    "from matplotlib import pyplot as plt\n",
    "from matplotlib import style\n",
    "\n",
    "# Utilities\n",
    "import os\n",
    "import shutil\n",
    "import json"
   ]
  },
  {
   "cell_type": "markdown",
   "metadata": {},
   "source": [
    "## Load data"
   ]
  },
  {
   "cell_type": "code",
   "execution_count": 4,
   "metadata": {
    "ExecuteTime": {
     "end_time": "2019-03-31T18:11:14.255818Z",
     "start_time": "2019-03-31T18:11:14.252205Z"
    }
   },
   "outputs": [],
   "source": [
    "train_csv = r\"data/train.csv\"\n",
    "test_csv = r\"data/test.csv\"\n",
    "submission_csv = r\"data/sample_output.csv\"\n",
    "book_metadata_path = r\"data/goodreads_books_children.json\""
   ]
  },
  {
   "cell_type": "code",
   "execution_count": 3,
   "metadata": {
    "ExecuteTime": {
     "end_time": "2019-03-31T18:10:55.783581Z",
     "start_time": "2019-03-31T18:10:55.777621Z"
    }
   },
   "outputs": [],
   "source": [
    "def process_book_metdata_to_df(metadata_path):\n",
    "    book_metadata = open(metadata_path).read().splitlines()\n",
    "    for i, x in enumerate(book_metadata):\n",
    "        book_metadata[i] = json.loads(book_metadata[i])\n",
    "    book_df = pd.DataFrame(book_metadata)\n",
    "    return book_df"
   ]
  },
  {
   "cell_type": "code",
   "execution_count": 5,
   "metadata": {
    "ExecuteTime": {
     "end_time": "2019-03-31T18:11:30.297374Z",
     "start_time": "2019-03-31T18:11:17.571266Z"
    }
   },
   "outputs": [],
   "source": [
    "book_df = process_book_metdata_to_df(book_metadata_path)"
   ]
  },
  {
   "cell_type": "code",
   "execution_count": 7,
   "metadata": {
    "ExecuteTime": {
     "end_time": "2019-03-31T18:23:25.933161Z",
     "start_time": "2019-03-31T18:23:25.604067Z"
    }
   },
   "outputs": [],
   "source": [
    "train_df = pd.read_csv(train_csv, delimiter=\"\\t\")\n",
    "test_df = pd.read_csv(test_csv, delimiter=\"\\t\")"
   ]
  },
  {
   "cell_type": "markdown",
   "metadata": {},
   "source": [
    "## Analyze data"
   ]
  },
  {
   "cell_type": "code",
   "execution_count": 11,
   "metadata": {
    "ExecuteTime": {
     "end_time": "2019-03-31T18:25:30.143847Z",
     "start_time": "2019-03-31T18:25:30.062566Z"
    }
   },
   "outputs": [
    {
     "name": "stdout",
     "output_type": "stream",
     "text": [
      "Number of unique users in training set: 35280\n",
      "Number of unique users in test set: 29471\n",
      "Number of non-intersecting users of train & test set: 7757\n"
     ]
    }
   ],
   "source": [
    "train_users = np.unique(train_df['user_id'])\n",
    "test_users = np.unique(test_df['user_id'])\n",
    "\n",
    "print(\"Number of unique users in training set: {}\".format(len(train_users)))\n",
    "print(\"Number of unique users in test set: {}\".format(len(test_users)))\n",
    "print(\"Number of non-intersecting users of train & test set: {}\".format(np.setdiff1d(train_users, test_users).shape[0]))\n",
    "\n",
    "# There are different around 7757 differnet users in train and test set"
   ]
  },
  {
   "cell_type": "code",
   "execution_count": 16,
   "metadata": {
    "ExecuteTime": {
     "end_time": "2019-03-31T18:34:33.153865Z",
     "start_time": "2019-03-31T18:34:33.073690Z"
    }
   },
   "outputs": [
    {
     "name": "stdout",
     "output_type": "stream",
     "text": [
      "Number of unique book in training set: 68371\n",
      "Number of unique book in test set: 47672\n",
      "Number of non-intersecting book of train & test set: 30100\n"
     ]
    }
   ],
   "source": [
    "train_books = np.unique(train_df['book_id'])\n",
    "test_books = np.unique(test_df['book_id'])\n",
    "\n",
    "print(\"Number of unique books in training set: {}\".format(len(train_books)))\n",
    "print(\"Number of unique books in test set: {}\".format(len(test_books)))\n",
    "print(\"Number of non-intersecting books of train & test set: {}\".format(np.setdiff1d(train_books, test_books).shape[0]))"
   ]
  },
  {
   "cell_type": "code",
   "execution_count": 14,
   "metadata": {
    "ExecuteTime": {
     "end_time": "2019-03-31T18:33:17.848103Z",
     "start_time": "2019-03-31T18:33:17.825728Z"
    }
   },
   "outputs": [
    {
     "name": "stdout",
     "output_type": "stream",
     "text": [
      "Distinct values of ratings: [0 1 2 3 4 5]\n"
     ]
    }
   ],
   "source": [
    "print(\"Distinct values of ratings: {}\".format(np.unique(train_df['rating'])))"
   ]
  },
  {
   "cell_type": "code",
   "execution_count": 25,
   "metadata": {
    "ExecuteTime": {
     "end_time": "2019-03-31T18:41:15.580628Z",
     "start_time": "2019-03-31T18:41:15.499324Z"
    }
   },
   "outputs": [
    {
     "name": "stdout",
     "output_type": "stream",
     "text": [
      "For the users that rated books and the books that were rated:\n",
      "Minimum number of ratings per user is 1\n",
      "Minimum number of ratings per book is 1\n"
     ]
    }
   ],
   "source": [
    "tmp1 = train_df.groupby(\"user_id\")['user_id'].count().min()\n",
    "tmp2 = train_df.groupby(\"book_id\")['book_id'].count().min()\n",
    "print('For the users that rated books and the books that were rated:')\n",
    "print('Minimum number of ratings per user is {}'.format(tmp1))\n",
    "print('Minimum number of ratings per book is {}'.format(tmp2))"
   ]
  },
  {
   "cell_type": "code",
   "execution_count": 23,
   "metadata": {
    "ExecuteTime": {
     "end_time": "2019-03-31T18:40:13.537772Z",
     "start_time": "2019-03-31T18:40:13.483989Z"
    },
    "scrolled": true
   },
   "outputs": [
    {
     "name": "stdout",
     "output_type": "stream",
     "text": [
      "25851 out of 68371 books are rated by only one user\n"
     ]
    }
   ],
   "source": [
    "book_count = sum(train_df.groupby([\"book_id\"])[\"book_id\"].count() == 1)\n",
    "\n",
    "print('{} out of {} books are rated by only one user'.format(book_count, len(train_books)))"
   ]
  },
  {
   "cell_type": "code",
   "execution_count": 27,
   "metadata": {
    "ExecuteTime": {
     "end_time": "2019-03-31T18:47:55.062887Z",
     "start_time": "2019-03-31T18:47:54.875864Z"
    }
   },
   "outputs": [
    {
     "data": {
      "text/plain": [
       "<matplotlib.axes._subplots.AxesSubplot at 0x1163c10f0>"
      ]
     },
     "execution_count": 27,
     "metadata": {},
     "output_type": "execute_result"
    },
    {
     "data": {
      "image/png": "[encoded data removed]",
      "text/plain": [
       "<Figure size 432x288 with 1 Axes>"
      ]
     },
     "metadata": {},
     "output_type": "display_data"
    }
   ],
   "source": [
    "# Plot histogram of ratings\n",
    "train_df.rating.hist( bins = 6 )"
   ]
  },
  {
   "cell_type": "markdown",
   "metadata": {},
   "source": [
    "There are a lot of \"0\" ratings, and relatively low \"1\" and \"2\" ratings."
   ]
  },
  {
   "cell_type": "markdown",
   "metadata": {},
   "source": [
    "### Reviews per book\n",
    "\n",
    "Most books have few ratings (1-5 ratings)."
   ]
  },
  {
   "cell_type": "code",
   "execution_count": 28,
   "metadata": {
    "ExecuteTime": {
     "end_time": "2019-03-31T18:54:45.695031Z",
     "start_time": "2019-03-31T18:54:41.714989Z"
    }
   },
   "outputs": [
    {
     "data": {
      "text/plain": [
       "count    68371.000000\n",
       "mean        10.238259\n",
       "std         94.036216\n",
       "min          1.000000\n",
       "25%          1.000000\n",
       "50%          2.000000\n",
       "75%          5.000000\n",
       "max      11213.000000\n",
       "Name: book_id, dtype: float64"
      ]
     },
     "execution_count": 28,
     "metadata": {},
     "output_type": "execute_result"
    }
   ],
   "source": [
    "# Reviews per book\n",
    "reviews_per_book = train_df.groupby( 'book_id' ).book_id.apply( lambda x: len( x ))\n",
    "reviews_per_book.describe()"
   ]
  },
  {
   "cell_type": "markdown",
   "metadata": {},
   "source": [
    "### Reviews per user\n",
    "\n",
    "Most users have few ratings (1-16 ratings)."
   ]
  },
  {
   "cell_type": "code",
   "execution_count": 29,
   "metadata": {
    "ExecuteTime": {
     "end_time": "2019-03-31T18:56:29.721848Z",
     "start_time": "2019-03-31T18:56:27.657470Z"
    }
   },
   "outputs": [
    {
     "data": {
      "text/plain": [
       "count    35280.000000\n",
       "mean        19.841270\n",
       "std         70.433534\n",
       "min          1.000000\n",
       "25%          2.000000\n",
       "50%          6.000000\n",
       "75%         16.000000\n",
       "max       4287.000000\n",
       "Name: user_id, dtype: float64"
      ]
     },
     "execution_count": 29,
     "metadata": {},
     "output_type": "execute_result"
    }
   ],
   "source": [
    "reviews_per_user = train_df.groupby( 'user_id' ).user_id.apply( lambda x: len( x ))\n",
    "reviews_per_user.describe()"
   ]
  },
  {
   "cell_type": "markdown",
   "metadata": {},
   "source": [
    "## Book Metadata \n",
    "\n",
    "- There are multiple languages, not just English\n",
    "- There are missing descriptions of books, and also the descriptions contain html tags.\n",
    "- There are multiple authors per book (illustrators)"
   ]
  },
  {
   "cell_type": "code",
   "execution_count": 30,
   "metadata": {
    "ExecuteTime": {
     "end_time": "2019-03-31T20:13:07.961488Z",
     "start_time": "2019-03-31T20:13:07.718247Z"
    }
   },
   "outputs": [
    {
     "data": {
      "text/html": [
       "<div>\n",
       "<style scoped>\n",
       "    .dataframe tbody tr th:only-of-type {\n",
       "        vertical-align: middle;\n",
       "    }\n",
       "\n",
       "    .dataframe tbody tr th {\n",
       "        vertical-align: top;\n",
       "    }\n",
       "\n",
       "    .dataframe thead th {\n",
       "        text-align: right;\n",
       "    }\n",
       "</style>\n",
       "<table border=\"1\" class=\"dataframe\">\n",
       "  <thead>\n",
       "    <tr style=\"text-align: right;\">\n",
       "      <th></th>\n",
       "      <th>asin</th>\n",
       "      <th>authors</th>\n",
       "      <th>average_rating</th>\n",
       "      <th>book_id</th>\n",
       "      <th>country_code</th>\n",
       "      <th>description</th>\n",
       "      <th>edition_information</th>\n",
       "      <th>format</th>\n",
       "      <th>image_url</th>\n",
       "      <th>is_ebook</th>\n",
       "      <th>...</th>\n",
       "      <th>publication_day</th>\n",
       "      <th>publication_month</th>\n",
       "      <th>publication_year</th>\n",
       "      <th>publisher</th>\n",
       "      <th>ratings_count</th>\n",
       "      <th>series</th>\n",
       "      <th>similar_books</th>\n",
       "      <th>text_reviews_count</th>\n",
       "      <th>url</th>\n",
       "      <th>work_id</th>\n",
       "    </tr>\n",
       "  </thead>\n",
       "  <tbody>\n",
       "    <tr>\n",
       "      <th>0</th>\n",
       "      <td></td>\n",
       "      <td>[{'author_id': '3041852', 'role': ''}]</td>\n",
       "      <td>4.13</td>\n",
       "      <td>287141</td>\n",
       "      <td>US</td>\n",
       "      <td>Relates in vigorous prose the tale of Aeneas, ...</td>\n",
       "      <td></td>\n",
       "      <td>Paperback</td>\n",
       "      <td>https://s.gr-assets.com/assets/nophoto/book/11...</td>\n",
       "      <td>false</td>\n",
       "      <td>...</td>\n",
       "      <td>13</td>\n",
       "      <td>9</td>\n",
       "      <td>2006</td>\n",
       "      <td>Yesterday's Classics</td>\n",
       "      <td>46</td>\n",
       "      <td>[]</td>\n",
       "      <td>[]</td>\n",
       "      <td>7</td>\n",
       "      <td>https://www.goodreads.com/book/show/287141.The...</td>\n",
       "      <td>278578</td>\n",
       "    </tr>\n",
       "    <tr>\n",
       "      <th>1</th>\n",
       "      <td></td>\n",
       "      <td>[{'author_id': '19158', 'role': ''}]</td>\n",
       "      <td>4.22</td>\n",
       "      <td>6066812</td>\n",
       "      <td>US</td>\n",
       "      <td>&lt;br /&gt;&lt;p&gt;To Kara's astonishment, she discovers...</td>\n",
       "      <td></td>\n",
       "      <td>Paperback</td>\n",
       "      <td>https://images.gr-assets.com/books/1316637798m...</td>\n",
       "      <td>false</td>\n",
       "      <td>...</td>\n",
       "      <td>3</td>\n",
       "      <td>3</td>\n",
       "      <td>2009</td>\n",
       "      <td>Seven Seas</td>\n",
       "      <td>98</td>\n",
       "      <td>[s151854]</td>\n",
       "      <td>[948696, 439885, 274955, 12978730, 372986, 216...</td>\n",
       "      <td>6</td>\n",
       "      <td>https://www.goodreads.com/book/show/6066812-al...</td>\n",
       "      <td>701117</td>\n",
       "    </tr>\n",
       "    <tr>\n",
       "      <th>2</th>\n",
       "      <td></td>\n",
       "      <td>[{'author_id': '5411', 'role': ''}]</td>\n",
       "      <td>4.43</td>\n",
       "      <td>89378</td>\n",
       "      <td>US</td>\n",
       "      <td>In Newbery Medalist Cynthia Rylant's classic b...</td>\n",
       "      <td></td>\n",
       "      <td>Hardcover</td>\n",
       "      <td>https://images.gr-assets.com/books/1360057676m...</td>\n",
       "      <td>false</td>\n",
       "      <td>...</td>\n",
       "      <td>1</td>\n",
       "      <td>9</td>\n",
       "      <td>1995</td>\n",
       "      <td>Blue Sky Press</td>\n",
       "      <td>1331</td>\n",
       "      <td>[]</td>\n",
       "      <td>[834493, 452189, 140185, 1897316, 2189812, 424...</td>\n",
       "      <td>193</td>\n",
       "      <td>https://www.goodreads.com/book/show/89378.Dog_...</td>\n",
       "      <td>86259</td>\n",
       "    </tr>\n",
       "    <tr>\n",
       "      <th>3</th>\n",
       "      <td></td>\n",
       "      <td>[{'author_id': '589328', 'role': ''}, {'author...</td>\n",
       "      <td>4.29</td>\n",
       "      <td>3209312</td>\n",
       "      <td>US</td>\n",
       "      <td></td>\n",
       "      <td></td>\n",
       "      <td></td>\n",
       "      <td>https://s.gr-assets.com/assets/nophoto/book/11...</td>\n",
       "      <td>false</td>\n",
       "      <td>...</td>\n",
       "      <td></td>\n",
       "      <td></td>\n",
       "      <td></td>\n",
       "      <td></td>\n",
       "      <td>11</td>\n",
       "      <td>[]</td>\n",
       "      <td>[]</td>\n",
       "      <td>4</td>\n",
       "      <td>https://www.goodreads.com/book/show/3209312-mo...</td>\n",
       "      <td>3242879</td>\n",
       "    </tr>\n",
       "    <tr>\n",
       "      <th>4</th>\n",
       "      <td></td>\n",
       "      <td>[{'author_id': '169159', 'role': ''}]</td>\n",
       "      <td>3.57</td>\n",
       "      <td>1698376</td>\n",
       "      <td>US</td>\n",
       "      <td>&lt;b&gt;WHAT DO YOU DO? &lt;br /&gt;&lt;br /&gt; A hen lays egg...</td>\n",
       "      <td></td>\n",
       "      <td>Board Book</td>\n",
       "      <td>https://s.gr-assets.com/assets/nophoto/book/11...</td>\n",
       "      <td>false</td>\n",
       "      <td>...</td>\n",
       "      <td>1</td>\n",
       "      <td>6</td>\n",
       "      <td>2005</td>\n",
       "      <td>Little Simon</td>\n",
       "      <td>23</td>\n",
       "      <td>[]</td>\n",
       "      <td>[]</td>\n",
       "      <td>4</td>\n",
       "      <td>https://www.goodreads.com/book/show/1698376.Wh...</td>\n",
       "      <td>1695373</td>\n",
       "    </tr>\n",
       "  </tbody>\n",
       "</table>\n",
       "<p>5 rows × 27 columns</p>\n",
       "</div>"
      ],
      "text/plain": [
       "  asin                                            authors average_rating  \\\n",
       "0                  [{'author_id': '3041852', 'role': ''}]           4.13   \n",
       "1                    [{'author_id': '19158', 'role': ''}]           4.22   \n",
       "2                     [{'author_id': '5411', 'role': ''}]           4.43   \n",
       "3       [{'author_id': '589328', 'role': ''}, {'author...           4.29   \n",
       "4                   [{'author_id': '169159', 'role': ''}]           3.57   \n",
       "\n",
       "   book_id country_code                                        description  \\\n",
       "0   287141           US  Relates in vigorous prose the tale of Aeneas, ...   \n",
       "1  6066812           US  <br /><p>To Kara's astonishment, she discovers...   \n",
       "2    89378           US  In Newbery Medalist Cynthia Rylant's classic b...   \n",
       "3  3209312           US                                                      \n",
       "4  1698376           US  <b>WHAT DO YOU DO? <br /><br /> A hen lays egg...   \n",
       "\n",
       "  edition_information      format  \\\n",
       "0                       Paperback   \n",
       "1                       Paperback   \n",
       "2                       Hardcover   \n",
       "3                                   \n",
       "4                      Board Book   \n",
       "\n",
       "                                           image_url is_ebook   ...     \\\n",
       "0  https://s.gr-assets.com/assets/nophoto/book/11...    false   ...      \n",
       "1  https://images.gr-assets.com/books/1316637798m...    false   ...      \n",
       "2  https://images.gr-assets.com/books/1360057676m...    false   ...      \n",
       "3  https://s.gr-assets.com/assets/nophoto/book/11...    false   ...      \n",
       "4  https://s.gr-assets.com/assets/nophoto/book/11...    false   ...      \n",
       "\n",
       "  publication_day publication_month publication_year             publisher  \\\n",
       "0              13                 9             2006  Yesterday's Classics   \n",
       "1               3                 3             2009            Seven Seas   \n",
       "2               1                 9             1995        Blue Sky Press   \n",
       "3                                                                            \n",
       "4               1                 6             2005          Little Simon   \n",
       "\n",
       "  ratings_count     series                                      similar_books  \\\n",
       "0            46         []                                                 []   \n",
       "1            98  [s151854]  [948696, 439885, 274955, 12978730, 372986, 216...   \n",
       "2          1331         []  [834493, 452189, 140185, 1897316, 2189812, 424...   \n",
       "3            11         []                                                 []   \n",
       "4            23         []                                                 []   \n",
       "\n",
       "  text_reviews_count                                                url  \\\n",
       "0                  7  https://www.goodreads.com/book/show/287141.The...   \n",
       "1                  6  https://www.goodreads.com/book/show/6066812-al...   \n",
       "2                193  https://www.goodreads.com/book/show/89378.Dog_...   \n",
       "3                  4  https://www.goodreads.com/book/show/3209312-mo...   \n",
       "4                  4  https://www.goodreads.com/book/show/1698376.Wh...   \n",
       "\n",
       "   work_id  \n",
       "0   278578  \n",
       "1   701117  \n",
       "2    86259  \n",
       "3  3242879  \n",
       "4  1695373  \n",
       "\n",
       "[5 rows x 27 columns]"
      ]
     },
     "execution_count": 30,
     "metadata": {},
     "output_type": "execute_result"
    }
   ],
   "source": [
    "book_df.head()"
   ]
  },
  {
   "cell_type": "code",
   "execution_count": null,
   "metadata": {},
   "outputs": [],
   "source": []
  }
 ],
 "metadata": {
  "kernelspec": {
   "display_name": "Python 3",
   "language": "python",
   "name": "python3"
  },
  "language_info": {
   "codemirror_mode": {
    "name": "ipython",
    "version": 3
   },
   "file_extension": ".py",
   "mimetype": "text/x-python",
   "name": "python",
   "nbconvert_exporter": "python",
   "pygments_lexer": "ipython3",
   "version": "3.6.5"
  }
 },
 "nbformat": 4,
 "nbformat_minor": 2
}
