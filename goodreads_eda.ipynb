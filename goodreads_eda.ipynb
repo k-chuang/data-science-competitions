{
 "cells": [
  {
   "cell_type": "markdown",
   "metadata": {},
   "source": [
    "# Goodreads Exploratory Data Analysis\n",
    "\n",
    "- Author: Kevin Chuang (https://www.github.com/k-chuang)\n",
    "- Date: 03/22/2019\n",
    "- Description: Kaggle competition on the Goodreads dataset to develop a recommender system to recommend books to users."
   ]
  },
  {
   "cell_type": "markdown",
   "metadata": {},
   "source": [
    "**Overview and Assignment Goals**\n",
    "\n",
    "The objective of this assignment is to help you develop a recommender system for an medium-sized dataset, to gain hands-on skills on data preparation and recommender system algorithms.\n",
    "\n",
    "For this assignment, you are asked to predict the rating that a user will give to a book given their past book ratings. At the very minimum you can use only this information for your recommender system. However, you are also given access to additional data, including book metadata, timestamps etc. in case you'd like to use them as well for your analysis."
   ]
  },
  {
   "cell_type": "code",
   "execution_count": 1,
   "metadata": {
    "ExecuteTime": {
     "end_time": "2019-04-01T05:39:50.123120Z",
     "start_time": "2019-04-01T05:39:48.702995Z"
    }
   },
   "outputs": [],
   "source": [
    "__author__ = 'Kevin Chuang (https://www.github.com/k-chuang)' \n",
    "\n",
    "# linear algebra\n",
    "import numpy as np \n",
    "\n",
    "# data processing\n",
    "import pandas as pd \n",
    "\n",
    "# data visualization\n",
    "import seaborn as sns\n",
    "from matplotlib import pyplot as plt\n",
    "from matplotlib import style\n",
    "\n",
    "# Utilities\n",
    "import os\n",
    "import shutil\n",
    "import json"
   ]
  },
  {
   "cell_type": "markdown",
   "metadata": {},
   "source": [
    "## Load data"
   ]
  },
  {
   "cell_type": "code",
   "execution_count": 2,
   "metadata": {
    "ExecuteTime": {
     "end_time": "2019-04-01T05:39:50.129962Z",
     "start_time": "2019-04-01T05:39:50.125653Z"
    }
   },
   "outputs": [],
   "source": [
    "train_csv = r\"data/train.csv\"\n",
    "test_csv = r\"data/test.csv\"\n",
    "submission_csv = r\"data/sample_output.csv\"\n",
    "book_metadata_path = r\"data/goodreads_books_children.json\""
   ]
  },
  {
   "cell_type": "code",
   "execution_count": 3,
   "metadata": {
    "ExecuteTime": {
     "end_time": "2019-04-01T05:39:50.139237Z",
     "start_time": "2019-04-01T05:39:50.132915Z"
    }
   },
   "outputs": [],
   "source": [
    "def process_book_metdata_to_df(metadata_path):\n",
    "    book_metadata = open(metadata_path).read().splitlines()\n",
    "    for i, x in enumerate(book_metadata):\n",
    "        book_metadata[i] = json.loads(book_metadata[i])\n",
    "    book_df = pd.DataFrame(book_metadata)\n",
    "    return book_df"
   ]
  },
  {
   "cell_type": "code",
   "execution_count": 4,
   "metadata": {
    "ExecuteTime": {
     "end_time": "2019-04-01T05:40:02.845645Z",
     "start_time": "2019-04-01T05:39:50.141852Z"
    }
   },
   "outputs": [],
   "source": [
    "book_df = process_book_metdata_to_df(book_metadata_path)"
   ]
  },
  {
   "cell_type": "code",
   "execution_count": 5,
   "metadata": {
    "ExecuteTime": {
     "end_time": "2019-04-01T05:40:03.203804Z",
     "start_time": "2019-04-01T05:40:02.847933Z"
    }
   },
   "outputs": [],
   "source": [
    "train_df = pd.read_csv(train_csv, delimiter=\"\\t\")\n",
    "test_df = pd.read_csv(test_csv, delimiter=\"\\t\")"
   ]
  },
  {
   "cell_type": "markdown",
   "metadata": {},
   "source": [
    "## Analyze data"
   ]
  },
  {
   "cell_type": "code",
   "execution_count": 6,
   "metadata": {
    "ExecuteTime": {
     "end_time": "2019-04-01T05:40:03.429770Z",
     "start_time": "2019-04-01T05:40:03.205439Z"
    }
   },
   "outputs": [
    {
     "data": {
      "text/html": [
       "<div>\n",
       "<style scoped>\n",
       "    .dataframe tbody tr th:only-of-type {\n",
       "        vertical-align: middle;\n",
       "    }\n",
       "\n",
       "    .dataframe tbody tr th {\n",
       "        vertical-align: top;\n",
       "    }\n",
       "\n",
       "    .dataframe thead th {\n",
       "        text-align: right;\n",
       "    }\n",
       "</style>\n",
       "<table border=\"1\" class=\"dataframe\">\n",
       "  <thead>\n",
       "    <tr style=\"text-align: right;\">\n",
       "      <th></th>\n",
       "      <th>user_id</th>\n",
       "      <th>book_id</th>\n",
       "      <th>rating</th>\n",
       "    </tr>\n",
       "  </thead>\n",
       "  <tbody>\n",
       "    <tr>\n",
       "      <th>count</th>\n",
       "      <td>700000.000000</td>\n",
       "      <td>7.000000e+05</td>\n",
       "      <td>700000.000000</td>\n",
       "    </tr>\n",
       "    <tr>\n",
       "      <th>mean</th>\n",
       "      <td>18895.764374</td>\n",
       "      <td>4.970340e+06</td>\n",
       "      <td>2.644934</td>\n",
       "    </tr>\n",
       "    <tr>\n",
       "      <th>std</th>\n",
       "      <td>10745.949583</td>\n",
       "      <td>8.443227e+06</td>\n",
       "      <td>2.051200</td>\n",
       "    </tr>\n",
       "    <tr>\n",
       "      <th>min</th>\n",
       "      <td>0.000000</td>\n",
       "      <td>5.000000e+00</td>\n",
       "      <td>0.000000</td>\n",
       "    </tr>\n",
       "    <tr>\n",
       "      <th>25%</th>\n",
       "      <td>9558.000000</td>\n",
       "      <td>7.453200e+04</td>\n",
       "      <td>0.000000</td>\n",
       "    </tr>\n",
       "    <tr>\n",
       "      <th>50%</th>\n",
       "      <td>18986.000000</td>\n",
       "      <td>4.349280e+05</td>\n",
       "      <td>3.000000</td>\n",
       "    </tr>\n",
       "    <tr>\n",
       "      <th>75%</th>\n",
       "      <td>27946.000000</td>\n",
       "      <td>6.578293e+06</td>\n",
       "      <td>4.000000</td>\n",
       "    </tr>\n",
       "    <tr>\n",
       "      <th>max</th>\n",
       "      <td>37230.000000</td>\n",
       "      <td>3.645941e+07</td>\n",
       "      <td>5.000000</td>\n",
       "    </tr>\n",
       "  </tbody>\n",
       "</table>\n",
       "</div>"
      ],
      "text/plain": [
       "             user_id       book_id         rating\n",
       "count  700000.000000  7.000000e+05  700000.000000\n",
       "mean    18895.764374  4.970340e+06       2.644934\n",
       "std     10745.949583  8.443227e+06       2.051200\n",
       "min         0.000000  5.000000e+00       0.000000\n",
       "25%      9558.000000  7.453200e+04       0.000000\n",
       "50%     18986.000000  4.349280e+05       3.000000\n",
       "75%     27946.000000  6.578293e+06       4.000000\n",
       "max     37230.000000  3.645941e+07       5.000000"
      ]
     },
     "execution_count": 6,
     "metadata": {},
     "output_type": "execute_result"
    }
   ],
   "source": [
    "train_df.describe()"
   ]
  },
  {
   "cell_type": "code",
   "execution_count": 9,
   "metadata": {
    "ExecuteTime": {
     "end_time": "2019-04-01T05:40:17.810753Z",
     "start_time": "2019-04-01T05:40:17.708400Z"
    },
    "scrolled": true
   },
   "outputs": [
    {
     "data": {
      "text/html": [
       "<div>\n",
       "<style scoped>\n",
       "    .dataframe tbody tr th:only-of-type {\n",
       "        vertical-align: middle;\n",
       "    }\n",
       "\n",
       "    .dataframe tbody tr th {\n",
       "        vertical-align: top;\n",
       "    }\n",
       "\n",
       "    .dataframe thead th {\n",
       "        text-align: right;\n",
       "    }\n",
       "</style>\n",
       "<table border=\"1\" class=\"dataframe\">\n",
       "  <thead>\n",
       "    <tr style=\"text-align: right;\">\n",
       "      <th></th>\n",
       "      <th></th>\n",
       "      <th>rating</th>\n",
       "    </tr>\n",
       "    <tr>\n",
       "      <th>user_id</th>\n",
       "      <th>book_id</th>\n",
       "      <th></th>\n",
       "    </tr>\n",
       "  </thead>\n",
       "  <tbody>\n",
       "    <tr>\n",
       "      <th rowspan=\"4\" valign=\"top\">24</th>\n",
       "      <th>113946</th>\n",
       "      <td>2</td>\n",
       "    </tr>\n",
       "    <tr>\n",
       "      <th>196283</th>\n",
       "      <td>2</td>\n",
       "    </tr>\n",
       "    <tr>\n",
       "      <th>15944573</th>\n",
       "      <td>2</td>\n",
       "    </tr>\n",
       "    <tr>\n",
       "      <th>18874096</th>\n",
       "      <td>2</td>\n",
       "    </tr>\n",
       "    <tr>\n",
       "      <th>56</th>\n",
       "      <th>20172134</th>\n",
       "      <td>2</td>\n",
       "    </tr>\n",
       "    <tr>\n",
       "      <th>83</th>\n",
       "      <th>77392</th>\n",
       "      <td>2</td>\n",
       "    </tr>\n",
       "    <tr>\n",
       "      <th>128</th>\n",
       "      <th>8663303</th>\n",
       "      <td>2</td>\n",
       "    </tr>\n",
       "    <tr>\n",
       "      <th>280</th>\n",
       "      <th>272447</th>\n",
       "      <td>2</td>\n",
       "    </tr>\n",
       "    <tr>\n",
       "      <th>389</th>\n",
       "      <th>24178</th>\n",
       "      <td>2</td>\n",
       "    </tr>\n",
       "    <tr>\n",
       "      <th>487</th>\n",
       "      <th>794230</th>\n",
       "      <td>2</td>\n",
       "    </tr>\n",
       "    <tr>\n",
       "      <th>494</th>\n",
       "      <th>478356</th>\n",
       "      <td>2</td>\n",
       "    </tr>\n",
       "    <tr>\n",
       "      <th rowspan=\"2\" valign=\"top\">784</th>\n",
       "      <th>29212271</th>\n",
       "      <td>2</td>\n",
       "    </tr>\n",
       "    <tr>\n",
       "      <th>32819894</th>\n",
       "      <td>2</td>\n",
       "    </tr>\n",
       "    <tr>\n",
       "      <th>801</th>\n",
       "      <th>34456738</th>\n",
       "      <td>2</td>\n",
       "    </tr>\n",
       "    <tr>\n",
       "      <th>972</th>\n",
       "      <th>22292490</th>\n",
       "      <td>2</td>\n",
       "    </tr>\n",
       "    <tr>\n",
       "      <th>1023</th>\n",
       "      <th>6340266</th>\n",
       "      <td>2</td>\n",
       "    </tr>\n",
       "    <tr>\n",
       "      <th>1029</th>\n",
       "      <th>145383</th>\n",
       "      <td>2</td>\n",
       "    </tr>\n",
       "    <tr>\n",
       "      <th rowspan=\"7\" valign=\"top\">1259</th>\n",
       "      <th>116591</th>\n",
       "      <td>2</td>\n",
       "    </tr>\n",
       "    <tr>\n",
       "      <th>123805</th>\n",
       "      <td>2</td>\n",
       "    </tr>\n",
       "    <tr>\n",
       "      <th>762677</th>\n",
       "      <td>2</td>\n",
       "    </tr>\n",
       "    <tr>\n",
       "      <th>1322450</th>\n",
       "      <td>2</td>\n",
       "    </tr>\n",
       "    <tr>\n",
       "      <th>1456733</th>\n",
       "      <td>2</td>\n",
       "    </tr>\n",
       "    <tr>\n",
       "      <th>2740568</th>\n",
       "      <td>2</td>\n",
       "    </tr>\n",
       "    <tr>\n",
       "      <th>9953257</th>\n",
       "      <td>2</td>\n",
       "    </tr>\n",
       "    <tr>\n",
       "      <th>1379</th>\n",
       "      <th>28250985</th>\n",
       "      <td>2</td>\n",
       "    </tr>\n",
       "    <tr>\n",
       "      <th>1427</th>\n",
       "      <th>28195</th>\n",
       "      <td>2</td>\n",
       "    </tr>\n",
       "    <tr>\n",
       "      <th rowspan=\"4\" valign=\"top\">1468</th>\n",
       "      <th>10365</th>\n",
       "      <td>2</td>\n",
       "    </tr>\n",
       "    <tr>\n",
       "      <th>19321</th>\n",
       "      <td>2</td>\n",
       "    </tr>\n",
       "    <tr>\n",
       "      <th>38709</th>\n",
       "      <td>2</td>\n",
       "    </tr>\n",
       "    <tr>\n",
       "      <th>44186</th>\n",
       "      <td>2</td>\n",
       "    </tr>\n",
       "    <tr>\n",
       "      <th>...</th>\n",
       "      <th>...</th>\n",
       "      <td>...</td>\n",
       "    </tr>\n",
       "    <tr>\n",
       "      <th>36568</th>\n",
       "      <th>31319741</th>\n",
       "      <td>2</td>\n",
       "    </tr>\n",
       "    <tr>\n",
       "      <th rowspan=\"14\" valign=\"top\">36636</th>\n",
       "      <th>15794580</th>\n",
       "      <td>2</td>\n",
       "    </tr>\n",
       "    <tr>\n",
       "      <th>20786366</th>\n",
       "      <td>2</td>\n",
       "    </tr>\n",
       "    <tr>\n",
       "      <th>21855274</th>\n",
       "      <td>2</td>\n",
       "    </tr>\n",
       "    <tr>\n",
       "      <th>22609279</th>\n",
       "      <td>2</td>\n",
       "    </tr>\n",
       "    <tr>\n",
       "      <th>22609855</th>\n",
       "      <td>2</td>\n",
       "    </tr>\n",
       "    <tr>\n",
       "      <th>22864855</th>\n",
       "      <td>2</td>\n",
       "    </tr>\n",
       "    <tr>\n",
       "      <th>23068261</th>\n",
       "      <td>2</td>\n",
       "    </tr>\n",
       "    <tr>\n",
       "      <th>23200486</th>\n",
       "      <td>2</td>\n",
       "    </tr>\n",
       "    <tr>\n",
       "      <th>23217710</th>\n",
       "      <td>2</td>\n",
       "    </tr>\n",
       "    <tr>\n",
       "      <th>23310695</th>\n",
       "      <td>2</td>\n",
       "    </tr>\n",
       "    <tr>\n",
       "      <th>24855325</th>\n",
       "      <td>2</td>\n",
       "    </tr>\n",
       "    <tr>\n",
       "      <th>30962057</th>\n",
       "      <td>2</td>\n",
       "    </tr>\n",
       "    <tr>\n",
       "      <th>33509392</th>\n",
       "      <td>2</td>\n",
       "    </tr>\n",
       "    <tr>\n",
       "      <th>34525408</th>\n",
       "      <td>2</td>\n",
       "    </tr>\n",
       "    <tr>\n",
       "      <th rowspan=\"4\" valign=\"top\">36704</th>\n",
       "      <th>33113315</th>\n",
       "      <td>2</td>\n",
       "    </tr>\n",
       "    <tr>\n",
       "      <th>33158535</th>\n",
       "      <td>2</td>\n",
       "    </tr>\n",
       "    <tr>\n",
       "      <th>34220851</th>\n",
       "      <td>2</td>\n",
       "    </tr>\n",
       "    <tr>\n",
       "      <th>36314263</th>\n",
       "      <td>2</td>\n",
       "    </tr>\n",
       "    <tr>\n",
       "      <th>36754</th>\n",
       "      <th>742272</th>\n",
       "      <td>2</td>\n",
       "    </tr>\n",
       "    <tr>\n",
       "      <th>36760</th>\n",
       "      <th>878243</th>\n",
       "      <td>2</td>\n",
       "    </tr>\n",
       "    <tr>\n",
       "      <th>36996</th>\n",
       "      <th>23720749</th>\n",
       "      <td>2</td>\n",
       "    </tr>\n",
       "    <tr>\n",
       "      <th rowspan=\"2\" valign=\"top\">37040</th>\n",
       "      <th>3843308</th>\n",
       "      <td>2</td>\n",
       "    </tr>\n",
       "    <tr>\n",
       "      <th>21965059</th>\n",
       "      <td>2</td>\n",
       "    </tr>\n",
       "    <tr>\n",
       "      <th rowspan=\"2\" valign=\"top\">37107</th>\n",
       "      <th>1535111</th>\n",
       "      <td>2</td>\n",
       "    </tr>\n",
       "    <tr>\n",
       "      <th>10637959</th>\n",
       "      <td>2</td>\n",
       "    </tr>\n",
       "    <tr>\n",
       "      <th rowspan=\"4\" valign=\"top\">37210</th>\n",
       "      <th>28450988</th>\n",
       "      <td>2</td>\n",
       "    </tr>\n",
       "    <tr>\n",
       "      <th>30079758</th>\n",
       "      <td>2</td>\n",
       "    </tr>\n",
       "    <tr>\n",
       "      <th>31707318</th>\n",
       "      <td>2</td>\n",
       "    </tr>\n",
       "    <tr>\n",
       "      <th>34314454</th>\n",
       "      <td>2</td>\n",
       "    </tr>\n",
       "  </tbody>\n",
       "</table>\n",
       "<p>969 rows × 1 columns</p>\n",
       "</div>"
      ],
      "text/plain": [
       "                  rating\n",
       "user_id book_id         \n",
       "24      113946         2\n",
       "        196283         2\n",
       "        15944573       2\n",
       "        18874096       2\n",
       "56      20172134       2\n",
       "83      77392          2\n",
       "128     8663303        2\n",
       "280     272447         2\n",
       "389     24178          2\n",
       "487     794230         2\n",
       "494     478356         2\n",
       "784     29212271       2\n",
       "        32819894       2\n",
       "801     34456738       2\n",
       "972     22292490       2\n",
       "1023    6340266        2\n",
       "1029    145383         2\n",
       "1259    116591         2\n",
       "        123805         2\n",
       "        762677         2\n",
       "        1322450        2\n",
       "        1456733        2\n",
       "        2740568        2\n",
       "        9953257        2\n",
       "1379    28250985       2\n",
       "1427    28195          2\n",
       "1468    10365          2\n",
       "        19321          2\n",
       "        38709          2\n",
       "        44186          2\n",
       "...                  ...\n",
       "36568   31319741       2\n",
       "36636   15794580       2\n",
       "        20786366       2\n",
       "        21855274       2\n",
       "        22609279       2\n",
       "        22609855       2\n",
       "        22864855       2\n",
       "        23068261       2\n",
       "        23200486       2\n",
       "        23217710       2\n",
       "        23310695       2\n",
       "        24855325       2\n",
       "        30962057       2\n",
       "        33509392       2\n",
       "        34525408       2\n",
       "36704   33113315       2\n",
       "        33158535       2\n",
       "        34220851       2\n",
       "        36314263       2\n",
       "36754   742272         2\n",
       "36760   878243         2\n",
       "36996   23720749       2\n",
       "37040   3843308        2\n",
       "        21965059       2\n",
       "37107   1535111        2\n",
       "        10637959       2\n",
       "37210   28450988       2\n",
       "        30079758       2\n",
       "        31707318       2\n",
       "        34314454       2\n",
       "\n",
       "[969 rows x 1 columns]"
      ]
     },
     "execution_count": 9,
     "metadata": {},
     "output_type": "execute_result"
    }
   ],
   "source": [
    "# Look for duplicated data\n",
    "\n",
    "train_df[train_df.duplicated(subset=['user_id','book_id'], keep=False)].groupby(['user_id', 'book_id']).count()"
   ]
  },
  {
   "cell_type": "code",
   "execution_count": 10,
   "metadata": {
    "ExecuteTime": {
     "end_time": "2019-04-01T05:40:18.538362Z",
     "start_time": "2019-04-01T05:40:18.367377Z"
    }
   },
   "outputs": [
    {
     "name": "stdout",
     "output_type": "stream",
     "text": [
      "(969, 1)\n"
     ]
    },
    {
     "data": {
      "text/plain": [
       "(1938, 3)"
      ]
     },
     "execution_count": 10,
     "metadata": {},
     "output_type": "execute_result"
    }
   ],
   "source": [
    "# There are 1938/2 = 969 pairs of duplicates\n",
    "print(train_df[train_df.duplicated(subset=['user_id','book_id'], keep=False)].groupby(['user_id', 'book_id']).count().shape)\n",
    "train_df[train_df.duplicated(subset=['user_id','book_id'], keep=False)].shape"
   ]
  },
  {
   "cell_type": "code",
   "execution_count": 11,
   "metadata": {
    "ExecuteTime": {
     "end_time": "2019-04-01T05:40:20.993093Z",
     "start_time": "2019-04-01T05:40:20.897822Z"
    }
   },
   "outputs": [],
   "source": [
    "# drop duplicates\n",
    "train_df.drop_duplicates(subset=['user_id','book_id'], keep='first', inplace=True)"
   ]
  },
  {
   "cell_type": "code",
   "execution_count": 12,
   "metadata": {
    "ExecuteTime": {
     "end_time": "2019-04-01T05:40:21.052928Z",
     "start_time": "2019-04-01T05:40:21.049899Z"
    }
   },
   "outputs": [],
   "source": [
    "# Check shape, should be 700,000 - 969 = 699031\n",
    "assert len(train_df) == 699031"
   ]
  },
  {
   "cell_type": "code",
   "execution_count": 13,
   "metadata": {
    "ExecuteTime": {
     "end_time": "2019-04-01T05:40:21.297471Z",
     "start_time": "2019-04-01T05:40:21.189757Z"
    }
   },
   "outputs": [
    {
     "name": "stdout",
     "output_type": "stream",
     "text": [
      "Number of unique books in training set: 68371\n",
      "Number of unique books in test set: 47672\n",
      "Number of non-intersecting train books and test books: 39501\n",
      "Number of unique books in both train and test set: 77772\n"
     ]
    }
   ],
   "source": [
    "train_books = np.unique(train_df['book_id'])\n",
    "test_books = np.unique(test_df['book_id'])\n",
    "\n",
    "print(\"Number of unique books in training set: {}\".format(len(train_books)))\n",
    "print(\"Number of unique books in test set: {}\".format(len(test_books)))\n",
    "print(\"Number of non-intersecting train books and test books: {}\".format(len(set(list(train_books)).symmetric_difference(set(list(test_books))))))\n",
    "# print(\"Number of non-intersecting train books in test set: {}\".format(np.setdiff1d(train_books, test_books).shape[0]))\n",
    "print(\"Number of unique books in both train and test set: {}\".format(np.unique(np.concatenate((train_books, test_books))).shape[0]))"
   ]
  },
  {
   "cell_type": "code",
   "execution_count": 14,
   "metadata": {
    "ExecuteTime": {
     "end_time": "2019-04-01T05:40:21.353594Z",
     "start_time": "2019-04-01T05:40:21.333633Z"
    }
   },
   "outputs": [
    {
     "name": "stdout",
     "output_type": "stream",
     "text": [
      "Distinct values of ratings: [0 1 2 3 4 5]\n"
     ]
    }
   ],
   "source": [
    "print(\"Distinct values of ratings: {}\".format(np.unique(train_df['rating'])))"
   ]
  },
  {
   "cell_type": "code",
   "execution_count": 15,
   "metadata": {
    "ExecuteTime": {
     "end_time": "2019-04-01T05:40:21.549056Z",
     "start_time": "2019-04-01T05:40:21.473541Z"
    }
   },
   "outputs": [
    {
     "name": "stdout",
     "output_type": "stream",
     "text": [
      "For the users that rated books and the books that were rated:\n",
      "Minimum number of ratings per user is 1\n",
      "Minimum number of ratings per book is 1\n"
     ]
    }
   ],
   "source": [
    "tmp1 = train_df.groupby(\"user_id\")['user_id'].count().min()\n",
    "tmp2 = train_df.groupby(\"book_id\")['book_id'].count().min()\n",
    "print('For the users that rated books and the books that were rated:')\n",
    "print('Minimum number of ratings per user is {}'.format(tmp1))\n",
    "print('Minimum number of ratings per book is {}'.format(tmp2))"
   ]
  },
  {
   "cell_type": "code",
   "execution_count": 16,
   "metadata": {
    "ExecuteTime": {
     "end_time": "2019-04-01T05:40:21.677030Z",
     "start_time": "2019-04-01T05:40:21.618212Z"
    },
    "scrolled": true
   },
   "outputs": [
    {
     "name": "stdout",
     "output_type": "stream",
     "text": [
      "25899 out of 68371 books are rated by only one user\n"
     ]
    }
   ],
   "source": [
    "book_count = sum(train_df.groupby([\"book_id\"])[\"book_id\"].count() == 1)\n",
    "\n",
    "print('{} out of {} books are rated by only one user'.format(book_count, len(train_books)))"
   ]
  },
  {
   "cell_type": "code",
   "execution_count": 17,
   "metadata": {
    "ExecuteTime": {
     "end_time": "2019-04-01T05:40:21.964023Z",
     "start_time": "2019-04-01T05:40:21.757536Z"
    }
   },
   "outputs": [
    {
     "data": {
      "text/plain": [
       "<matplotlib.axes._subplots.AxesSubplot at 0x11af172b0>"
      ]
     },
     "execution_count": 17,
     "metadata": {},
     "output_type": "execute_result"
    },
    {
     "data": {
      "image/png": "[encoded data removed]",
      "text/plain": [
       "<Figure size 432x288 with 1 Axes>"
      ]
     },
     "metadata": {},
     "output_type": "display_data"
    }
   ],
   "source": [
    "# Plot histogram of ratings\n",
    "train_df.rating.hist( bins = 6 )"
   ]
  },
  {
   "cell_type": "code",
   "execution_count": 18,
   "metadata": {
    "ExecuteTime": {
     "end_time": "2019-04-01T05:40:22.012183Z",
     "start_time": "2019-04-01T05:40:21.965925Z"
    },
    "scrolled": true
   },
   "outputs": [
    {
     "name": "stdout",
     "output_type": "stream",
     "text": [
      "Number of 0 ratings: 239026\n",
      "Number of 1 ratings: 4443\n",
      "Number of 2 ratings: 20821\n",
      "Number of 3 ratings: 105017\n",
      "Number of 4 ratings: 160219\n",
      "Number of 5 ratings: 169505\n"
     ]
    }
   ],
   "source": [
    "print(\"Number of 0 ratings: {}\".format(train_df[train_df['rating'] == 0].shape[0]))\n",
    "print(\"Number of 1 ratings: {}\".format(train_df[train_df['rating'] == 1].shape[0]))\n",
    "print(\"Number of 2 ratings: {}\".format(train_df[train_df['rating'] == 2].shape[0]))\n",
    "print(\"Number of 3 ratings: {}\".format(train_df[train_df['rating'] == 3].shape[0]))\n",
    "print(\"Number of 4 ratings: {}\".format(train_df[train_df['rating'] == 4].shape[0]))\n",
    "print(\"Number of 5 ratings: {}\".format(train_df[train_df['rating'] == 5].shape[0]))"
   ]
  },
  {
   "cell_type": "markdown",
   "metadata": {},
   "source": [
    "**There are a lot of \"0\" ratings, and relatively low \"1\" and \"2\" ratings.**"
   ]
  },
  {
   "cell_type": "markdown",
   "metadata": {},
   "source": [
    "### Reviews per book\n",
    "\n",
    "Most books have few ratings (1-5 ratings)."
   ]
  },
  {
   "cell_type": "code",
   "execution_count": 19,
   "metadata": {
    "ExecuteTime": {
     "end_time": "2019-04-01T05:40:26.212913Z",
     "start_time": "2019-04-01T05:40:22.305393Z"
    }
   },
   "outputs": [
    {
     "data": {
      "text/plain": [
       "count    68371.000000\n",
       "mean        10.224086\n",
       "std         93.950140\n",
       "min          1.000000\n",
       "25%          1.000000\n",
       "50%          2.000000\n",
       "75%          5.000000\n",
       "max      11204.000000\n",
       "Name: book_id, dtype: float64"
      ]
     },
     "execution_count": 19,
     "metadata": {},
     "output_type": "execute_result"
    }
   ],
   "source": [
    "# Reviews per book\n",
    "reviews_per_book = train_df.groupby( 'book_id' ).book_id.apply( lambda x: len( x ))\n",
    "reviews_per_book.describe()"
   ]
  },
  {
   "cell_type": "markdown",
   "metadata": {},
   "source": [
    "### Reviews per user\n",
    "\n",
    "Most users have few ratings (1-16 ratings)."
   ]
  },
  {
   "cell_type": "code",
   "execution_count": 20,
   "metadata": {
    "ExecuteTime": {
     "end_time": "2019-04-01T05:40:28.326371Z",
     "start_time": "2019-04-01T05:40:26.215209Z"
    }
   },
   "outputs": [
    {
     "data": {
      "text/plain": [
       "count    35280.000000\n",
       "mean        19.813804\n",
       "std         70.318794\n",
       "min          1.000000\n",
       "25%          2.000000\n",
       "50%          6.000000\n",
       "75%         16.000000\n",
       "max       4287.000000\n",
       "Name: user_id, dtype: float64"
      ]
     },
     "execution_count": 20,
     "metadata": {},
     "output_type": "execute_result"
    }
   ],
   "source": [
    "reviews_per_user = train_df.groupby( 'user_id' ).user_id.apply( lambda x: len( x ))\n",
    "reviews_per_user.describe()"
   ]
  },
  {
   "cell_type": "markdown",
   "metadata": {},
   "source": [
    "## Book Metadata \n",
    "\n",
    "- There are multiple languages, not just English\n",
    "- There are missing descriptions of books, and also the descriptions contain html tags.\n",
    "- There are multiple authors per book (illustrators)\n",
    "- Potentially important columns to use for analysis:\n",
    "    - `description`, `average_rating`, `authors`, `popular_shelves`, `ratings_count`, `num_pages`, `text_reviews_count`\n",
    "- Get book title from url?\n",
    "- Use NLP to process book titles and descriptions using basic BoW"
   ]
  },
  {
   "cell_type": "code",
   "execution_count": 21,
   "metadata": {
    "ExecuteTime": {
     "end_time": "2019-04-01T05:40:28.353066Z",
     "start_time": "2019-04-01T05:40:28.328427Z"
    }
   },
   "outputs": [
    {
     "data": {
      "text/html": [
       "<div>\n",
       "<style scoped>\n",
       "    .dataframe tbody tr th:only-of-type {\n",
       "        vertical-align: middle;\n",
       "    }\n",
       "\n",
       "    .dataframe tbody tr th {\n",
       "        vertical-align: top;\n",
       "    }\n",
       "\n",
       "    .dataframe thead th {\n",
       "        text-align: right;\n",
       "    }\n",
       "</style>\n",
       "<table border=\"1\" class=\"dataframe\">\n",
       "  <thead>\n",
       "    <tr style=\"text-align: right;\">\n",
       "      <th></th>\n",
       "      <th>asin</th>\n",
       "      <th>authors</th>\n",
       "      <th>average_rating</th>\n",
       "      <th>book_id</th>\n",
       "      <th>country_code</th>\n",
       "      <th>description</th>\n",
       "      <th>edition_information</th>\n",
       "      <th>format</th>\n",
       "      <th>image_url</th>\n",
       "      <th>is_ebook</th>\n",
       "      <th>...</th>\n",
       "      <th>publication_day</th>\n",
       "      <th>publication_month</th>\n",
       "      <th>publication_year</th>\n",
       "      <th>publisher</th>\n",
       "      <th>ratings_count</th>\n",
       "      <th>series</th>\n",
       "      <th>similar_books</th>\n",
       "      <th>text_reviews_count</th>\n",
       "      <th>url</th>\n",
       "      <th>work_id</th>\n",
       "    </tr>\n",
       "  </thead>\n",
       "  <tbody>\n",
       "    <tr>\n",
       "      <th>0</th>\n",
       "      <td></td>\n",
       "      <td>[{'author_id': '3041852', 'role': ''}]</td>\n",
       "      <td>4.13</td>\n",
       "      <td>287141</td>\n",
       "      <td>US</td>\n",
       "      <td>Relates in vigorous prose the tale of Aeneas, ...</td>\n",
       "      <td></td>\n",
       "      <td>Paperback</td>\n",
       "      <td>https://s.gr-assets.com/assets/nophoto/book/11...</td>\n",
       "      <td>false</td>\n",
       "      <td>...</td>\n",
       "      <td>13</td>\n",
       "      <td>9</td>\n",
       "      <td>2006</td>\n",
       "      <td>Yesterday's Classics</td>\n",
       "      <td>46</td>\n",
       "      <td>[]</td>\n",
       "      <td>[]</td>\n",
       "      <td>7</td>\n",
       "      <td>https://www.goodreads.com/book/show/287141.The...</td>\n",
       "      <td>278578</td>\n",
       "    </tr>\n",
       "    <tr>\n",
       "      <th>1</th>\n",
       "      <td></td>\n",
       "      <td>[{'author_id': '19158', 'role': ''}]</td>\n",
       "      <td>4.22</td>\n",
       "      <td>6066812</td>\n",
       "      <td>US</td>\n",
       "      <td>&lt;br /&gt;&lt;p&gt;To Kara's astonishment, she discovers...</td>\n",
       "      <td></td>\n",
       "      <td>Paperback</td>\n",
       "      <td>https://images.gr-assets.com/books/1316637798m...</td>\n",
       "      <td>false</td>\n",
       "      <td>...</td>\n",
       "      <td>3</td>\n",
       "      <td>3</td>\n",
       "      <td>2009</td>\n",
       "      <td>Seven Seas</td>\n",
       "      <td>98</td>\n",
       "      <td>[s151854]</td>\n",
       "      <td>[948696, 439885, 274955, 12978730, 372986, 216...</td>\n",
       "      <td>6</td>\n",
       "      <td>https://www.goodreads.com/book/show/6066812-al...</td>\n",
       "      <td>701117</td>\n",
       "    </tr>\n",
       "  </tbody>\n",
       "</table>\n",
       "<p>2 rows × 27 columns</p>\n",
       "</div>"
      ],
      "text/plain": [
       "  asin                                 authors average_rating  book_id  \\\n",
       "0       [{'author_id': '3041852', 'role': ''}]           4.13   287141   \n",
       "1         [{'author_id': '19158', 'role': ''}]           4.22  6066812   \n",
       "\n",
       "  country_code                                        description  \\\n",
       "0           US  Relates in vigorous prose the tale of Aeneas, ...   \n",
       "1           US  <br /><p>To Kara's astonishment, she discovers...   \n",
       "\n",
       "  edition_information     format  \\\n",
       "0                      Paperback   \n",
       "1                      Paperback   \n",
       "\n",
       "                                           image_url is_ebook   ...    \\\n",
       "0  https://s.gr-assets.com/assets/nophoto/book/11...    false   ...     \n",
       "1  https://images.gr-assets.com/books/1316637798m...    false   ...     \n",
       "\n",
       "  publication_day publication_month publication_year             publisher  \\\n",
       "0              13                 9             2006  Yesterday's Classics   \n",
       "1               3                 3             2009            Seven Seas   \n",
       "\n",
       "  ratings_count     series                                      similar_books  \\\n",
       "0            46         []                                                 []   \n",
       "1            98  [s151854]  [948696, 439885, 274955, 12978730, 372986, 216...   \n",
       "\n",
       "  text_reviews_count                                                url  \\\n",
       "0                  7  https://www.goodreads.com/book/show/287141.The...   \n",
       "1                  6  https://www.goodreads.com/book/show/6066812-al...   \n",
       "\n",
       "  work_id  \n",
       "0  278578  \n",
       "1  701117  \n",
       "\n",
       "[2 rows x 27 columns]"
      ]
     },
     "execution_count": 21,
     "metadata": {},
     "output_type": "execute_result"
    }
   ],
   "source": [
    "book_df.head(2)"
   ]
  },
  {
   "cell_type": "code",
   "execution_count": 22,
   "metadata": {
    "ExecuteTime": {
     "end_time": "2019-04-01T05:40:28.359448Z",
     "start_time": "2019-04-01T05:40:28.355330Z"
    }
   },
   "outputs": [
    {
     "name": "stdout",
     "output_type": "stream",
     "text": [
      "Index(['asin', 'authors', 'average_rating', 'book_id', 'country_code',\n",
      "       'description', 'edition_information', 'format', 'image_url', 'is_ebook',\n",
      "       'isbn', 'isbn13', 'kindle_asin', 'language_code', 'link', 'num_pages',\n",
      "       'popular_shelves', 'publication_day', 'publication_month',\n",
      "       'publication_year', 'publisher', 'ratings_count', 'series',\n",
      "       'similar_books', 'text_reviews_count', 'url', 'work_id'],\n",
      "      dtype='object')\n"
     ]
    }
   ],
   "source": [
    "print(book_df.columns)"
   ]
  },
  {
   "cell_type": "code",
   "execution_count": 23,
   "metadata": {
    "ExecuteTime": {
     "end_time": "2019-04-01T05:40:28.809133Z",
     "start_time": "2019-04-01T05:40:28.361922Z"
    }
   },
   "outputs": [],
   "source": [
    "book_df['average_rating'] = book_df['average_rating'].astype(float)\n",
    "book_df['ratings_count'] = book_df['ratings_count'].astype(int)\n",
    "book_df['text_reviews_count'] = book_df['text_reviews_count'].astype(int)"
   ]
  },
  {
   "cell_type": "markdown",
   "metadata": {},
   "source": [
    "### Average rating column"
   ]
  },
  {
   "cell_type": "code",
   "execution_count": 24,
   "metadata": {
    "ExecuteTime": {
     "end_time": "2019-04-01T05:40:28.838020Z",
     "start_time": "2019-04-01T05:40:28.812975Z"
    }
   },
   "outputs": [
    {
     "data": {
      "text/plain": [
       "count    124082.000000\n",
       "mean          3.910883\n",
       "std           0.364855\n",
       "min           0.000000\n",
       "25%           3.710000\n",
       "50%           3.940000\n",
       "75%           4.140000\n",
       "max           5.000000\n",
       "Name: average_rating, dtype: float64"
      ]
     },
     "execution_count": 24,
     "metadata": {},
     "output_type": "execute_result"
    }
   ],
   "source": [
    "book_df['average_rating'].describe()"
   ]
  },
  {
   "cell_type": "code",
   "execution_count": 25,
   "metadata": {
    "ExecuteTime": {
     "end_time": "2019-04-01T05:40:28.857194Z",
     "start_time": "2019-04-01T05:40:28.841096Z"
    }
   },
   "outputs": [
    {
     "name": "stdout",
     "output_type": "stream",
     "text": [
      "Number of books with 0 rating: 23\n",
      "Number of books with 5 rating: 393\n"
     ]
    }
   ],
   "source": [
    "print(\"Number of books with 0 rating: {}\".format(len(book_df[book_df['average_rating'] == 0])))\n",
    "print(\"Number of books with 5 rating: {}\".format(len(book_df[book_df['average_rating'] == 5])))"
   ]
  },
  {
   "cell_type": "code",
   "execution_count": 26,
   "metadata": {
    "ExecuteTime": {
     "end_time": "2019-04-01T05:40:29.059115Z",
     "start_time": "2019-04-01T05:40:28.860370Z"
    }
   },
   "outputs": [
    {
     "data": {
      "text/plain": [
       "<matplotlib.axes._subplots.AxesSubplot at 0x11b1875f8>"
      ]
     },
     "execution_count": 26,
     "metadata": {},
     "output_type": "execute_result"
    },
    {
     "data": {
      "image/png": "[encoded data removed]",
      "text/plain": [
       "<Figure size 432x288 with 1 Axes>"
      ]
     },
     "metadata": {},
     "output_type": "display_data"
    }
   ],
   "source": [
    "book_df['average_rating'].hist(bins=5)"
   ]
  },
  {
   "cell_type": "markdown",
   "metadata": {},
   "source": [
    "### Ratings count column"
   ]
  },
  {
   "cell_type": "code",
   "execution_count": 27,
   "metadata": {
    "ExecuteTime": {
     "end_time": "2019-04-01T05:40:29.081306Z",
     "start_time": "2019-04-01T05:40:29.061616Z"
    }
   },
   "outputs": [
    {
     "data": {
      "text/plain": [
       "count    1.240820e+05\n",
       "mean     5.228165e+02\n",
       "std      1.083869e+04\n",
       "min      0.000000e+00\n",
       "25%      1.000000e+01\n",
       "50%      3.000000e+01\n",
       "75%      9.600000e+01\n",
       "max      1.876252e+06\n",
       "Name: ratings_count, dtype: float64"
      ]
     },
     "execution_count": 27,
     "metadata": {},
     "output_type": "execute_result"
    }
   ],
   "source": [
    "book_df['ratings_count'].describe()"
   ]
  },
  {
   "cell_type": "markdown",
   "metadata": {},
   "source": [
    "### Text reviews count column"
   ]
  },
  {
   "cell_type": "code",
   "execution_count": 28,
   "metadata": {
    "ExecuteTime": {
     "end_time": "2019-04-01T05:40:29.098669Z",
     "start_time": "2019-04-01T05:40:29.083615Z"
    }
   },
   "outputs": [
    {
     "data": {
      "text/plain": [
       "count    124082.000000\n",
       "mean         27.086209\n",
       "std         266.547028\n",
       "min           0.000000\n",
       "25%           2.000000\n",
       "50%           5.000000\n",
       "75%          15.000000\n",
       "max       49850.000000\n",
       "Name: text_reviews_count, dtype: float64"
      ]
     },
     "execution_count": 28,
     "metadata": {},
     "output_type": "execute_result"
    }
   ],
   "source": [
    "book_df['text_reviews_count'].describe()"
   ]
  },
  {
   "cell_type": "markdown",
   "metadata": {},
   "source": [
    "### Book IDs"
   ]
  },
  {
   "cell_type": "code",
   "execution_count": 29,
   "metadata": {
    "ExecuteTime": {
     "end_time": "2019-04-01T05:40:29.280184Z",
     "start_time": "2019-04-01T05:40:29.100910Z"
    }
   },
   "outputs": [],
   "source": [
    "book_df['book_id'] = book_df['book_id'].astype(int)"
   ]
  },
  {
   "cell_type": "code",
   "execution_count": 30,
   "metadata": {
    "ExecuteTime": {
     "end_time": "2019-04-01T05:40:29.300892Z",
     "start_time": "2019-04-01T05:40:29.284035Z"
    }
   },
   "outputs": [],
   "source": [
    "book_df_ids = np.unique(book_df['book_id'].values)"
   ]
  },
  {
   "cell_type": "code",
   "execution_count": 31,
   "metadata": {
    "ExecuteTime": {
     "end_time": "2019-04-01T05:40:29.308806Z",
     "start_time": "2019-04-01T05:40:29.304567Z"
    }
   },
   "outputs": [
    {
     "name": "stdout",
     "output_type": "stream",
     "text": [
      "Number of unique books in metadata: 124082\n"
     ]
    }
   ],
   "source": [
    "print(\"Number of unique books in metadata: {}\".format(len(book_df_ids)))"
   ]
  },
  {
   "cell_type": "code",
   "execution_count": 32,
   "metadata": {
    "ExecuteTime": {
     "end_time": "2019-04-01T05:40:29.338092Z",
     "start_time": "2019-04-01T05:40:29.311539Z"
    }
   },
   "outputs": [
    {
     "name": "stdout",
     "output_type": "stream",
     "text": [
      "Number of non-intersecting books in metadata not contained in train data: 0\n",
      "Number of non-intersecting books in metadata not contained in test data: 0\n"
     ]
    }
   ],
   "source": [
    "print(\"Number of non-intersecting books in metadata not contained in train data: {}\".format(\n",
    "    np.setdiff1d(train_books, book_df_ids).shape[0]))\n",
    "\n",
    "print(\"Number of non-intersecting books in metadata not contained in test data: {}\".format(\n",
    "    np.setdiff1d(test_books, book_df_ids).shape[0]))"
   ]
  },
  {
   "cell_type": "markdown",
   "metadata": {},
   "source": [
    "### Work IDs\n",
    "\n",
    "- Just to check if whether book_id or work_id in book metadata map to the train/test sets"
   ]
  },
  {
   "cell_type": "code",
   "execution_count": 33,
   "metadata": {
    "ExecuteTime": {
     "end_time": "2019-04-01T05:40:29.518029Z",
     "start_time": "2019-04-01T05:40:29.340624Z"
    }
   },
   "outputs": [],
   "source": [
    "book_df['work_id'] = book_df['work_id'].astype(int)"
   ]
  },
  {
   "cell_type": "code",
   "execution_count": 34,
   "metadata": {
    "ExecuteTime": {
     "end_time": "2019-04-01T05:40:29.539515Z",
     "start_time": "2019-04-01T05:40:29.521133Z"
    }
   },
   "outputs": [],
   "source": [
    "book_df_work_ids = np.unique(book_df['work_id'].values)"
   ]
  },
  {
   "cell_type": "code",
   "execution_count": 35,
   "metadata": {
    "ExecuteTime": {
     "end_time": "2019-04-01T05:40:29.569056Z",
     "start_time": "2019-04-01T05:40:29.544091Z"
    }
   },
   "outputs": [
    {
     "name": "stdout",
     "output_type": "stream",
     "text": [
      "Number of non-intersecting books in metadata not contained in train data: 67865\n",
      "Number of non-intersecting books in metadata not contained in test data: 47323\n"
     ]
    }
   ],
   "source": [
    "print(\"Number of non-intersecting books in metadata not contained in train data: {}\".format(\n",
    "    np.setdiff1d(train_books, book_df_work_ids).shape[0]))\n",
    "\n",
    "print(\"Number of non-intersecting books in metadata not contained in test data: {}\".format(\n",
    "    np.setdiff1d(test_books, book_df_work_ids).shape[0]))"
   ]
  },
  {
   "cell_type": "code",
   "execution_count": null,
   "metadata": {},
   "outputs": [],
   "source": []
  }
 ],
 "metadata": {
  "kernelspec": {
   "display_name": "Python 3",
   "language": "python",
   "name": "python3"
  },
  "language_info": {
   "codemirror_mode": {
    "name": "ipython",
    "version": 3
   },
   "file_extension": ".py",
   "mimetype": "text/x-python",
   "name": "python",
   "nbconvert_exporter": "python",
   "pygments_lexer": "ipython3",
   "version": "3.6.5"
  }
 },
 "nbformat": 4,
 "nbformat_minor": 2
}
