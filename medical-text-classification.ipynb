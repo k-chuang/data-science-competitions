{
 "cells": [
  {
   "cell_type": "markdown",
   "metadata": {},
   "source": [
    "# PR1: Medical Text Classification\n",
    "\n",
    "* Author: Kevin Chuang [@k-chuang](https://www.github.com/k-chuang)\n",
    "* Created on: September 21, 2018\n",
    "* Description: Given a medical abstract, classify condition of patient (5 classes) using K-Nearest Neighbors.\n",
    "\n",
    "-----------"
   ]
  },
  {
   "cell_type": "markdown",
   "metadata": {},
   "source": [
    "## Import libraries"
   ]
  },
  {
   "cell_type": "code",
   "execution_count": 1,
   "metadata": {
    "ExecuteTime": {
     "end_time": "2018-09-24T07:43:35.825084Z",
     "start_time": "2018-09-24T07:43:34.425368Z"
    }
   },
   "outputs": [],
   "source": [
    "__author__ = 'Kevin Chuang (https://www.github.com/k-chuang)' \n",
    "\n",
    "# linear algebra\n",
    "import numpy as np \n",
    "\n",
    "# data processing\n",
    "import pandas as pd \n",
    "\n",
    "# data visualization\n",
    "import seaborn as sns\n",
    "from matplotlib import pyplot as plt\n",
    "from matplotlib import style\n",
    "\n",
    "# Text Feature Extraction\n",
    "from sklearn.feature_extraction.text import CountVectorizer, TfidfVectorizer, ENGLISH_STOP_WORDS\n",
    "\n",
    "# Feature Selection\n",
    "from sklearn.feature_selection import SelectKBest, chi2\n",
    "\n",
    "# Natural Language Processing\n",
    "from nltk import word_tokenize, WordNetLemmatizer\n",
    "from nltk.corpus import stopwords \n",
    "from nltk.stem import PorterStemmer\n",
    "from nltk.stem.snowball import SnowballStemmer\n",
    "from nltk.stem.lancaster import LancasterStemmer\n",
    "\n",
    "# Metrics\n",
    "from sklearn.metrics import f1_score\n",
    "\n",
    "# Utilities\n",
    "import string\n",
    "import math\n",
    "from operator import itemgetter \n",
    "from collections import Counter, defaultdict\n",
    "from scipy.sparse import csr_matrix\n",
    "import scipy.sparse as sp\n",
    "\n",
    "%matplotlib inline\n",
    "\n",
    "\n",
    "sns.set(rc={\"figure.figsize\": (20.0, 10.0), \"axes.labelsize\": 14})\n",
    "\n",
    "# sns.set_context(\"poster\")"
   ]
  },
  {
   "cell_type": "markdown",
   "metadata": {},
   "source": [
    "## Load data"
   ]
  },
  {
   "cell_type": "code",
   "execution_count": 2,
   "metadata": {
    "ExecuteTime": {
     "end_time": "2018-09-24T07:43:36.298499Z",
     "start_time": "2018-09-24T07:43:35.827833Z"
    }
   },
   "outputs": [],
   "source": [
    "train_df = pd.read_csv('data/train.dat', sep='\\t', header=None, names=['Label', 'Abstract'])\n",
    "test_df = pd.read_csv('data/test.dat', sep='\\t', header=None, names=['Abstract'])\n",
    "submission_df = pd.read_csv('data/format.dat', header=None, names=['Labels'])"
   ]
  },
  {
   "cell_type": "code",
   "execution_count": 3,
   "metadata": {
    "ExecuteTime": {
     "end_time": "2018-09-24T07:43:36.316383Z",
     "start_time": "2018-09-24T07:43:36.300831Z"
    }
   },
   "outputs": [
    {
     "data": {
      "text/html": [
       "<div>\n",
       "<style scoped>\n",
       "    .dataframe tbody tr th:only-of-type {\n",
       "        vertical-align: middle;\n",
       "    }\n",
       "\n",
       "    .dataframe tbody tr th {\n",
       "        vertical-align: top;\n",
       "    }\n",
       "\n",
       "    .dataframe thead th {\n",
       "        text-align: right;\n",
       "    }\n",
       "</style>\n",
       "<table border=\"1\" class=\"dataframe\">\n",
       "  <thead>\n",
       "    <tr style=\"text-align: right;\">\n",
       "      <th></th>\n",
       "      <th>Label</th>\n",
       "      <th>Abstract</th>\n",
       "    </tr>\n",
       "  </thead>\n",
       "  <tbody>\n",
       "    <tr>\n",
       "      <th>0</th>\n",
       "      <td>4</td>\n",
       "      <td>Catheterization laboratory events and hospital...</td>\n",
       "    </tr>\n",
       "    <tr>\n",
       "      <th>1</th>\n",
       "      <td>5</td>\n",
       "      <td>Renal abscess in children. Three cases of rena...</td>\n",
       "    </tr>\n",
       "    <tr>\n",
       "      <th>2</th>\n",
       "      <td>2</td>\n",
       "      <td>Hyperplastic polyps seen at sigmoidoscopy are ...</td>\n",
       "    </tr>\n",
       "    <tr>\n",
       "      <th>3</th>\n",
       "      <td>5</td>\n",
       "      <td>Subclavian artery to innominate vein fistula a...</td>\n",
       "    </tr>\n",
       "    <tr>\n",
       "      <th>4</th>\n",
       "      <td>4</td>\n",
       "      <td>Effect of local inhibition of gamma-aminobutyr...</td>\n",
       "    </tr>\n",
       "  </tbody>\n",
       "</table>\n",
       "</div>"
      ],
      "text/plain": [
       "   Label                                           Abstract\n",
       "0      4  Catheterization laboratory events and hospital...\n",
       "1      5  Renal abscess in children. Three cases of rena...\n",
       "2      2  Hyperplastic polyps seen at sigmoidoscopy are ...\n",
       "3      5  Subclavian artery to innominate vein fistula a...\n",
       "4      4  Effect of local inhibition of gamma-aminobutyr..."
      ]
     },
     "execution_count": 3,
     "metadata": {},
     "output_type": "execute_result"
    }
   ],
   "source": [
    "train_df.head()"
   ]
  },
  {
   "cell_type": "code",
   "execution_count": 4,
   "metadata": {
    "ExecuteTime": {
     "end_time": "2018-09-24T07:43:36.327765Z",
     "start_time": "2018-09-24T07:43:36.318666Z"
    }
   },
   "outputs": [
    {
     "data": {
      "text/html": [
       "<div>\n",
       "<style scoped>\n",
       "    .dataframe tbody tr th:only-of-type {\n",
       "        vertical-align: middle;\n",
       "    }\n",
       "\n",
       "    .dataframe tbody tr th {\n",
       "        vertical-align: top;\n",
       "    }\n",
       "\n",
       "    .dataframe thead th {\n",
       "        text-align: right;\n",
       "    }\n",
       "</style>\n",
       "<table border=\"1\" class=\"dataframe\">\n",
       "  <thead>\n",
       "    <tr style=\"text-align: right;\">\n",
       "      <th></th>\n",
       "      <th>Abstract</th>\n",
       "    </tr>\n",
       "  </thead>\n",
       "  <tbody>\n",
       "    <tr>\n",
       "      <th>0</th>\n",
       "      <td>Excision of limbal dermoids. We reviewed the c...</td>\n",
       "    </tr>\n",
       "    <tr>\n",
       "      <th>1</th>\n",
       "      <td>Bell's palsy. A diagnosis of exclusion. In cas...</td>\n",
       "    </tr>\n",
       "    <tr>\n",
       "      <th>2</th>\n",
       "      <td>Retained endobronchial foreign body removal fa...</td>\n",
       "    </tr>\n",
       "    <tr>\n",
       "      <th>3</th>\n",
       "      <td>Recurrent buccal space abscesses: a complicati...</td>\n",
       "    </tr>\n",
       "    <tr>\n",
       "      <th>4</th>\n",
       "      <td>Intracranial fibromatosis. Fibromatoses are un...</td>\n",
       "    </tr>\n",
       "  </tbody>\n",
       "</table>\n",
       "</div>"
      ],
      "text/plain": [
       "                                            Abstract\n",
       "0  Excision of limbal dermoids. We reviewed the c...\n",
       "1  Bell's palsy. A diagnosis of exclusion. In cas...\n",
       "2  Retained endobronchial foreign body removal fa...\n",
       "3  Recurrent buccal space abscesses: a complicati...\n",
       "4  Intracranial fibromatosis. Fibromatoses are un..."
      ]
     },
     "execution_count": 4,
     "metadata": {},
     "output_type": "execute_result"
    }
   ],
   "source": [
    "test_df.head()"
   ]
  },
  {
   "cell_type": "markdown",
   "metadata": {},
   "source": [
    "## Data Exploration\n",
    "\n",
    "- View a sample of the medical abstract text\n",
    "- Read through it, and I definitely had to Google some terminology\n",
    "    - Initial observations of medical abstract text\n",
    "        - There are a lot of complex medical terms (e.g. acute myocardial infarction) \n",
    "        - There seems to be a lot of n = some integer (e.g. n = 100)\n",
    "        - There seems to be a lot of percentages (e.g. 55%)\n",
    "- Imbalanced Classes\n",
    "    - Conventional algorithms are often biased towards the majority class, not taking the data distribution into consideration.\n",
    "    - Need configure model or artifically balance the dataset (oversampling under-represented classes and undersampling over-represented classes)\n",
    "- Classes?\n",
    "    - 1: Neoplasms\n",
    "    - 2: Digestive System Diseases\n",
    "    - 3: Nervous System Diseases\n",
    "    - 4: Cardiovascular Diseases\n",
    "    - 5: General Pathological conditions"
   ]
  },
  {
   "cell_type": "code",
   "execution_count": 5,
   "metadata": {
    "ExecuteTime": {
     "end_time": "2018-09-24T07:43:36.338670Z",
     "start_time": "2018-09-24T07:43:36.330416Z"
    }
   },
   "outputs": [
    {
     "data": {
      "text/plain": [
       "0"
      ]
     },
     "execution_count": 5,
     "metadata": {},
     "output_type": "execute_result"
    }
   ],
   "source": [
    "# Check for null abstracts\n",
    "train_df.Abstract.isnull().sum()"
   ]
  },
  {
   "cell_type": "code",
   "execution_count": 6,
   "metadata": {
    "ExecuteTime": {
     "end_time": "2018-09-24T07:43:36.348965Z",
     "start_time": "2018-09-24T07:43:36.342432Z"
    }
   },
   "outputs": [
    {
     "data": {
      "text/plain": [
       "0"
      ]
     },
     "execution_count": 6,
     "metadata": {},
     "output_type": "execute_result"
    }
   ],
   "source": [
    "# Check for null labels\n",
    "train_df.Label.isnull().sum()"
   ]
  },
  {
   "cell_type": "code",
   "execution_count": 7,
   "metadata": {
    "ExecuteTime": {
     "end_time": "2018-09-24T07:43:36.358100Z",
     "start_time": "2018-09-24T07:43:36.351321Z"
    }
   },
   "outputs": [
    {
     "data": {
      "text/plain": [
       "'Catheterization laboratory events and hospital outcome with direct angioplasty for acute myocardial infarction To assess the safety of direct infarct angioplasty without antecedent thrombolytic therapy, catheterization laboratory and hospital events were assessed in consecutively treated patients with infarctions involving the left anterior descending (n = 100 patients), right (n = 100), and circumflex (n = 50) coronary arteries. The groups of patients were similar for age (left anterior descending coronary artery, 59 years; right coronary artery, 58 years; circumflex coronary artery, 62 years), patients with multivessel disease (left anterior descending coronary artery, 55%; right coronary artery, 55%; circumflex coronary artery, 64%), and patients with initial grade 0/1 antegrade flow (left anterior descending coronary artery, 79%; right coronary artery, 84%; circumflex coronary artery, 90%). Cardiogenic shock was present in eight patients with infarction of the left anterior descending coronary artery, four with infarction of the right coronary artery, and four with infarction of the circumflex coronary artery. Major catheterization laboratory events (cardioversion, cardiopulmonary resuscitation, dopamine or intra-aortic balloon pump support for hypotension, and urgent surgery) occurred in 10 patients with infarction of the left anterior descending coronary artery, eight with infarction of the right coronary artery, and four with infarction of the circumflex coronary artery (16 of 16 shock and six of 234 nonshock patients, p less than 0.001). There was one in-laboratory death (shock patient with infarction of the left anterior descending coronary artery). '"
      ]
     },
     "execution_count": 7,
     "metadata": {},
     "output_type": "execute_result"
    }
   ],
   "source": [
    "train_df['Abstract'][0]"
   ]
  },
  {
   "cell_type": "code",
   "execution_count": 8,
   "metadata": {
    "ExecuteTime": {
     "end_time": "2018-09-24T07:43:36.364710Z",
     "start_time": "2018-09-24T07:43:36.360384Z"
    }
   },
   "outputs": [
    {
     "data": {
      "text/plain": [
       "'Renal abscess in children. Three cases of renal abscesses in children are described to illustrate the variable presenting features. An additional 23 pediatric cases, reported over the past ten years, were reviewed for clinical features and therapy. Fever, loin pain, and leukocytosis were common presenting features, but less than half of all abscesses were associated with either an abnormal urinalysis or a positive urine culture. The presenting features were sometimes confused with appendicitis, peritonitis, or a Wilms tumor. An organism was identified in 17 cases--Escherichia coli in 9 children and Staphylococcus aureus in 8 children. The majority of E. coli infections occurred in girls and the majority of S. aureus infections occurred in boys. Reflux was documented in 5 patients, and 2 children had a possible extrarenal source of infection. Antibiotics alone produced a cure in 10 children (38%), but 16 children (62%) required a surgical procedure. '"
      ]
     },
     "execution_count": 8,
     "metadata": {},
     "output_type": "execute_result"
    }
   ],
   "source": [
    "train_df['Abstract'][1]"
   ]
  },
  {
   "cell_type": "code",
   "execution_count": 9,
   "metadata": {
    "ExecuteTime": {
     "end_time": "2018-09-24T07:43:36.373963Z",
     "start_time": "2018-09-24T07:43:36.366864Z"
    }
   },
   "outputs": [
    {
     "data": {
      "text/plain": [
       "5    4805\n",
       "1    3163\n",
       "4    3051\n",
       "3    1925\n",
       "2    1494\n",
       "Name: Label, dtype: int64"
      ]
     },
     "execution_count": 9,
     "metadata": {},
     "output_type": "execute_result"
    }
   ],
   "source": [
    "# Imbalanced classes\n",
    "\n",
    "train_df['Label'].value_counts()"
   ]
  },
  {
   "cell_type": "code",
   "execution_count": 10,
   "metadata": {
    "ExecuteTime": {
     "end_time": "2018-09-24T07:43:36.519184Z",
     "start_time": "2018-09-24T07:43:36.375753Z"
    },
    "scrolled": true
   },
   "outputs": [
    {
     "data": {
      "image/png": "[encoded data removed]",
      "text/plain": [
       "<Figure size 432x288 with 1 Axes>"
      ]
     },
     "metadata": {},
     "output_type": "display_data"
    }
   ],
   "source": [
    "# Visualize the imbalanced classes\n",
    "sns.countplot(x='Label', data=train_df);"
   ]
  },
  {
   "cell_type": "markdown",
   "metadata": {},
   "source": [
    "## Data Preprocessing\n",
    "\n",
    "- Going to use `Bag of Words` approach\n",
    "    - presence of words (frequency or count) is taken into consideration & order is ignored\n",
    "    - BOW basically breaks up the note into the individual words and counts how many times each word occurs.\n",
    "- Tokenizer and a vectorizer. \n",
    "    - The tokenizer breaks a single abstract into a list of words and a vectorizer takes a list of words and counts the words.\n",
    "- `Tokenizer`:\n",
    "    - Remove punctuation & numbers\n",
    "    - Lowercase everything\n",
    "    - Two approaches for tokenization\n",
    "        - Goal is reduce inflectional forms and sometimes derivationally related forms of a word to a common base form.\n",
    "        - Lemmatize all the text (e.g. women will become woman)\n",
    "            - Lemmatization is the process of converting the words of a sentence to its dictionary form. \n",
    "        - Stem all the text\n",
    "            - Stemming is the process of converting words to the stem (root) of the word\n",
    "- `Vectorizer`:\n",
    "    - General process of turning a collection of text documents into numerical feature vectors. \n",
    "    - This specific strategy (tokenization, counting and normalization) is called the Bag of Words or “Bag of n-grams” representation. \n",
    "    - Documents are described by word occurrences while completely ignoring the relative position information of the words in the document.\n",
    "    - `CountVectorizer`\n",
    "        - Encodes a vector with a length of the entire vocabulary and an integer count for the number of times each word appeared in the document.\n",
    "        - `vocabulary_` is a dict/mapping of the terms to their indices in the document-term matrix, not the counts.\n",
    "    - `TfidfVectorizer`\n",
    "        - Convert a collection of raw documents to a matrix of TF-IDF features.\n",
    "            - Normalizing and weighting with diminishing importance tokens that occur in the majority of samples / documents.\n",
    "        - TF-IDF are word frequency scores that try to highlight words that are more interesting, e.g. frequent in a document but not across documents.\n",
    "            - *This can be extremely useful for this problem, since we have 5 categories we are trying to classify and thus certain categories (medical conditions) may have words in the medical abstract that are unique to the condition*\n",
    "        - The resulting tf-idf vectors are then normalized by the Euclidean norm (L2)\n",
    "        - **Since the medical text data have a lot of multi-word expressions (e.g. *left anterior descending coronary artery*), I will use N-grams (where N >= 1) to keep the local positioning of these important words **\n",
    "            - Experimented with N-grams, and it seems 1-gram, 2-gram, 3-gram, and 4-grams produce best results"
   ]
  },
  {
   "cell_type": "code",
   "execution_count": 11,
   "metadata": {
    "ExecuteTime": {
     "end_time": "2018-09-24T07:43:36.575019Z",
     "start_time": "2018-09-24T07:43:36.521202Z"
    }
   },
   "outputs": [],
   "source": [
    "def tokenizer(text):\n",
    "    '''Tokenize text into a list of preprocessed words '''\n",
    "    \n",
    "    # Create a string with all punctuations & digits concatenated\n",
    "    num_and_punc = string.punctuation + string.digits\n",
    "    \n",
    "    # Create a mapping to space using string above for each num/punc & return a translation table with mapping\n",
    "    t_table = str.maketrans(dict.fromkeys(num_and_punc, \" \"))\n",
    "    \n",
    "    # Lower text and use translation table to remove all punctuation and digits\n",
    "    text = text.lower().translate(t_table)\n",
    "    \n",
    "    # Use Lemma tokenizer to tokenize the words\n",
    "    lemma = WordNetLemmatizer()\n",
    "    lemmas = [lemma.lemmatize(word.strip()) for word in text.split()]\n",
    "    \n",
    "    return lemmas\n",
    "\n",
    "def word_tokenizer(text):\n",
    "    '''Tokenize text into a list of preprocessed words '''\n",
    "    \n",
    "    # Create a string with all punctuations & digits concatenated\n",
    "    num_and_punc = string.punctuation + string.digits\n",
    "    \n",
    "    # Create a mapping to space using string above for each num/punc & return a translation table with mapping\n",
    "    t_table = str.maketrans(dict.fromkeys(num_and_punc, \" \"))\n",
    "    \n",
    "    # Lower text and use translation table to remove all punctuation and digits\n",
    "    text = text.lower().translate(t_table)\n",
    "    \n",
    "    tokens = word_tokenize(text)\n",
    "    return tokens\n",
    "\n",
    "def stem_tokenizer(text):\n",
    "    '''Tokenize text into a list of preprocessed words '''\n",
    "    \n",
    "    # Create a string with all punctuations & digits concatenated\n",
    "    num_and_punc = string.punctuation + string.digits\n",
    "    \n",
    "    # Create a mapping to space using string above for each num/punc & return a translation table with mapping\n",
    "    t_table = str.maketrans(dict.fromkeys(num_and_punc, \" \"))\n",
    "    \n",
    "    # Lower text and use translation table to remove all punctuation and digits\n",
    "    text = text.lower().translate(t_table)\n",
    "    # Best Stemmer for this dataset (Tested)\n",
    "    stemmer = PorterStemmer()\n",
    "#     stemmer = SnowballStemmer(\"english\")\n",
    "#     stemmer = LancasterStemmer()\n",
    "    stems = [stemmer.stem(word.strip()) for word in text.split()]\n",
    "    return stems"
   ]
  },
  {
   "cell_type": "code",
   "execution_count": 12,
   "metadata": {
    "ExecuteTime": {
     "end_time": "2018-09-24T07:43:36.584207Z",
     "start_time": "2018-09-24T07:43:36.576870Z"
    }
   },
   "outputs": [
    {
     "name": "stdout",
     "output_type": "stream",
     "text": [
      "['renal', 'abscess', 'in', 'children', 'three', 'case', 'of', 'renal', 'abscess', 'in', 'children', 'are', 'describ', 'to', 'illustr', 'the', 'variabl', 'present', 'featur', 'an', 'addit', 'pediatr', 'case', 'report', 'over', 'the', 'past', 'ten', 'year', 'were', 'review', 'for', 'clinic', 'featur', 'and', 'therapi', 'fever', 'loin', 'pain', 'and', 'leukocytosi', 'were', 'common', 'present', 'featur', 'but', 'less', 'than', 'half', 'of', 'all', 'abscess', 'were', 'associ', 'with', 'either', 'an', 'abnorm', 'urinalysi', 'or', 'a', 'posit', 'urin', 'cultur', 'the', 'present', 'featur', 'were', 'sometim', 'confus', 'with', 'append', 'periton', 'or', 'a', 'wilm', 'tumor', 'an', 'organ', 'wa', 'identifi', 'in', 'case', 'escherichia', 'coli', 'in', 'children', 'and', 'staphylococcu', 'aureu', 'in', 'children', 'the', 'major', 'of', 'e', 'coli', 'infect', 'occur', 'in', 'girl', 'and', 'the', 'major', 'of', 's', 'aureu', 'infect', 'occur', 'in', 'boy', 'reflux', 'wa', 'document', 'in', 'patient', 'and', 'children', 'had', 'a', 'possibl', 'extraren', 'sourc', 'of', 'infect', 'antibiot', 'alon', 'produc', 'a', 'cure', 'in', 'children', 'but', 'children', 'requir', 'a', 'surgic', 'procedur']\n"
     ]
    }
   ],
   "source": [
    "print(tokenizer(train_df['Abstract'][1]))"
   ]
  },
  {
   "cell_type": "code",
   "execution_count": 13,
   "metadata": {
    "ExecuteTime": {
     "end_time": "2018-09-24T07:45:11.141845Z",
     "start_time": "2018-09-24T07:43:36.586592Z"
    }
   },
   "outputs": [],
   "source": [
    "vec = CountVectorizer(tokenizer = tokenizer)\n",
    "vec.fit(train_df['Abstract'])\n",
    "X_train = vec.transform(train_df['Abstract'])\n",
    "# abstract_df = vec.fit_transform(train_df['Abstract'])"
   ]
  },
  {
   "cell_type": "code",
   "execution_count": 14,
   "metadata": {
    "ExecuteTime": {
     "end_time": "2018-09-24T07:45:11.146421Z",
     "start_time": "2018-09-24T07:45:11.144155Z"
    }
   },
   "outputs": [],
   "source": [
    "# print(vec.vocabulary_)"
   ]
  },
  {
   "cell_type": "code",
   "execution_count": 15,
   "metadata": {
    "ExecuteTime": {
     "end_time": "2018-09-24T07:45:11.155433Z",
     "start_time": "2018-09-24T07:45:11.148500Z"
    }
   },
   "outputs": [
    {
     "data": {
      "text/plain": [
       "24584"
      ]
     },
     "execution_count": 15,
     "metadata": {},
     "output_type": "execute_result"
    }
   ],
   "source": [
    "# Size is around 31869 unique words\n",
    "\n",
    "len(vec.vocabulary_)"
   ]
  },
  {
   "cell_type": "code",
   "execution_count": 16,
   "metadata": {
    "ExecuteTime": {
     "end_time": "2018-09-24T07:45:11.186105Z",
     "start_time": "2018-09-24T07:45:11.158404Z"
    }
   },
   "outputs": [],
   "source": [
    "vocab_names = vec.get_feature_names()"
   ]
  },
  {
   "cell_type": "code",
   "execution_count": 17,
   "metadata": {
    "ExecuteTime": {
     "end_time": "2018-09-24T07:45:11.192554Z",
     "start_time": "2018-09-24T07:45:11.187915Z"
    }
   },
   "outputs": [],
   "source": [
    "word_counts = np.asarray(X_train.sum(axis=0))"
   ]
  },
  {
   "cell_type": "code",
   "execution_count": 18,
   "metadata": {
    "ExecuteTime": {
     "end_time": "2018-09-24T07:45:11.200221Z",
     "start_time": "2018-09-24T07:45:11.194416Z"
    }
   },
   "outputs": [],
   "source": [
    "vocab_counts_df = pd.DataFrame.from_dict({'Word':vocab_names, 'Counts':word_counts.ravel()})\n"
   ]
  },
  {
   "cell_type": "code",
   "execution_count": 19,
   "metadata": {
    "ExecuteTime": {
     "end_time": "2018-09-24T07:45:11.209522Z",
     "start_time": "2018-09-24T07:45:11.202591Z"
    }
   },
   "outputs": [
    {
     "data": {
      "text/html": [
       "<div>\n",
       "<style scoped>\n",
       "    .dataframe tbody tr th:only-of-type {\n",
       "        vertical-align: middle;\n",
       "    }\n",
       "\n",
       "    .dataframe tbody tr th {\n",
       "        vertical-align: top;\n",
       "    }\n",
       "\n",
       "    .dataframe thead th {\n",
       "        text-align: right;\n",
       "    }\n",
       "</style>\n",
       "<table border=\"1\" class=\"dataframe\">\n",
       "  <thead>\n",
       "    <tr style=\"text-align: right;\">\n",
       "      <th></th>\n",
       "      <th>Word</th>\n",
       "      <th>Counts</th>\n",
       "    </tr>\n",
       "  </thead>\n",
       "  <tbody>\n",
       "    <tr>\n",
       "      <th>0</th>\n",
       "      <td>a</td>\n",
       "      <td>44086</td>\n",
       "    </tr>\n",
       "    <tr>\n",
       "      <th>1</th>\n",
       "      <td>aa</td>\n",
       "      <td>28</td>\n",
       "    </tr>\n",
       "    <tr>\n",
       "      <th>2</th>\n",
       "      <td>aaa</td>\n",
       "      <td>27</td>\n",
       "    </tr>\n",
       "    <tr>\n",
       "      <th>3</th>\n",
       "      <td>aab</td>\n",
       "      <td>7</td>\n",
       "    </tr>\n",
       "    <tr>\n",
       "      <th>4</th>\n",
       "      <td>aaem</td>\n",
       "      <td>3</td>\n",
       "    </tr>\n",
       "  </tbody>\n",
       "</table>\n",
       "</div>"
      ],
      "text/plain": [
       "   Word  Counts\n",
       "0     a   44086\n",
       "1    aa      28\n",
       "2   aaa      27\n",
       "3   aab       7\n",
       "4  aaem       3"
      ]
     },
     "execution_count": 19,
     "metadata": {},
     "output_type": "execute_result"
    }
   ],
   "source": [
    "vocab_counts_df.head()"
   ]
  },
  {
   "cell_type": "code",
   "execution_count": 20,
   "metadata": {
    "ExecuteTime": {
     "end_time": "2018-09-24T07:45:11.227101Z",
     "start_time": "2018-09-24T07:45:11.211342Z"
    },
    "scrolled": true
   },
   "outputs": [
    {
     "data": {
      "text/html": [
       "<div>\n",
       "<style scoped>\n",
       "    .dataframe tbody tr th:only-of-type {\n",
       "        vertical-align: middle;\n",
       "    }\n",
       "\n",
       "    .dataframe tbody tr th {\n",
       "        vertical-align: top;\n",
       "    }\n",
       "\n",
       "    .dataframe thead th {\n",
       "        text-align: right;\n",
       "    }\n",
       "</style>\n",
       "<table border=\"1\" class=\"dataframe\">\n",
       "  <thead>\n",
       "    <tr style=\"text-align: right;\">\n",
       "      <th></th>\n",
       "      <th>Word</th>\n",
       "      <th>Counts</th>\n",
       "    </tr>\n",
       "  </thead>\n",
       "  <tbody>\n",
       "    <tr>\n",
       "      <th>22066</th>\n",
       "      <td>the</td>\n",
       "      <td>122496</td>\n",
       "    </tr>\n",
       "    <tr>\n",
       "      <th>15465</th>\n",
       "      <td>of</td>\n",
       "      <td>121285</td>\n",
       "    </tr>\n",
       "    <tr>\n",
       "      <th>843</th>\n",
       "      <td>and</td>\n",
       "      <td>81967</td>\n",
       "    </tr>\n",
       "    <tr>\n",
       "      <th>10379</th>\n",
       "      <td>in</td>\n",
       "      <td>79415</td>\n",
       "    </tr>\n",
       "    <tr>\n",
       "      <th>0</th>\n",
       "      <td>a</td>\n",
       "      <td>44086</td>\n",
       "    </tr>\n",
       "    <tr>\n",
       "      <th>24343</th>\n",
       "      <td>with</td>\n",
       "      <td>43935</td>\n",
       "    </tr>\n",
       "    <tr>\n",
       "      <th>22352</th>\n",
       "      <td>to</td>\n",
       "      <td>43089</td>\n",
       "    </tr>\n",
       "    <tr>\n",
       "      <th>16369</th>\n",
       "      <td>patient</td>\n",
       "      <td>39336</td>\n",
       "    </tr>\n",
       "    <tr>\n",
       "      <th>24116</th>\n",
       "      <td>wa</td>\n",
       "      <td>28458</td>\n",
       "    </tr>\n",
       "    <tr>\n",
       "      <th>24246</th>\n",
       "      <td>were</td>\n",
       "      <td>24358</td>\n",
       "    </tr>\n",
       "    <tr>\n",
       "      <th>7886</th>\n",
       "      <td>for</td>\n",
       "      <td>21779</td>\n",
       "    </tr>\n",
       "    <tr>\n",
       "      <th>15665</th>\n",
       "      <td>or</td>\n",
       "      <td>15422</td>\n",
       "    </tr>\n",
       "    <tr>\n",
       "      <th>11120</th>\n",
       "      <td>is</td>\n",
       "      <td>14674</td>\n",
       "    </tr>\n",
       "    <tr>\n",
       "      <th>2800</th>\n",
       "      <td>by</td>\n",
       "      <td>14561</td>\n",
       "    </tr>\n",
       "    <tr>\n",
       "      <th>22064</th>\n",
       "      <td>that</td>\n",
       "      <td>14488</td>\n",
       "    </tr>\n",
       "    <tr>\n",
       "      <th>22063</th>\n",
       "      <td>than</td>\n",
       "      <td>13077</td>\n",
       "    </tr>\n",
       "    <tr>\n",
       "      <th>8026</th>\n",
       "      <td>from</td>\n",
       "      <td>10611</td>\n",
       "    </tr>\n",
       "    <tr>\n",
       "      <th>2019</th>\n",
       "      <td>be</td>\n",
       "      <td>9972</td>\n",
       "    </tr>\n",
       "    <tr>\n",
       "      <th>1593</th>\n",
       "      <td>at</td>\n",
       "      <td>9905</td>\n",
       "    </tr>\n",
       "    <tr>\n",
       "      <th>787</th>\n",
       "      <td>an</td>\n",
       "      <td>9900</td>\n",
       "    </tr>\n",
       "    <tr>\n",
       "      <th>21190</th>\n",
       "      <td>studi</td>\n",
       "      <td>9756</td>\n",
       "    </tr>\n",
       "    <tr>\n",
       "      <th>22118</th>\n",
       "      <td>thi</td>\n",
       "      <td>9646</td>\n",
       "    </tr>\n",
       "    <tr>\n",
       "      <th>1494</th>\n",
       "      <td>as</td>\n",
       "      <td>9560</td>\n",
       "    </tr>\n",
       "    <tr>\n",
       "      <th>8768</th>\n",
       "      <td>had</td>\n",
       "      <td>9393</td>\n",
       "    </tr>\n",
       "    <tr>\n",
       "      <th>415</th>\n",
       "      <td>after</td>\n",
       "      <td>9296</td>\n",
       "    </tr>\n",
       "    <tr>\n",
       "      <th>15578</th>\n",
       "      <td>on</td>\n",
       "      <td>9213</td>\n",
       "    </tr>\n",
       "    <tr>\n",
       "      <th>8668</th>\n",
       "      <td>group</td>\n",
       "      <td>8899</td>\n",
       "    </tr>\n",
       "    <tr>\n",
       "      <th>3273</th>\n",
       "      <td>cell</td>\n",
       "      <td>8682</td>\n",
       "    </tr>\n",
       "    <tr>\n",
       "      <th>5713</th>\n",
       "      <td>diseas</td>\n",
       "      <td>8125</td>\n",
       "    </tr>\n",
       "    <tr>\n",
       "      <th>15237</th>\n",
       "      <td>not</td>\n",
       "      <td>8004</td>\n",
       "    </tr>\n",
       "    <tr>\n",
       "      <th>23556</th>\n",
       "      <td>use</td>\n",
       "      <td>7889</td>\n",
       "    </tr>\n",
       "    <tr>\n",
       "      <th>16027</th>\n",
       "      <td>p</td>\n",
       "      <td>7810</td>\n",
       "    </tr>\n",
       "    <tr>\n",
       "      <th>11861</th>\n",
       "      <td>less</td>\n",
       "      <td>7486</td>\n",
       "    </tr>\n",
       "    <tr>\n",
       "      <th>1385</th>\n",
       "      <td>are</td>\n",
       "      <td>7206</td>\n",
       "    </tr>\n",
       "    <tr>\n",
       "      <th>24505</th>\n",
       "      <td>year</td>\n",
       "      <td>7160</td>\n",
       "    </tr>\n",
       "    <tr>\n",
       "      <th>22114</th>\n",
       "      <td>these</td>\n",
       "      <td>7144</td>\n",
       "    </tr>\n",
       "    <tr>\n",
       "      <th>3100</th>\n",
       "      <td>case</td>\n",
       "      <td>6867</td>\n",
       "    </tr>\n",
       "    <tr>\n",
       "      <th>24202</th>\n",
       "      <td>we</td>\n",
       "      <td>6368</td>\n",
       "    </tr>\n",
       "    <tr>\n",
       "      <th>22673</th>\n",
       "      <td>treatment</td>\n",
       "      <td>6343</td>\n",
       "    </tr>\n",
       "    <tr>\n",
       "      <th>19264</th>\n",
       "      <td>result</td>\n",
       "      <td>6061</td>\n",
       "    </tr>\n",
       "    <tr>\n",
       "      <th>10436</th>\n",
       "      <td>increas</td>\n",
       "      <td>6030</td>\n",
       "    </tr>\n",
       "    <tr>\n",
       "      <th>6308</th>\n",
       "      <td>effect</td>\n",
       "      <td>5893</td>\n",
       "    </tr>\n",
       "    <tr>\n",
       "      <th>8915</th>\n",
       "      <td>have</td>\n",
       "      <td>5886</td>\n",
       "    </tr>\n",
       "    <tr>\n",
       "      <th>22886</th>\n",
       "      <td>tumor</td>\n",
       "      <td>5836</td>\n",
       "    </tr>\n",
       "    <tr>\n",
       "      <th>22928</th>\n",
       "      <td>two</td>\n",
       "      <td>5659</td>\n",
       "    </tr>\n",
       "    <tr>\n",
       "      <th>6068</th>\n",
       "      <td>dure</td>\n",
       "      <td>5529</td>\n",
       "    </tr>\n",
       "    <tr>\n",
       "      <th>1441</th>\n",
       "      <td>arteri</td>\n",
       "      <td>5364</td>\n",
       "    </tr>\n",
       "    <tr>\n",
       "      <th>15597</th>\n",
       "      <td>one</td>\n",
       "      <td>5332</td>\n",
       "    </tr>\n",
       "    <tr>\n",
       "      <th>574</th>\n",
       "      <td>all</td>\n",
       "      <td>5294</td>\n",
       "    </tr>\n",
       "    <tr>\n",
       "      <th>3842</th>\n",
       "      <td>clinic</td>\n",
       "      <td>5238</td>\n",
       "    </tr>\n",
       "    <tr>\n",
       "      <th>14577</th>\n",
       "      <td>no</td>\n",
       "      <td>5214</td>\n",
       "    </tr>\n",
       "    <tr>\n",
       "      <th>12662</th>\n",
       "      <td>may</td>\n",
       "      <td>5037</td>\n",
       "    </tr>\n",
       "    <tr>\n",
       "      <th>1556</th>\n",
       "      <td>associ</td>\n",
       "      <td>4911</td>\n",
       "    </tr>\n",
       "    <tr>\n",
       "      <th>4345</th>\n",
       "      <td>control</td>\n",
       "      <td>4902</td>\n",
       "    </tr>\n",
       "    <tr>\n",
       "      <th>2772</th>\n",
       "      <td>but</td>\n",
       "      <td>4900</td>\n",
       "    </tr>\n",
       "    <tr>\n",
       "      <th>18779</th>\n",
       "      <td>rate</td>\n",
       "      <td>4711</td>\n",
       "    </tr>\n",
       "    <tr>\n",
       "      <th>11225</th>\n",
       "      <td>it</td>\n",
       "      <td>4675</td>\n",
       "    </tr>\n",
       "    <tr>\n",
       "      <th>7868</th>\n",
       "      <td>follow</td>\n",
       "      <td>4595</td>\n",
       "    </tr>\n",
       "    <tr>\n",
       "      <th>2406</th>\n",
       "      <td>blood</td>\n",
       "      <td>4562</td>\n",
       "    </tr>\n",
       "    <tr>\n",
       "      <th>24296</th>\n",
       "      <td>who</td>\n",
       "      <td>4513</td>\n",
       "    </tr>\n",
       "  </tbody>\n",
       "</table>\n",
       "</div>"
      ],
      "text/plain": [
       "            Word  Counts\n",
       "22066        the  122496\n",
       "15465         of  121285\n",
       "843          and   81967\n",
       "10379         in   79415\n",
       "0              a   44086\n",
       "24343       with   43935\n",
       "22352         to   43089\n",
       "16369    patient   39336\n",
       "24116         wa   28458\n",
       "24246       were   24358\n",
       "7886         for   21779\n",
       "15665         or   15422\n",
       "11120         is   14674\n",
       "2800          by   14561\n",
       "22064       that   14488\n",
       "22063       than   13077\n",
       "8026        from   10611\n",
       "2019          be    9972\n",
       "1593          at    9905\n",
       "787           an    9900\n",
       "21190      studi    9756\n",
       "22118        thi    9646\n",
       "1494          as    9560\n",
       "8768         had    9393\n",
       "415        after    9296\n",
       "15578         on    9213\n",
       "8668       group    8899\n",
       "3273        cell    8682\n",
       "5713      diseas    8125\n",
       "15237        not    8004\n",
       "23556        use    7889\n",
       "16027          p    7810\n",
       "11861       less    7486\n",
       "1385         are    7206\n",
       "24505       year    7160\n",
       "22114      these    7144\n",
       "3100        case    6867\n",
       "24202         we    6368\n",
       "22673  treatment    6343\n",
       "19264     result    6061\n",
       "10436    increas    6030\n",
       "6308      effect    5893\n",
       "8915        have    5886\n",
       "22886      tumor    5836\n",
       "22928        two    5659\n",
       "6068        dure    5529\n",
       "1441      arteri    5364\n",
       "15597        one    5332\n",
       "574          all    5294\n",
       "3842      clinic    5238\n",
       "14577         no    5214\n",
       "12662        may    5037\n",
       "1556      associ    4911\n",
       "4345     control    4902\n",
       "2772         but    4900\n",
       "18779       rate    4711\n",
       "11225         it    4675\n",
       "7868      follow    4595\n",
       "2406       blood    4562\n",
       "24296        who    4513"
      ]
     },
     "execution_count": 20,
     "metadata": {},
     "output_type": "execute_result"
    }
   ],
   "source": [
    "vocab_counts_df.sort_values(['Counts'], ascending=False).head(60)"
   ]
  },
  {
   "cell_type": "code",
   "execution_count": 21,
   "metadata": {
    "ExecuteTime": {
     "end_time": "2018-09-24T07:45:11.988121Z",
     "start_time": "2018-09-24T07:45:11.228941Z"
    },
    "scrolled": false
   },
   "outputs": [
    {
     "data": {
      "image/png": "[encoded data removed]",
      "text/plain": [
       "<Figure size 1440x720 with 1 Axes>"
      ]
     },
     "metadata": {},
     "output_type": "display_data"
    }
   ],
   "source": [
    "# Let's plot the top 50 most frequently occurring words\n",
    "\n",
    "# Set the graph parameters\n",
    "sns.set(rc={\"figure.figsize\": (20.0, 10.0), \"axes.labelsize\": 18})\n",
    "\n",
    "top50 = vocab_counts_df.sort_values(['Counts'], ascending=False).iloc[:50]\n",
    "\n",
    "ax = sns.barplot(\"Word\", \"Counts\", data=top50, palette=\"Blues_d\");\n",
    "ax.set_title('Top 50 Words')\n",
    "ax.set_xticklabels(ax.get_xticklabels(), rotation=45);\n"
   ]
  },
  {
   "cell_type": "markdown",
   "metadata": {},
   "source": [
    "### Stop words\n",
    "\n",
    "- Stop words are words we do not want to use as features, and shall remove from our training\n",
    "- These include words like `the` or `and` or `a` that are not very important\n",
    "    - We will also use the English stop words form the standard sklearn package\n",
    "- Fit new `CountVectorizer` with these stop words removed"
   ]
  },
  {
   "cell_type": "code",
   "execution_count": 22,
   "metadata": {
    "ExecuteTime": {
     "end_time": "2018-09-24T07:45:12.014216Z",
     "start_time": "2018-09-24T07:45:11.990474Z"
    }
   },
   "outputs": [],
   "source": [
    "# Let's create our own stop words list & remove unimportant words such as 'the' or 'and'\n",
    "# Also, let's use the sklearn ENGLISH_STOP_WORDS, and unionize these to create the last stop words list\n",
    "\n",
    "my_stop_words = ['the', 'of', 'and', 'in', 'a', 'with', 'to', \n",
    "              'were', 'wa', 'for', 'or', 'is', 'by', 'that', \n",
    "              'than', 'from', 'at', 'an', 'this', 'be', 'had'\n",
    "             'after', 'on', 'p', 'are', 'these', 'we', 'have', 'may', \n",
    "              'it', 'who', 'pm', 'am', 'patient', 's', 'aa', 'll', 're', 'date',\n",
    "              'as', 'o', 'wa', 'year']\n",
    "\n",
    "extra_stop_words = ['the','and','to','of','was','with','a','on','in','for','name',\n",
    "                    'is','patient','s','he','at','as','or','one','she','his','her','am',\n",
    "                   'were','you','pt','pm','by','be','had','your','this','date', \n",
    "                   'from','there','an','that','p','are','have','has','h','but','o',\n",
    "                   'namepattern','which','every','also']\n",
    "\n",
    "# 153 stop words from NLTK\n",
    "nltk_stop_words = stopwords.words('english')\n",
    "# Combine stop words from all the stop word lists\n",
    "stop_words = ENGLISH_STOP_WORDS.union(my_stop_words).union(extra_stop_words).union(nltk_stop_words)\n",
    "# stop_words = ENGLISH_STOP_WORDS.union(nltk_stop_words)"
   ]
  },
  {
   "cell_type": "code",
   "execution_count": 23,
   "metadata": {
    "ExecuteTime": {
     "end_time": "2018-09-24T07:45:12.019520Z",
     "start_time": "2018-09-24T07:45:12.015878Z"
    }
   },
   "outputs": [
    {
     "data": {
      "text/plain": [
       "389"
      ]
     },
     "execution_count": 23,
     "metadata": {},
     "output_type": "execute_result"
    }
   ],
   "source": [
    "# 328 stop words\n",
    "len(stop_words)"
   ]
  },
  {
   "cell_type": "code",
   "execution_count": 24,
   "metadata": {
    "ExecuteTime": {
     "end_time": "2018-09-24T07:45:56.831127Z",
     "start_time": "2018-09-24T07:45:12.021214Z"
    }
   },
   "outputs": [
    {
     "data": {
      "text/plain": [
       "CountVectorizer(analyzer='word', binary=False, decode_error='strict',\n",
       "        dtype=<class 'numpy.int64'>, encoding='utf-8', input='content',\n",
       "        lowercase=True, max_df=1.0, max_features=None, min_df=1,\n",
       "        ngram_range=(1, 1), preprocessor=None,\n",
       "        stop_words=frozenset({'from', 'hers', 'front', 'needn', 'well', 'bill', 'mostly', 'yours', 'whole', 'above', 'cant', 'aa', 'over', \"doesn't\", 'mill', 'much', 'always', 'nor', 'yourselves', 'same', 'ever', 'no', 'yourself', \"couldn't\", 'nine', 'had', 'hence', 'throughout', 'enough', \"didn't\", 'what',...l', \"you'll\", 'me', 'did', 'at', 'may', 'them', 'theirs', 'becoming', 'patient', 'should', \"don't\"}),\n",
       "        strip_accents=None, token_pattern='(?u)\\\\b\\\\w\\\\w+\\\\b',\n",
       "        tokenizer=<function tokenizer at 0x11931bbf8>, vocabulary=None)"
      ]
     },
     "execution_count": 24,
     "metadata": {},
     "output_type": "execute_result"
    }
   ],
   "source": [
    "count_vec = CountVectorizer(tokenizer = tokenizer, \n",
    "                       stop_words = stop_words)\n",
    "count_vec.fit(train_df['Abstract'])"
   ]
  },
  {
   "cell_type": "code",
   "execution_count": 25,
   "metadata": {
    "ExecuteTime": {
     "end_time": "2018-09-24T07:47:29.035664Z",
     "start_time": "2018-09-24T07:45:56.835022Z"
    }
   },
   "outputs": [],
   "source": [
    "X_train_count = count_vec.transform(train_df['Abstract'].values)\n",
    "X_test_count = count_vec.transform(train_df['Abstract'].values)"
   ]
  },
  {
   "cell_type": "code",
   "execution_count": 26,
   "metadata": {
    "ExecuteTime": {
     "end_time": "2018-09-24T07:48:32.897347Z",
     "start_time": "2018-09-24T07:47:29.037965Z"
    }
   },
   "outputs": [
    {
     "data": {
      "text/plain": [
       "TfidfVectorizer(analyzer='word', binary=False, decode_error='strict',\n",
       "        dtype=<class 'numpy.int64'>, encoding='utf-8', input='content',\n",
       "        lowercase=True, max_df=1.0, max_features=None, min_df=1,\n",
       "        ngram_range=(1, 4), norm='l2', preprocessor=None, smooth_idf=True,\n",
       "        stop_words=frozenset({'from', 'hers', 'front', 'needn', 'well', 'bill', 'mostly', 'yours', 'whole', 'above', 'cant', 'aa', 'over', \"doesn't\", 'mill', 'much', 'always', 'nor', 'yourselves', 'same', 'ever', 'no', 'yourself', \"couldn't\", 'nine', 'had', 'hence', 'throughout', 'enough', \"didn't\", 'what',...l', \"you'll\", 'me', 'did', 'at', 'may', 'them', 'theirs', 'becoming', 'patient', 'should', \"don't\"}),\n",
       "        strip_accents=None, sublinear_tf=True,\n",
       "        token_pattern='(?u)\\\\b\\\\w\\\\w+\\\\b',\n",
       "        tokenizer=<function tokenizer at 0x11931bbf8>, use_idf=True,\n",
       "        vocabulary=None)"
      ]
     },
     "execution_count": 26,
     "metadata": {},
     "output_type": "execute_result"
    }
   ],
   "source": [
    "# Using idf\n",
    "# tfidf_vec = TfidfVectorizer(tokenizer = tokenizer, norm='l2', ngram_range=(1,3), max_df = 0.4,\n",
    "#                        stop_words = stop_words, use_idf=True)\n",
    "tfidf_vec = TfidfVectorizer(tokenizer = tokenizer, norm='l2', ngram_range=(1,4), sublinear_tf = True,\n",
    "                            stop_words = stop_words)\n",
    "tfidf_vec.fit(train_df['Abstract'])"
   ]
  },
  {
   "cell_type": "code",
   "execution_count": 27,
   "metadata": {
    "ExecuteTime": {
     "end_time": "2018-09-24T07:50:14.552925Z",
     "start_time": "2018-09-24T07:48:32.899185Z"
    }
   },
   "outputs": [],
   "source": [
    "X_train_tfidf = tfidf_vec.transform(train_df['Abstract'].values)\n",
    "X_test_tfidf = tfidf_vec.transform(train_df['Abstract'].values)"
   ]
  },
  {
   "cell_type": "code",
   "execution_count": 28,
   "metadata": {
    "ExecuteTime": {
     "end_time": "2018-09-24T07:50:14.583771Z",
     "start_time": "2018-09-24T07:50:14.555265Z"
    }
   },
   "outputs": [
    {
     "name": "stdout",
     "output_type": "stream",
     "text": [
      "0.1170755053673701\n",
      "0.0\n",
      "6.339074283646515e-06\n"
     ]
    }
   ],
   "source": [
    "print(X_train_tfidf[0].toarray().max())\n",
    "print(X_train_tfidf[0].toarray().min())\n",
    "print(X_train_tfidf[0].toarray().mean())"
   ]
  },
  {
   "cell_type": "code",
   "execution_count": 29,
   "metadata": {
    "ExecuteTime": {
     "end_time": "2018-09-24T07:50:14.589615Z",
     "start_time": "2018-09-24T07:50:14.586171Z"
    }
   },
   "outputs": [
    {
     "name": "stdout",
     "output_type": "stream",
     "text": [
      "There are 2696733 features\n"
     ]
    }
   ],
   "source": [
    "print('There are %i features' % X_train_tfidf.shape[1])"
   ]
  },
  {
   "cell_type": "code",
   "execution_count": 30,
   "metadata": {
    "ExecuteTime": {
     "end_time": "2018-09-24T07:50:14.594317Z",
     "start_time": "2018-09-24T07:50:14.591712Z"
    }
   },
   "outputs": [],
   "source": [
    "Y_train = train_df['Label'].values"
   ]
  },
  {
   "cell_type": "code",
   "execution_count": 31,
   "metadata": {
    "ExecuteTime": {
     "end_time": "2018-09-24T07:50:14.601920Z",
     "start_time": "2018-09-24T07:50:14.596853Z"
    }
   },
   "outputs": [
    {
     "data": {
      "text/plain": [
       "4"
      ]
     },
     "execution_count": 31,
     "metadata": {},
     "output_type": "execute_result"
    }
   ],
   "source": [
    "Y_train[0]"
   ]
  },
  {
   "cell_type": "markdown",
   "metadata": {},
   "source": [
    "## Feature Selection\n",
    "\n",
    "- Use Chi Squared Test to select top k features\n",
    "    - Selects n_features with highest values for the test chi-squared statistic\n",
    "    - Chi-square test measures dependence between stochastic variables, so using this function “weeds out” the features that are the most likely to be independent of class and therefore irrelevant for classification.\n",
    "    - X^2 gives a measure of the distance between observed and expected frequencies.\n",
    "- Visualize the top N terms that are most correlated with each medical condition/disease using Chi squared test"
   ]
  },
  {
   "cell_type": "code",
   "execution_count": null,
   "metadata": {
    "ExecuteTime": {
     "end_time": "2018-09-24T06:52:53.152792Z",
     "start_time": "2018-09-24T06:52:53.147887Z"
    }
   },
   "outputs": [],
   "source": [
    "sorted(train_df['Label'].unique())"
   ]
  },
  {
   "cell_type": "code",
   "execution_count": null,
   "metadata": {
    "ExecuteTime": {
     "end_time": "2018-09-24T07:03:28.952704Z",
     "start_time": "2018-09-24T07:03:28.465185Z"
    },
    "scrolled": true
   },
   "outputs": [],
   "source": [
    "chi2(X_train_tfidf, train_df['Label'] == 1)[0][2644944]"
   ]
  },
  {
   "cell_type": "code",
   "execution_count": 34,
   "metadata": {
    "ExecuteTime": {
     "end_time": "2018-09-24T07:51:45.347986Z",
     "start_time": "2018-09-24T07:50:20.882620Z"
    },
    "scrolled": true
   },
   "outputs": [
    {
     "name": "stdout",
     "output_type": "stream",
     "text": [
      "Class #1:\n",
      "  Most correlated unigrams:\n",
      "     *carcinoma\n",
      "     *cancer\n",
      "     *tumor\n",
      "  Most correlated bigrams:\n",
      "     *squamou cell\n",
      "     *breast cancer\n",
      "     *cell carcinoma\n",
      "  Most correlated trigrams:\n",
      "     *basal cell carcinoma\n",
      "     *diseas free surviv\n",
      "     *squamou cell carcinoma\n",
      "  Most correlated four-grams:\n",
      "     *fine needl aspir biopsi\n",
      "     *non small cell lung\n",
      "     *small cell lung cancer\n",
      "Class #2:\n",
      "  Most correlated unigrams:\n",
      "     *cirrhosi\n",
      "     *gallston\n",
      "     *ulcer\n",
      "  Most correlated bigrams:\n",
      "     *ulcer coliti\n",
      "     *hepat b\n",
      "     *crohn diseas\n",
      "  Most correlated trigrams:\n",
      "     *primari biliari cirrhosi\n",
      "     *hepat b viru\n",
      "     *inflammatori bowel diseas\n",
      "  Most correlated four-grams:\n",
      "     *hepat b viru infect\n",
      "     *ulcer coliti crohn diseas\n",
      "     *hepat b viru dna\n",
      "Class #3:\n",
      "  Most correlated unigrams:\n",
      "     *cerebr\n",
      "     *brain\n",
      "     *seizur\n",
      "  Most correlated bigrams:\n",
      "     *cerebr palsi\n",
      "     *brain injuri\n",
      "     *parkinson diseas\n",
      "  Most correlated trigrams:\n",
      "     *carpal tunnel syndrom\n",
      "     *parkinson diseas pd\n",
      "     *magnet reson imag\n",
      "  Most correlated four-grams:\n",
      "     *carpal tunnel syndrom ct\n",
      "     *magnet reson imag mri\n",
      "     *gill la tourett syndrom\n",
      "Class #4:\n",
      "  Most correlated unigrams:\n",
      "     *myocardi\n",
      "     *hypertens\n",
      "     *coronari\n",
      "  Most correlated bigrams:\n",
      "     *left ventricular\n",
      "     *coronari arteri\n",
      "     *blood pressur\n",
      "  Most correlated trigrams:\n",
      "     *coronari heart diseas\n",
      "     *congest heart failur\n",
      "     *coronari arteri diseas\n",
      "  Most correlated four-grams:\n",
      "     *systol diastol blood pressur\n",
      "     *blood pressur mm hg\n",
      "     *angiotensin convert enzym inhibitor\n",
      "Class #5:\n",
      "  Most correlated unigrams:\n",
      "     *carcinoma\n",
      "     *cancer\n",
      "     *tumor\n",
      "  Most correlated bigrams:\n",
      "     *blood pressur\n",
      "     *respiratori tract\n",
      "     *tract infect\n",
      "  Most correlated trigrams:\n",
      "     *acut respiratori tract\n",
      "     *urinari tract infect\n",
      "     *respiratori tract infect\n",
      "  Most correlated four-grams:\n",
      "     *acut lower respiratori tract\n",
      "     *lower respiratori tract infect\n",
      "     *acut respiratori tract infect\n"
     ]
    }
   ],
   "source": [
    "N = 3\n",
    "for i in sorted(train_df['Label'].unique()):\n",
    "    features_chi2 = chi2(X_train_tfidf, train_df['Label'] == i)\n",
    "    indices = np.argsort(features_chi2[0])\n",
    "    feature_names = np.array(tfidf_vec.get_feature_names())[indices]\n",
    "    unigrams = [v for v in feature_names if len(v.split(' ')) == 1]\n",
    "    bigrams = [v for v in feature_names if len(v.split(' ')) == 2]\n",
    "    trigrams = [v for v in feature_names if len(v.split(' ')) == 3]\n",
    "    fourgrams = [v for v in feature_names if len(v.split(' ')) == 4]\n",
    "    print(\"Class #%d:\" % i)\n",
    "    # Get last N values (np.argsort will return ascending values)\n",
    "    print(\"  Most correlated unigrams:\\n     *{}\".format('\\n     *'.join(unigrams[-N:])))\n",
    "    print(\"  Most correlated bigrams:\\n     *{}\".format('\\n     *'.join(bigrams[-N:])))\n",
    "    print(\"  Most correlated trigrams:\\n     *{}\".format('\\n     *'.join(trigrams[-N:])))\n",
    "    print(\"  Most correlated four-grams:\\n     *{}\".format('\\n     *'.join(fourgrams[-N:])))"
   ]
  },
  {
   "cell_type": "code",
   "execution_count": null,
   "metadata": {
    "ExecuteTime": {
     "end_time": "2018-09-24T06:32:23.817773Z",
     "start_time": "2018-09-24T06:32:19.150043Z"
    }
   },
   "outputs": [],
   "source": [
    "# Get all the current feature names\n",
    "feature_names = tfidf_vec.get_feature_names()"
   ]
  },
  {
   "cell_type": "code",
   "execution_count": null,
   "metadata": {
    "ExecuteTime": {
     "end_time": "2018-09-24T06:32:28.254714Z",
     "start_time": "2018-09-24T06:32:23.820269Z"
    }
   },
   "outputs": [],
   "source": [
    "# keep_features = 1000000 \n",
    "keep_features = int(X_train_tfidf.shape[1] * 1.0)\n",
    "print('Keeping top %d features' % keep_features)\n",
    "chi_sq = SelectKBest(chi2, k = keep_features)\n",
    "X_train_tfidf = chi_sq.fit_transform(X_train_tfidf, Y_train)\n",
    "X_test_tfidf = chi_sq.transform(X_test_tfidf)"
   ]
  },
  {
   "cell_type": "code",
   "execution_count": null,
   "metadata": {
    "ExecuteTime": {
     "end_time": "2018-09-24T06:32:29.346522Z",
     "start_time": "2018-09-24T06:32:28.257082Z"
    }
   },
   "outputs": [],
   "source": [
    "# Get new feature names\n",
    "feature_names = [feature_names[i] for i in chi_sq.get_support(indices=True)]"
   ]
  },
  {
   "cell_type": "code",
   "execution_count": null,
   "metadata": {
    "ExecuteTime": {
     "end_time": "2018-09-24T06:32:29.355109Z",
     "start_time": "2018-09-24T06:32:29.349902Z"
    }
   },
   "outputs": [],
   "source": [
    "X_train_tfidf.shape"
   ]
  },
  {
   "cell_type": "markdown",
   "metadata": {},
   "source": [
    "## Implement k-NN classifier\n",
    "\n",
    "- KNN is a lazy, nonparametric, instance based classifier \n",
    "- Let's first define some standard distance / similiarity metrics (We will use the sklearn implementation)\n",
    "    - Euclidean\n",
    "    - Jaccard\n",
    "        - Good when text is lemmatized and CountVectorizer is used\n",
    "        - Number of words that appear in a document are weighted the same and have no effect on this metric\n",
    "    - Cosine\n",
    "        - Good when using bag of words with tf-idf\n",
    "        - Have to normalize vectors when using cosine similarity\n",
    "    - Hamming distance\n",
    "        - Good for text classification\n",
    "    - Levenhstein distance"
   ]
  },
  {
   "cell_type": "code",
   "execution_count": null,
   "metadata": {
    "ExecuteTime": {
     "end_time": "2018-09-24T05:57:41.865805Z",
     "start_time": "2018-09-24T05:41:57.520Z"
    }
   },
   "outputs": [],
   "source": [
    "\"\"\"\n",
    "Distance Metrics.\n",
    "\n",
    "Compute the distance between two items (usually strings).\n",
    "As metrics, they must satisfy the following three requirements:\n",
    "\n",
    "1. d(a, a) = 0\n",
    "2. d(a, b) >= 0\n",
    "3. d(a, c) <= d(a, b) + d(b, c)\n",
    "\"\"\"\n",
    "\n",
    "def jaccard_similarity(query, document):\n",
    "    intersection = set(query).intersection(set(document))\n",
    "    union = set(query).union(set(document))\n",
    "    return len(intersection)/len(union)\n",
    "\n",
    "def two_norm_sparse(x): \n",
    "    '''Calculates the two norm of a sparse matrix'''\n",
    "#     two_norm = np.sqrt(x.multiply(x).sum(1))\n",
    "    two_norm = np.sqrt(x.multiply(x).sum(1))\n",
    "#     print(two_norm)\n",
    "    return two_norm\n",
    "    \n",
    "\n",
    "def cosine_similarity_sparse(s1, s2):\n",
    "    '''Calculate cosine similiarity of two sparse matrices'''\n",
    "    # Calculate dot product (already L2 norm vectors so we do not need to divide)\n",
    "    numerator = s1.dot(s2.T)\n",
    "    return numerator\n",
    "\n",
    "\n",
    "def cosine_distance_sparse(s1, s2):\n",
    "    '''Calculate cosine distance of two sparse matrices (1 - cosine_similarity)'''\n",
    "    # Calculate dot product (already L2 norm vectors so we do not need to divide)\n",
    "    cos_sim = s1.dot(s2.T)\n",
    "    if s1.shape[0] > s2.shape[0]:\n",
    "        one_array = np.ones((s1.shape[0], 1), dtype=float)\n",
    "    else:\n",
    "        one_array = np.ones((s2.shape[0], 1), dtype=float)\n",
    "    return csr_matrix(one_array - cos_sim)\n",
    "\n",
    "def euclidean_distance_sparse(s1, s2):\n",
    "    '''Calcualte Euclidean distance of two sparse matrices'''\n",
    "    \n",
    "    i1 = s1.toarray()\n",
    "    i2 = s2.toarray()\n",
    "    d = csr_matrix(i1 - i2)\n",
    "    d = two_norm_sparse(d)\n",
    "#     d = np.sqrt(np.sum(np.power(i1 - i2, 2), axis=1, keepdims=True))\n",
    "    return csr_matrix(d)"
   ]
  },
  {
   "cell_type": "code",
   "execution_count": null,
   "metadata": {
    "ExecuteTime": {
     "end_time": "2018-09-24T02:08:32.998739Z",
     "start_time": "2018-09-24T02:08:32.995809Z"
    }
   },
   "outputs": [],
   "source": [
    "# from sklearn.metrics.pairwise import euclidean_distances, cosine_distances, cosine_similarity"
   ]
  },
  {
   "cell_type": "code",
   "execution_count": null,
   "metadata": {
    "ExecuteTime": {
     "end_time": "2018-09-24T02:08:33.265857Z",
     "start_time": "2018-09-24T02:08:33.263261Z"
    }
   },
   "outputs": [],
   "source": [
    "from scipy.spatial.distance import cdist"
   ]
  },
  {
   "cell_type": "code",
   "execution_count": null,
   "metadata": {
    "ExecuteTime": {
     "end_time": "2018-09-24T02:08:33.519264Z",
     "start_time": "2018-09-24T02:08:33.516364Z"
    }
   },
   "outputs": [],
   "source": [
    "# euclidean_distance_sparse(X_train_tfidf[0:30], X_train_tfidf[50])"
   ]
  },
  {
   "cell_type": "code",
   "execution_count": null,
   "metadata": {
    "ExecuteTime": {
     "end_time": "2018-09-24T02:08:33.709725Z",
     "start_time": "2018-09-24T02:08:33.706135Z"
    }
   },
   "outputs": [],
   "source": [
    "# cdist(X_train_tfidf[0:30].toarray(), X_train_tfidf[50].toarray(), 'euclidean')\n",
    "# cdist(X_train_tfidf[0:30].toarray(), X_train_tfidf[50].toarray(), 'cosine')\n",
    "# cdist(X_train_tfidf[0:30].toarray(), X_train_tfidf[50].toarray(), 'jaccard')\n",
    "# cdist(X_train_tfidf[0:30].toarray(), X_train_tfidf[50].toarray(), 'hamming')\n",
    "# cdist(X_train_tfidf[0:30].toarray(), X_train_tfidf[50].toarray(), 'mahalanobis', VI=None)\n",
    "# cdist(X_train_tfidf[0:30].toarray(), X_train_tfidf[50].toarray(), 'chebyshev')\n"
   ]
  },
  {
   "cell_type": "code",
   "execution_count": null,
   "metadata": {
    "ExecuteTime": {
     "end_time": "2018-09-24T02:08:33.937155Z",
     "start_time": "2018-09-24T02:08:33.934363Z"
    }
   },
   "outputs": [],
   "source": [
    "# euclidean_distance_sparse(X_train_tfidf[0:30], X_train_tfidf[50]).toarray()"
   ]
  },
  {
   "cell_type": "code",
   "execution_count": null,
   "metadata": {
    "ExecuteTime": {
     "end_time": "2018-09-24T02:08:34.226103Z",
     "start_time": "2018-09-24T02:08:34.223122Z"
    }
   },
   "outputs": [],
   "source": [
    "# cosine_distance_sparse(X_train_tfidf[0:30], X_train_tfidf[50]).toarray()"
   ]
  },
  {
   "cell_type": "code",
   "execution_count": null,
   "metadata": {
    "ExecuteTime": {
     "end_time": "2018-09-24T02:08:34.595842Z",
     "start_time": "2018-09-24T02:08:34.538209Z"
    }
   },
   "outputs": [],
   "source": [
    "def classify_condition(train, labels, instance, K=5, metric = 'cosine'):\n",
    "    '''Using a distance metric to classify an instance'''\n",
    "    if metric == 'cosine':\n",
    "#         dots = cosine_similarity_sparse(instance, train)\n",
    "        dots = cosine_distance_sparse(train, instance)\n",
    "#         reverse = True\n",
    "    elif metric == 'euclidean':\n",
    "        dots = euclidean_distance_sparse(train, instance)\n",
    "#         dots = csr_matrix(euclidean_distances(train.toarray(), instance.toarray()))\n",
    "#         dots = csr_matrix(cdist(train.toarray(), instance.toarray(), 'euclidean'))\n",
    "#         reverse = False\n",
    "    # Edit below later on\n",
    "    elif metric == 'jaccard':\n",
    "        dots = csr_matrix(cdist(train.toarray(), instance.toarray(), 'jaccard'))\n",
    "    else:\n",
    "        dots = cosine_distance_sparse(train, instance)\n",
    "        \n",
    "        \n",
    "#     print(dots.indptr)\n",
    "    neighbors = list(zip(dots.indptr, dots.data))\n",
    "    if len(neighbors) == 0:\n",
    "        # could not find any neighbors\n",
    "        print('Could not find any neighbors.... Choosing a random one')\n",
    "        return np.asscalar(np.random.randint(low=1, high=5, size=1))\n",
    "#     neighbors.sort(key=lambda x: x[1], reverse=False)\n",
    "    neighbors.sort(key=lambda x: x[1], reverse=False)        \n",
    "        \n",
    "    tc = Counter(labels[s[0]] for s in neighbors[:K]).most_common(5)\n",
    "    if len(tc) < 5 or tc[0][1] > tc[1][1]:\n",
    "        # majority vote\n",
    "        return tc[0][0]\n",
    "    # tie break\n",
    "#     print('TIE BREAKER!!!!')\n",
    "    tc = defaultdict(float)\n",
    "     # Distance-Weighted Voting \n",
    "    for s in neighbors[:K]:\n",
    "        tc[labels[s[0]]] += (1 / (s[1]**2))\n",
    "#     for s in neighbors[:K]:\n",
    "#         tc[labels[s[0]]] += s[1]\n",
    "#     print(tc)\n",
    "    return sorted(tc.items(), key=lambda x: x[1], reverse=True)[0][0]"
   ]
  },
  {
   "cell_type": "code",
   "execution_count": null,
   "metadata": {
    "ExecuteTime": {
     "end_time": "2018-09-24T02:08:35.196331Z",
     "start_time": "2018-09-24T02:08:35.176619Z"
    }
   },
   "outputs": [],
   "source": [
    "def split_data(features, labels, fold_num = 1, fold=10):\n",
    "    n = features.shape[0]\n",
    "    fold_size = int(np.ceil(n*1.0/fold))\n",
    "    feats = []\n",
    "    cls_train = []\n",
    "    for f in range(fold):\n",
    "        if f+1 != fold_num:\n",
    "            feats.append(features[f*fold_size: min((f+1)*fold_size, n)])\n",
    "            cls_train.extend(labels[f*fold_size: min((f+1)*fold_size, n)])\n",
    "    # join all fold matrices that are not the test matrix\n",
    "    train = sp.vstack(feats, format='csr')\n",
    "    # extract the test matrix and class values associated with the test rows\n",
    "    test = features[(fold_num-1)*fold_size: min(fold_num*fold_size, n), :]\n",
    "    cls_test = labels[(fold_num-1)*fold_size: min(fold_num*fold_size, n)]\n",
    "    return train, cls_train, test, cls_test"
   ]
  },
  {
   "cell_type": "code",
   "execution_count": null,
   "metadata": {
    "ExecuteTime": {
     "end_time": "2018-09-24T04:31:44.750789Z",
     "start_time": "2018-09-24T04:31:44.743115Z"
    }
   },
   "outputs": [],
   "source": [
    "from sklearn.metrics import classification_report\n",
    "# x = [0, 0, 1, 5, 5, 0, 0, 3, 4, 1, 2]\n",
    "# y = [0, 0, 2, 5, 5, 0, 1, 3, 4, 4, 3]\n",
    "\n",
    "print(classification_report(x, y))\n",
    "print(f1_score(x, y, average='weighted'))"
   ]
  },
  {
   "cell_type": "code",
   "execution_count": null,
   "metadata": {
    "ExecuteTime": {
     "end_time": "2018-09-24T05:01:10.560492Z",
     "start_time": "2018-09-24T05:01:10.385271Z"
    }
   },
   "outputs": [],
   "source": [
    "# Metrics (Accuracy & F1 Score Functions)\n",
    "\n",
    "def calculate_accuracy(label, prediction):\n",
    "    '''Takes two numpy arrays or Python lists and produces an accuracy score in %'''\n",
    "    if isinstance(label, np.ndarray) and isinstance(prediction, np.ndarray):\n",
    "        assert label.shape == prediction.shape\n",
    "        return (label == prediction).all().mean() * 100.0\n",
    "    elif isinstance(label, list) and isinstance(prediction, list):\n",
    "        assert len(label) == len(prediction)\n",
    "        return sum(1 for a,b in zip(label, prediction) if a == b) / len(label)\n",
    "    else:\n",
    "        raise AttributeError('Both arguments have to be lists or numpy arrays')\n",
    "    \n",
    "def calculate_f1_score(label, prediction):\n",
    "    '''Takes two Python lists and produces an F1 score'''\n",
    "    label = set(label)\n",
    "    prediction = set(prediction)\n",
    "    # Calculate true positive, false positive & false negative\n",
    "    tp = len(label & prediction)\n",
    "    fp = len(prediction) - tp \n",
    "    fn = len(label) - tp\n",
    "\n",
    "    # Calculate precision & recall\n",
    "    precision=float(tp)/(tp+fp)\n",
    "    recall=float(tp)/(tp+fn)\n",
    "\n",
    "    # Return F1 Score\n",
    "    return 2*((precision*recall)/(precision+recall))\n",
    "#     else:\n",
    "#         raise AttributeError('Both arguments have to be lists or numpy arrays')\n",
    "\n",
    "def calculate_weighted_f1_score(label, prediction):\n",
    "    if isinstance(label, np.ndarray) or isinstance(prediction, np.ndarray):\n",
    "        label = label.tolist()\n",
    "        prediction = prediction.tolist()\n",
    "        \n",
    "    f1_list = []\n",
    "    label_dict = Counter(label)\n",
    "    label_dict = sorted(label_dict.items(), key=lambda x: x[0])\n",
    "#     for l in set(label):\n",
    "    for l, support in label_dict:\n",
    "        tp = 0.\n",
    "        fp = 0.\n",
    "        tn = 0.\n",
    "        fn = 0.\n",
    "        for i in range(len(label)):\n",
    "            if prediction[i] == l:\n",
    "                if prediction[i] == label[i]:\n",
    "                    tp += 1.\n",
    "                else:\n",
    "                    fp += 1.\n",
    "            else:\n",
    "                if label[i] == l:\n",
    "                    fn += 1.\n",
    "#                 if prediction[i] == label[i]:\n",
    "#                     tn += 1.\n",
    "#                 else:\n",
    "#                     fn += 1.\n",
    "\n",
    "        # precision is \"how useful the search results are\"\n",
    "        precision = tp / (tp + fp)\n",
    "        # recall is \"how complete the results are\"\n",
    "        recall = tp / (tp + fn)\n",
    "        \n",
    "#         print('Precision: %.03f' % precision)\n",
    "#         print('Recall: %.03f' % recall)\n",
    "        if precision == 0.0 or recall == 0.0:\n",
    "            f1_score = 0.0\n",
    "        else:\n",
    "            f1_score = 2*((precision*recall)/(precision+recall))\n",
    "        weighted_f1_score = f1_score * support\n",
    "#         print(f1_score)\n",
    "#         print(support)\n",
    "        f1_list.append(weighted_f1_score)\n",
    "#     print(f1_list)\n",
    "    return sum(f1_list) / len(label)\n"
   ]
  },
  {
   "cell_type": "code",
   "execution_count": null,
   "metadata": {
    "ExecuteTime": {
     "end_time": "2018-09-24T05:18:17.025771Z",
     "start_time": "2018-09-24T05:18:16.979855Z"
    }
   },
   "outputs": [],
   "source": [
    "def evaluate_model(features, labels, metric='cosine', K=3, fold=10):\n",
    "    '''Using KFold Cross Validation to evaluate model accuracy'''\n",
    "    \n",
    "    if metric not in ['cosine', 'euclidean', 'jaccard', 'hamming', 'mahalanobis']:\n",
    "        raise ValueError('Metric must be `cosine`, `euclidean`, or `jaccard`')\n",
    "    \n",
    "    macc = 0.0\n",
    "    cum_f1 = 0.0\n",
    "    for f in range(fold):\n",
    "        # split data into training and testing\n",
    "        train_set, train_labels, test_set, test_labels = split_data(features, labels, f+1, fold)\n",
    "        # predict the class of each test sample\n",
    "        predictions = np.array([classify_condition(train_set, train_labels, test_set[i,:], K=K, metric=metric) \n",
    "                       for i in range(test_set.shape[0])])\n",
    "        acc = calculate_accuracy(test_labels, predictions)\n",
    "#         f1 = calculate_weighted_f1_score(test_labels, predictions)\n",
    "        f1 = f1_score(test_labels, predictions, average='weighted')\n",
    "#         print('Fold-%i Accuracy: %.05f' % (f+1, acc))\n",
    "        print('Fold-%i F1 Score: %.05f' % (f+1, f1))\n",
    "        macc += acc\n",
    "        cum_f1 += f1\n",
    "    \n",
    "    return macc/float(fold), cum_f1/float(fold)\n",
    "        "
   ]
  },
  {
   "cell_type": "code",
   "execution_count": null,
   "metadata": {
    "ExecuteTime": {
     "end_time": "2018-09-24T05:18:16.977502Z",
     "start_time": "2018-09-24T05:01:11.622295Z"
    },
    "scrolled": true
   },
   "outputs": [],
   "source": [
    "a, f = evaluate_model(X_train_tfidf, Y_train, metric = 'cosine', K=69, fold=10)\n",
    "\n",
    "f"
   ]
  },
  {
   "cell_type": "markdown",
   "metadata": {},
   "source": [
    "### F1 Score 10-Fold CV Total Time Taken\n",
    "\n",
    "- My F1 score implementation (with Python lists): 17 minutes 5 seconds\n",
    "- Sklearn's F1 score implementation (with sparse matrices): 16 minutes 50 seconds"
   ]
  },
  {
   "cell_type": "markdown",
   "metadata": {},
   "source": [
    "## Trying out different distance metrics\n",
    "\n",
    "- Get same ordering as the cosine distance by normalizing your data and then using the euclidean distance.\n",
    "    - For **normalized vectors** cosine similarity and euclidean similarity are connected linearly.\n",
    "    - Sources [1](https://stats.stackexchange.com/questions/299013/cosine-distance-as-similarity-measure-in-kmeans) [2](https://stackoverflow.com/questions/34144632/using-cosine-distance-with-scikit-learn-kneighborsclassifier)"
   ]
  },
  {
   "cell_type": "code",
   "execution_count": 32,
   "metadata": {
    "ExecuteTime": {
     "end_time": "2018-09-24T07:50:20.869949Z",
     "start_time": "2018-09-24T07:50:14.604850Z"
    }
   },
   "outputs": [],
   "source": [
    "from sklearn.neighbors import KNeighborsClassifier\n",
    "from sklearn.model_selection import cross_val_score\n",
    "\n",
    "distance_metrics = ['chebyshev', 'manhattan', 'seuclidean', 'hamming']\n",
    "# distance_metrics_params = {'mahalanobis': np.cov(X_train_tfidf),\n",
    "#                           'seuclidean': np.cov(X_train_tfidf)}\n",
    "\n",
    "knn = KNeighborsClassifier(n_neighbors=69)\n",
    "\n",
    "scores = cross_val_score(knn, X_train_tfidf, Y_train, cv=10, scoring='f1_weighted', n_jobs=4)"
   ]
  },
  {
   "cell_type": "code",
   "execution_count": 33,
   "metadata": {
    "ExecuteTime": {
     "end_time": "2018-09-24T07:50:20.880915Z",
     "start_time": "2018-09-24T07:50:20.874065Z"
    }
   },
   "outputs": [
    {
     "name": "stdout",
     "output_type": "stream",
     "text": [
      "[0.60960191 0.5992119  0.63084952 0.6348669  0.60686858 0.60494872\n",
      " 0.61585073 0.6161558  0.62627984 0.60055894]\n"
     ]
    },
    {
     "data": {
      "text/plain": [
       "0.6145192832442493"
      ]
     },
     "execution_count": 33,
     "metadata": {},
     "output_type": "execute_result"
    }
   ],
   "source": [
    "print(scores)\n",
    "scores.mean()"
   ]
  },
  {
   "cell_type": "code",
   "execution_count": null,
   "metadata": {
    "ExecuteTime": {
     "end_time": "2018-09-24T07:28:03.686374Z",
     "start_time": "2018-09-24T07:27:05.794895Z"
    }
   },
   "outputs": [],
   "source": [
    "from sklearn.svm import LinearSVC\n",
    "\n",
    "svm = LinearSVC()\n",
    "\n",
    "scores = cross_val_score(svm, X_train_tfidf, Y_train, cv=10, scoring='f1_weighted', n_jobs=4)"
   ]
  },
  {
   "cell_type": "code",
   "execution_count": null,
   "metadata": {
    "ExecuteTime": {
     "end_time": "2018-09-24T07:28:03.695859Z",
     "start_time": "2018-09-24T07:28:03.689858Z"
    }
   },
   "outputs": [],
   "source": [
    "print(scores)\n",
    "scores.mean()"
   ]
  },
  {
   "cell_type": "code",
   "execution_count": null,
   "metadata": {
    "ExecuteTime": {
     "end_time": "2018-09-24T07:32:37.934308Z",
     "start_time": "2018-09-24T07:30:53.226728Z"
    }
   },
   "outputs": [],
   "source": [
    "from sklearn.linear_model import LogisticRegression\n",
    "\n",
    "LR = LogisticRegression()\n",
    "\n",
    "scores = cross_val_score(LR, X_train_tfidf, Y_train, cv=10, scoring='f1_weighted', n_jobs=4)"
   ]
  },
  {
   "cell_type": "code",
   "execution_count": null,
   "metadata": {
    "ExecuteTime": {
     "end_time": "2018-09-24T07:32:37.945624Z",
     "start_time": "2018-09-24T07:32:37.938906Z"
    }
   },
   "outputs": [],
   "source": [
    "print(scores)\n",
    "scores.mean()"
   ]
  },
  {
   "cell_type": "code",
   "execution_count": null,
   "metadata": {
    "ExecuteTime": {
     "end_time": "2018-09-24T07:32:52.599983Z",
     "start_time": "2018-09-24T07:32:48.273307Z"
    }
   },
   "outputs": [],
   "source": [
    "from sklearn.naive_bayes import MultinomialNB\n",
    "\n",
    "nb = MultinomialNB()\n",
    "\n",
    "scores = cross_val_score(nb, X_train_tfidf, Y_train, cv=10, scoring='f1_weighted', n_jobs=4)"
   ]
  },
  {
   "cell_type": "code",
   "execution_count": null,
   "metadata": {
    "ExecuteTime": {
     "end_time": "2018-09-24T07:32:54.303745Z",
     "start_time": "2018-09-24T07:32:54.296335Z"
    }
   },
   "outputs": [],
   "source": [
    "print(scores)\n",
    "scores.mean()"
   ]
  },
  {
   "cell_type": "markdown",
   "metadata": {},
   "source": [
    "## Train baseline & then tune hyperparameter K "
   ]
  },
  {
   "cell_type": "code",
   "execution_count": null,
   "metadata": {
    "ExecuteTime": {
     "end_time": "2018-09-22T21:36:16.862839Z",
     "start_time": "2018-09-22T21:36:08.927711Z"
    }
   },
   "outputs": [],
   "source": [
    "from sklearn.neighbors import KNeighborsClassifier\n",
    "from sklearn.model_selection import cross_val_score\n",
    "\n",
    "knn = KNeighborsClassifier(n_neighbors=41)\n",
    "\n",
    "scores = cross_val_score(knn, X_train_tfidf, Y_train, cv=10, scoring='f1_weighted', n_jobs=3)"
   ]
  },
  {
   "cell_type": "code",
   "execution_count": null,
   "metadata": {
    "ExecuteTime": {
     "end_time": "2018-09-22T21:36:16.872016Z",
     "start_time": "2018-09-22T21:36:16.865957Z"
    }
   },
   "outputs": [],
   "source": [
    "print(scores)\n",
    "scores.mean()"
   ]
  },
  {
   "cell_type": "code",
   "execution_count": 35,
   "metadata": {
    "ExecuteTime": {
     "end_time": "2018-09-24T07:51:45.358100Z",
     "start_time": "2018-09-24T07:51:45.350851Z"
    }
   },
   "outputs": [],
   "source": [
    "from sklearn.neighbors import KNeighborsClassifier\n",
    "from sklearn.model_selection import cross_val_score, GridSearchCV\n",
    "\n",
    "k_grid = np.arange(1, 100, 10)\n",
    "param_grid = {'n_neighbors': k_grid}\n",
    "\n",
    "clf = GridSearchCV(KNeighborsClassifier(), param_grid=param_grid, cv=10, scoring='f1_weighted', n_jobs=4, verbose=3)"
   ]
  },
  {
   "cell_type": "code",
   "execution_count": 36,
   "metadata": {
    "ExecuteTime": {
     "end_time": "2018-09-24T08:02:03.545382Z",
     "start_time": "2018-09-24T07:51:45.360233Z"
    },
    "scrolled": true
   },
   "outputs": [
    {
     "name": "stdout",
     "output_type": "stream",
     "text": [
      "Fitting 10 folds for each of 14 candidates, totalling 140 fits\n",
      "[CV] n_neighbors=1 ...................................................\n",
      "[CV] n_neighbors=1 ...................................................\n",
      "[CV] n_neighbors=1 ...................................................\n",
      "[CV] ......... n_neighbors=1, score=0.39929729219923016, total=   2.2s\n",
      "[CV] ......... n_neighbors=1, score=0.40560915427766703, total=   2.2s\n",
      "[CV] ......... n_neighbors=1, score=0.35894269809188006, total=   2.2s\n",
      "[CV] n_neighbors=1 ...................................................\n",
      "[CV] n_neighbors=1 ...................................................\n",
      "[CV] n_neighbors=1 ...................................................\n",
      "[CV] ......... n_neighbors=1, score=0.42511103429048064, total=   1.8s\n",
      "[CV] .......... n_neighbors=1, score=0.3594224164491725, total=   1.8s\n",
      "[CV] n_neighbors=1 ...................................................\n",
      "[CV] ........... n_neighbors=1, score=0.374295071386898, total=   1.8s\n",
      "[CV] n_neighbors=1 ...................................................\n",
      "[CV] n_neighbors=1 ...................................................\n",
      "[CV] .......... n_neighbors=1, score=0.3971040412764453, total=   1.7s\n",
      "[CV] ......... n_neighbors=1, score=0.38990599735330383, total=   1.6s\n",
      "[CV] n_neighbors=1 ...................................................\n",
      "[CV] n_neighbors=11 ..................................................\n",
      "[CV] ......... n_neighbors=1, score=0.39574365125932975, total=   1.6s\n",
      "[CV] n_neighbors=11 ..................................................\n",
      "[CV] .......... n_neighbors=1, score=0.3743671801887246, total=   1.6s\n",
      "[CV] n_neighbors=11 ..................................................\n",
      "[CV] ......... n_neighbors=11, score=0.5714919343471964, total=   1.8s\n",
      "[CV] n_neighbors=11 ..................................................\n",
      "[CV] ......... n_neighbors=11, score=0.5638087813365963, total=   1.7s\n",
      "[CV] n_neighbors=11 ..................................................\n",
      "[CV] ......... n_neighbors=11, score=0.5811771951746798, total=   1.7s\n",
      "[CV] n_neighbors=11 ..................................................\n",
      "[CV] ......... n_neighbors=11, score=0.5863668449393651, total=   1.8s\n",
      "[CV] n_neighbors=11 ..................................................\n",
      "[CV] ......... n_neighbors=11, score=0.5850723401131628, total=   1.7s\n",
      "[CV] n_neighbors=11 ..................................................\n",
      "[CV] ......... n_neighbors=11, score=0.5638284115918701, total=   1.7s\n",
      "[CV] n_neighbors=11 ..................................................\n",
      "[CV] ......... n_neighbors=11, score=0.5694969182508006, total=   1.9s\n",
      "[CV] n_neighbors=11 ..................................................\n",
      "[CV] ......... n_neighbors=11, score=0.5704934677060827, total=   1.8s\n",
      "[CV] n_neighbors=21 ..................................................\n",
      "[CV] ......... n_neighbors=11, score=0.5901776114705268, total=   1.5s\n",
      "[CV] n_neighbors=21 ..................................................\n",
      "[CV] ......... n_neighbors=11, score=0.5737281503830712, total=   1.7s\n",
      "[CV] n_neighbors=21 ..................................................\n",
      "[CV] ......... n_neighbors=21, score=0.5911087393801229, total=   1.6s\n",
      "[CV] n_neighbors=21 ..................................................\n",
      "[CV] ......... n_neighbors=21, score=0.5973535645767871, total=   1.5s\n",
      "[CV] n_neighbors=21 ..................................................\n",
      "[CV] ......... n_neighbors=21, score=0.6102117731748345, total=   1.7s\n",
      "[CV] n_neighbors=21 ..................................................\n",
      "[CV] ......... n_neighbors=21, score=0.6116347288263841, total=   1.6s\n",
      "[CV] n_neighbors=21 ..................................................\n",
      "[CV] ......... n_neighbors=21, score=0.6017733851537546, total=   1.8s\n",
      "[CV] n_neighbors=21 ..................................................\n",
      "[CV] ......... n_neighbors=21, score=0.5964457020513413, total=   2.0s\n",
      "[CV] n_neighbors=21 ..................................................\n",
      "[CV] ......... n_neighbors=21, score=0.6161592401814756, total=   1.9s\n",
      "[CV] n_neighbors=21 ..................................................\n"
     ]
    },
    {
     "name": "stderr",
     "output_type": "stream",
     "text": [
      "[Parallel(n_jobs=3)]: Done  26 tasks      | elapsed:  2.0min\n"
     ]
    },
    {
     "name": "stdout",
     "output_type": "stream",
     "text": [
      "[CV] ......... n_neighbors=21, score=0.6002945779257771, total=   1.5s\n",
      "[CV] n_neighbors=31 ..................................................\n",
      "[CV] .......... n_neighbors=21, score=0.618437706209418, total=   1.7s\n",
      "[CV] n_neighbors=31 ..................................................\n",
      "[CV] .......... n_neighbors=21, score=0.601203090007627, total=   1.7s\n",
      "[CV] n_neighbors=31 ..................................................\n",
      "[CV] ......... n_neighbors=31, score=0.6042700976654233, total=   1.6s\n",
      "[CV] n_neighbors=31 ..................................................\n",
      "[CV] ......... n_neighbors=31, score=0.5992474809012902, total=   1.7s\n",
      "[CV] n_neighbors=31 ..................................................\n",
      "[CV] ......... n_neighbors=31, score=0.6202399709976139, total=   1.7s\n",
      "[CV] n_neighbors=31 ..................................................\n",
      "[CV] ......... n_neighbors=31, score=0.6173788347409503, total=   1.6s\n",
      "[CV] n_neighbors=31 ..................................................\n",
      "[CV] ......... n_neighbors=31, score=0.6073194467756575, total=   1.7s\n",
      "[CV] n_neighbors=31 ..................................................\n",
      "[CV] ......... n_neighbors=31, score=0.5958253476363938, total=   1.7s\n",
      "[CV] n_neighbors=31 ..................................................\n",
      "[CV] ......... n_neighbors=31, score=0.6124386261859536, total=   1.5s\n",
      "[CV] n_neighbors=31 ..................................................\n",
      "[CV] ......... n_neighbors=31, score=0.6034357778672244, total=   1.6s\n",
      "[CV] n_neighbors=41 ..................................................\n",
      "[CV] .......... n_neighbors=31, score=0.633283998890247, total=   1.6s\n",
      "[CV] n_neighbors=41 ..................................................\n",
      "[CV] ......... n_neighbors=31, score=0.6005275102416372, total=   1.5s\n",
      "[CV] n_neighbors=41 ..................................................\n",
      "[CV] .......... n_neighbors=41, score=0.600478832000235, total=   1.7s\n",
      "[CV] n_neighbors=41 ..................................................\n",
      "[CV] ......... n_neighbors=41, score=0.6017256280749318, total=   1.6s\n",
      "[CV] n_neighbors=41 ..................................................\n",
      "[CV] ......... n_neighbors=41, score=0.6351459429465146, total=   1.5s\n",
      "[CV] n_neighbors=41 ..................................................\n",
      "[CV] ........... n_neighbors=41, score=0.61792472704748, total=   1.7s\n",
      "[CV] n_neighbors=41 ..................................................\n",
      "[CV] ......... n_neighbors=41, score=0.6081284521015445, total=   1.7s\n",
      "[CV] n_neighbors=41 ..................................................\n",
      "[CV] ......... n_neighbors=41, score=0.5923548706939563, total=   1.7s\n",
      "[CV] n_neighbors=41 ..................................................\n",
      "[CV] ......... n_neighbors=41, score=0.6245957820570106, total=   2.1s\n",
      "[CV] n_neighbors=41 ..................................................\n",
      "[CV] ......... n_neighbors=41, score=0.6121134062071603, total=   1.9s\n",
      "[CV] n_neighbors=51 ..................................................\n",
      "[CV] ......... n_neighbors=41, score=0.6331992681180976, total=   1.6s\n",
      "[CV] n_neighbors=51 ..................................................\n",
      "[CV] ......... n_neighbors=41, score=0.6056040897774395, total=   1.7s\n",
      "[CV] n_neighbors=51 ..................................................\n",
      "[CV] ......... n_neighbors=51, score=0.6018465562217546, total=   1.7s\n",
      "[CV] n_neighbors=51 ..................................................\n",
      "[CV] ......... n_neighbors=51, score=0.6051543927757278, total=   1.9s\n",
      "[CV] n_neighbors=51 ..................................................\n",
      "[CV] ......... n_neighbors=51, score=0.6382922256281142, total=   1.7s\n",
      "[CV] n_neighbors=51 ..................................................\n",
      "[CV] .......... n_neighbors=51, score=0.632844447896842, total=   1.7s\n",
      "[CV] n_neighbors=51 ..................................................\n",
      "[CV] .......... n_neighbors=51, score=0.617985573613614, total=   1.7s\n",
      "[CV] n_neighbors=51 ..................................................\n",
      "[CV] .......... n_neighbors=51, score=0.605020655349936, total=   2.1s\n",
      "[CV] n_neighbors=51 ..................................................\n",
      "[CV] ......... n_neighbors=51, score=0.6221451612671872, total=   2.1s\n",
      "[CV] n_neighbors=51 ..................................................\n",
      "[CV] ......... n_neighbors=51, score=0.6157163350724779, total=   2.0s\n",
      "[CV] n_neighbors=61 ..................................................\n",
      "[CV] ......... n_neighbors=51, score=0.6267147527019234, total=   2.0s\n",
      "[CV] n_neighbors=61 ..................................................\n",
      "[CV] ......... n_neighbors=51, score=0.6030200593484423, total=   2.0s\n",
      "[CV] n_neighbors=61 ..................................................\n",
      "[CV] .......... n_neighbors=61, score=0.609359405456147, total=   2.3s\n",
      "[CV] n_neighbors=61 ..................................................\n",
      "[CV] ......... n_neighbors=61, score=0.6051764787362868, total=   1.8s\n",
      "[CV] n_neighbors=61 ..................................................\n",
      "[CV] ......... n_neighbors=61, score=0.6306923042232854, total=   1.7s\n",
      "[CV] n_neighbors=61 ..................................................\n",
      "[CV] ......... n_neighbors=61, score=0.6334825310472547, total=   2.2s\n",
      "[CV] n_neighbors=61 ..................................................\n",
      "[CV] ......... n_neighbors=61, score=0.6117704007571289, total=   2.1s\n",
      "[CV] n_neighbors=61 ..................................................\n",
      "[CV] ......... n_neighbors=61, score=0.6095186553313754, total=   2.1s\n",
      "[CV] n_neighbors=61 ..................................................\n",
      "[CV] .......... n_neighbors=61, score=0.615093719009647, total=   2.7s\n",
      "[CV] n_neighbors=61 ..................................................\n",
      "[CV] ......... n_neighbors=61, score=0.6128943585300061, total=   2.0s\n",
      "[CV] n_neighbors=71 ..................................................\n",
      "[CV] ......... n_neighbors=61, score=0.6311770088376252, total=   1.9s\n",
      "[CV] n_neighbors=71 ..................................................\n",
      "[CV] ......... n_neighbors=61, score=0.5984110260715799, total=   2.2s\n",
      "[CV] n_neighbors=71 ..................................................\n",
      "[CV] ......... n_neighbors=71, score=0.6081226301269994, total=   2.0s\n",
      "[CV] n_neighbors=71 ..................................................\n",
      "[CV] ......... n_neighbors=71, score=0.6083188056872821, total=   1.9s\n",
      "[CV] n_neighbors=71 ..................................................\n",
      "[CV] ......... n_neighbors=71, score=0.6308244688915866, total=   2.1s\n",
      "[CV] n_neighbors=71 ..................................................\n",
      "[CV] ......... n_neighbors=71, score=0.6282119680030628, total=   1.8s\n",
      "[CV] n_neighbors=71 ..................................................\n",
      "[CV] ......... n_neighbors=71, score=0.6124840674924946, total=   1.8s\n",
      "[CV] n_neighbors=71 ..................................................\n",
      "[CV] .......... n_neighbors=71, score=0.607991090255807, total=   2.0s\n",
      "[CV] n_neighbors=71 ..................................................\n",
      "[CV] ......... n_neighbors=71, score=0.6165604117865467, total=   1.8s\n",
      "[CV] n_neighbors=71 ..................................................\n",
      "[CV] .......... n_neighbors=71, score=0.613437316899286, total=   1.7s\n",
      "[CV] n_neighbors=81 ..................................................\n",
      "[CV] ......... n_neighbors=71, score=0.6279124199834538, total=   2.0s\n",
      "[CV] n_neighbors=81 ..................................................\n",
      "[CV] ......... n_neighbors=71, score=0.6081364089380433, total=   1.8s\n",
      "[CV] n_neighbors=81 ..................................................\n",
      "[CV] ......... n_neighbors=81, score=0.6145222207371854, total=   1.8s\n",
      "[CV] n_neighbors=81 ..................................................\n",
      "[CV] ......... n_neighbors=81, score=0.6072554506363147, total=   1.9s\n",
      "[CV] n_neighbors=81 ..................................................\n",
      "[CV] ......... n_neighbors=81, score=0.6351708650529007, total=   1.8s\n",
      "[CV] n_neighbors=81 ..................................................\n",
      "[CV] ........... n_neighbors=81, score=0.63205374169151, total=   1.7s\n",
      "[CV] n_neighbors=81 ..................................................\n",
      "[CV] ......... n_neighbors=81, score=0.6050518457501204, total=   2.0s\n",
      "[CV] n_neighbors=81 ..................................................\n"
     ]
    },
    {
     "name": "stdout",
     "output_type": "stream",
     "text": [
      "[CV] ......... n_neighbors=81, score=0.6056133417852848, total=   1.8s\n",
      "[CV] n_neighbors=81 ..................................................\n",
      "[CV] ......... n_neighbors=81, score=0.6175400903192604, total=   1.7s\n",
      "[CV] n_neighbors=81 ..................................................\n",
      "[CV] .......... n_neighbors=81, score=0.611054254450855, total=   1.9s\n",
      "[CV] n_neighbors=91 ..................................................\n",
      "[CV] ......... n_neighbors=81, score=0.6209330069569936, total=   1.7s\n",
      "[CV] n_neighbors=91 ..................................................\n",
      "[CV] ......... n_neighbors=81, score=0.6030284050835907, total=   1.7s\n",
      "[CV] n_neighbors=91 ..................................................\n",
      "[CV] ......... n_neighbors=91, score=0.6144437224815352, total=   1.7s\n",
      "[CV] n_neighbors=91 ..................................................\n",
      "[CV] ......... n_neighbors=91, score=0.6022796724549465, total=   2.1s\n",
      "[CV] n_neighbors=91 ..................................................\n",
      "[CV] .......... n_neighbors=91, score=0.629679861578237, total=   2.1s\n",
      "[CV] n_neighbors=91 ..................................................\n",
      "[CV] ......... n_neighbors=91, score=0.6238220620972906, total=   1.8s\n",
      "[CV] n_neighbors=91 ..................................................\n",
      "[CV] ......... n_neighbors=91, score=0.6028220087785666, total=   2.0s\n",
      "[CV] n_neighbors=91 ..................................................\n",
      "[CV] ......... n_neighbors=91, score=0.6022277846300346, total=   2.1s\n",
      "[CV] n_neighbors=91 ..................................................\n",
      "[CV] ......... n_neighbors=91, score=0.6207668380369828, total=   1.7s\n",
      "[CV] n_neighbors=91 ..................................................\n",
      "[CV] ......... n_neighbors=91, score=0.6127180644714114, total=   1.9s\n",
      "[CV] n_neighbors=101 .................................................\n",
      "[CV] ......... n_neighbors=91, score=0.6224397991058765, total=   1.8s\n",
      "[CV] n_neighbors=101 .................................................\n",
      "[CV] ......... n_neighbors=91, score=0.5954674177664391, total=   2.0s\n",
      "[CV] n_neighbors=101 .................................................\n",
      "[CV] ........ n_neighbors=101, score=0.6075477286912799, total=   1.7s\n",
      "[CV] n_neighbors=101 .................................................\n",
      "[CV] ......... n_neighbors=101, score=0.599662968622672, total=   1.7s\n",
      "[CV] n_neighbors=101 .................................................\n",
      "[CV] ......... n_neighbors=101, score=0.626055822399466, total=   1.8s\n",
      "[CV] n_neighbors=101 .................................................\n",
      "[CV] ........ n_neighbors=101, score=0.6187984005795261, total=   1.8s\n",
      "[CV] n_neighbors=101 .................................................\n",
      "[CV] ........ n_neighbors=101, score=0.6047803845210539, total=   1.7s\n",
      "[CV] n_neighbors=101 .................................................\n",
      "[CV] ........ n_neighbors=101, score=0.6028345417705618, total=   1.7s\n",
      "[CV] n_neighbors=101 .................................................\n",
      "[CV] ........ n_neighbors=101, score=0.6141302241233783, total=   1.8s\n",
      "[CV] n_neighbors=101 .................................................\n",
      "[CV] ........ n_neighbors=101, score=0.6025478671571215, total=   1.7s\n",
      "[CV] n_neighbors=111 .................................................\n",
      "[CV] ........ n_neighbors=101, score=0.6298503595272731, total=   1.8s\n",
      "[CV] n_neighbors=111 .................................................\n",
      "[CV] ........ n_neighbors=101, score=0.5989550599307977, total=   1.8s\n",
      "[CV] n_neighbors=111 .................................................\n",
      "[CV] ........ n_neighbors=111, score=0.6076887174149308, total=   1.7s\n",
      "[CV] n_neighbors=111 .................................................\n",
      "[CV] ........ n_neighbors=111, score=0.6010807437689676, total=   1.7s\n",
      "[CV] n_neighbors=111 .................................................\n",
      "[CV] ........ n_neighbors=111, score=0.6240064977155865, total=   1.9s\n",
      "[CV] n_neighbors=111 .................................................\n",
      "[CV] ........ n_neighbors=111, score=0.6186835325184197, total=   1.8s\n",
      "[CV] n_neighbors=111 .................................................\n",
      "[CV] ........ n_neighbors=111, score=0.5988705450609579, total=   1.7s\n",
      "[CV] n_neighbors=111 .................................................\n",
      "[CV] ......... n_neighbors=111, score=0.611599846785965, total=   1.8s\n",
      "[CV] n_neighbors=111 .................................................\n",
      "[CV] ........ n_neighbors=111, score=0.6125772636774789, total=   1.7s\n",
      "[CV] n_neighbors=111 .................................................\n",
      "[CV] ........ n_neighbors=111, score=0.6063732406785888, total=   1.7s\n",
      "[CV] n_neighbors=121 .................................................\n",
      "[CV] ........ n_neighbors=111, score=0.6298086857589684, total=   1.8s\n",
      "[CV] n_neighbors=121 .................................................\n",
      "[CV] ........ n_neighbors=111, score=0.6004843846856818, total=   1.8s\n",
      "[CV] n_neighbors=121 .................................................\n",
      "[CV] ........ n_neighbors=121, score=0.6073893514724958, total=   1.8s\n",
      "[CV] n_neighbors=121 .................................................\n",
      "[CV] ........ n_neighbors=121, score=0.5953156174410619, total=   1.7s\n",
      "[CV] n_neighbors=121 .................................................\n"
     ]
    },
    {
     "name": "stderr",
     "output_type": "stream",
     "text": [
      "[Parallel(n_jobs=3)]: Done 122 tasks      | elapsed:  9.0min\n"
     ]
    },
    {
     "name": "stdout",
     "output_type": "stream",
     "text": [
      "[CV] ........ n_neighbors=121, score=0.6285985824580712, total=   1.7s\n",
      "[CV] n_neighbors=121 .................................................\n",
      "[CV] ......... n_neighbors=121, score=0.619487471633984, total=   1.7s\n",
      "[CV] n_neighbors=121 .................................................\n",
      "[CV] ........ n_neighbors=121, score=0.6007003563022757, total=   1.9s\n",
      "[CV] n_neighbors=121 .................................................\n",
      "[CV] ........ n_neighbors=121, score=0.6106300799830087, total=   1.8s\n",
      "[CV] n_neighbors=121 .................................................\n",
      "[CV] ......... n_neighbors=121, score=0.610858188778574, total=   1.7s\n",
      "[CV] n_neighbors=121 .................................................\n",
      "[CV] ........ n_neighbors=121, score=0.6020608992296167, total=   1.9s\n",
      "[CV] n_neighbors=131 .................................................\n",
      "[CV] ........ n_neighbors=121, score=0.6277534469764947, total=   1.8s\n",
      "[CV] n_neighbors=131 .................................................\n",
      "[CV] ........ n_neighbors=121, score=0.5974371819035121, total=   1.7s\n",
      "[CV] n_neighbors=131 .................................................\n",
      "[CV] .......... n_neighbors=131, score=0.60129019046827, total=   1.9s\n",
      "[CV] n_neighbors=131 .................................................\n",
      "[CV] ........ n_neighbors=131, score=0.5934007283472104, total=   1.8s\n",
      "[CV] n_neighbors=131 .................................................\n",
      "[CV] ........ n_neighbors=131, score=0.6246203824974529, total=   2.2s\n",
      "[CV] n_neighbors=131 .................................................\n",
      "[CV] ........ n_neighbors=131, score=0.6136652580010762, total=   2.2s\n",
      "[CV] n_neighbors=131 .................................................\n",
      "[CV] ........ n_neighbors=131, score=0.6048251487741737, total=   2.1s\n",
      "[CV] n_neighbors=131 .................................................\n",
      "[CV] ........ n_neighbors=131, score=0.6015128599445084, total=   1.6s\n",
      "[CV] n_neighbors=131 .................................................\n",
      "[CV] ........ n_neighbors=131, score=0.6162118698142534, total=   1.7s\n",
      "[CV] n_neighbors=131 .................................................\n",
      "[CV] ........ n_neighbors=131, score=0.6002677348656047, total=   1.7s\n",
      "[CV] ........ n_neighbors=131, score=0.6267197003855772, total=   1.6s\n",
      "[CV] ........ n_neighbors=131, score=0.5964926036290416, total=   1.6s\n"
     ]
    },
    {
     "name": "stderr",
     "output_type": "stream",
     "text": [
      "[Parallel(n_jobs=3)]: Done 140 out of 140 | elapsed: 10.3min finished\n"
     ]
    },
    {
     "data": {
      "text/plain": [
       "GridSearchCV(cv=10, error_score='raise',\n",
       "       estimator=KNeighborsClassifier(algorithm='auto', leaf_size=30, metric='minkowski',\n",
       "           metric_params=None, n_jobs=1, n_neighbors=5, p=2,\n",
       "           weights='uniform'),\n",
       "       fit_params=None, iid=True, n_jobs=3,\n",
       "       param_grid={'n_neighbors': array([  1,  11,  21,  31,  41,  51,  61,  71,  81,  91, 101, 111, 121,\n",
       "       131])},\n",
       "       pre_dispatch='2*n_jobs', refit=True, return_train_score='warn',\n",
       "       scoring='f1_weighted', verbose=3)"
      ]
     },
     "execution_count": 36,
     "metadata": {},
     "output_type": "execute_result"
    }
   ],
   "source": [
    "clf.fit(X_train_tfidf, Y_train)"
   ]
  },
  {
   "cell_type": "code",
   "execution_count": 37,
   "metadata": {
    "ExecuteTime": {
     "end_time": "2018-09-24T08:02:03.557130Z",
     "start_time": "2018-09-24T08:02:03.550096Z"
    }
   },
   "outputs": [
    {
     "data": {
      "text/plain": [
       "{'n_neighbors': 51}"
      ]
     },
     "execution_count": 37,
     "metadata": {},
     "output_type": "execute_result"
    }
   ],
   "source": [
    "clf.best_params_"
   ]
  },
  {
   "cell_type": "code",
   "execution_count": 38,
   "metadata": {
    "ExecuteTime": {
     "end_time": "2018-09-24T08:02:03.564935Z",
     "start_time": "2018-09-24T08:02:03.559658Z"
    }
   },
   "outputs": [
    {
     "data": {
      "text/plain": [
       "0.6168749712070135"
      ]
     },
     "execution_count": 38,
     "metadata": {},
     "output_type": "execute_result"
    }
   ],
   "source": [
    "clf.best_score_"
   ]
  },
  {
   "cell_type": "code",
   "execution_count": 39,
   "metadata": {
    "ExecuteTime": {
     "end_time": "2018-09-24T08:02:48.415828Z",
     "start_time": "2018-09-24T08:02:48.404677Z"
    }
   },
   "outputs": [],
   "source": [
    "k_grid = np.arange(42, 61, 1)\n",
    "param_grid = {'n_neighbors': k_grid}\n",
    "\n",
    "clf = GridSearchCV(KNeighborsClassifier(), param_grid=param_grid, cv=10, scoring='f1_weighted', n_jobs=4, verbose=3)"
   ]
  },
  {
   "cell_type": "code",
   "execution_count": 40,
   "metadata": {
    "ExecuteTime": {
     "end_time": "2018-09-24T08:16:13.928775Z",
     "start_time": "2018-09-24T08:02:48.696607Z"
    },
    "scrolled": true
   },
   "outputs": [
    {
     "name": "stdout",
     "output_type": "stream",
     "text": [
      "Fitting 10 folds for each of 19 candidates, totalling 190 fits\n",
      "[CV] n_neighbors=42 ..................................................\n",
      "[CV] n_neighbors=42 ..................................................\n",
      "[CV] n_neighbors=42 ..................................................\n",
      "[CV] ......... n_neighbors=42, score=0.6039956386024407, total=   1.9s\n",
      "[CV] n_neighbors=42 ..................................................\n",
      "[CV] .......... n_neighbors=42, score=0.600556585031218, total=   1.9s\n",
      "[CV] ......... n_neighbors=42, score=0.6354097775612313, total=   1.9s\n",
      "[CV] n_neighbors=42 ..................................................\n",
      "[CV] n_neighbors=42 ..................................................\n",
      "[CV] ......... n_neighbors=42, score=0.6211944811805191, total=   1.8s\n",
      "[CV] n_neighbors=42 ..................................................\n",
      "[CV] ......... n_neighbors=42, score=0.6126482298316405, total=   1.8s\n",
      "[CV] n_neighbors=42 ..................................................\n",
      "[CV] ......... n_neighbors=42, score=0.5969634929844924, total=   1.8s\n",
      "[CV] n_neighbors=42 ..................................................\n",
      "[CV] ......... n_neighbors=42, score=0.6220875199235456, total=   2.0s\n",
      "[CV] n_neighbors=42 ..................................................\n",
      "[CV] ......... n_neighbors=42, score=0.6150615149772078, total=   1.9s\n",
      "[CV] n_neighbors=43 ..................................................\n",
      "[CV] ......... n_neighbors=42, score=0.6320756918281654, total=   1.9s\n",
      "[CV] n_neighbors=43 ..................................................\n",
      "[CV] ......... n_neighbors=42, score=0.6096197494634017, total=   2.2s\n",
      "[CV] n_neighbors=43 ..................................................\n",
      "[CV] ......... n_neighbors=43, score=0.6018115004620674, total=   2.2s\n",
      "[CV] n_neighbors=43 ..................................................\n",
      "[CV] ......... n_neighbors=43, score=0.6050502891371227, total=   2.2s\n",
      "[CV] n_neighbors=43 ..................................................\n",
      "[CV] ......... n_neighbors=43, score=0.6302251729890227, total=   2.2s\n",
      "[CV] n_neighbors=43 ..................................................\n",
      "[CV] ......... n_neighbors=43, score=0.6146051400191213, total=   2.2s\n",
      "[CV] ......... n_neighbors=43, score=0.6144771091216671, total=   2.3s\n",
      "[CV] n_neighbors=43 ..................................................\n",
      "[CV] n_neighbors=43 ..................................................\n",
      "[CV] ......... n_neighbors=43, score=0.5999718922091956, total=   1.9s\n",
      "[CV] n_neighbors=43 ..................................................\n",
      "[CV] ......... n_neighbors=43, score=0.6160310780633046, total=   1.8s\n",
      "[CV] n_neighbors=43 ..................................................\n",
      "[CV] ......... n_neighbors=43, score=0.6237543541151535, total=   1.8s\n",
      "[CV] n_neighbors=44 ..................................................\n",
      "[CV] .......... n_neighbors=43, score=0.630395512638429, total=   1.9s\n",
      "[CV] n_neighbors=44 ..................................................\n",
      "[CV] ......... n_neighbors=43, score=0.6036336692548951, total=   1.9s\n",
      "[CV] n_neighbors=44 ..................................................\n",
      "[CV] ......... n_neighbors=44, score=0.6005904798207087, total=   1.8s\n",
      "[CV] n_neighbors=44 ..................................................\n",
      "[CV] ......... n_neighbors=44, score=0.6028975370024099, total=   2.0s\n",
      "[CV] n_neighbors=44 ..................................................\n",
      "[CV] .......... n_neighbors=44, score=0.636845748862886, total=   2.0s\n",
      "[CV] n_neighbors=44 ..................................................\n",
      "[CV] ......... n_neighbors=44, score=0.6185795548409218, total=   2.0s\n",
      "[CV] n_neighbors=44 ..................................................\n",
      "[CV] ......... n_neighbors=44, score=0.6119812446552265, total=   1.9s\n",
      "[CV] n_neighbors=44 ..................................................\n",
      "[CV] ......... n_neighbors=44, score=0.6001110969633418, total=   1.8s\n",
      "[CV] n_neighbors=44 ..................................................\n",
      "[CV] ......... n_neighbors=44, score=0.6238940176647201, total=   1.8s\n",
      "[CV] n_neighbors=44 ..................................................\n"
     ]
    },
    {
     "name": "stderr",
     "output_type": "stream",
     "text": [
      "[Parallel(n_jobs=3)]: Done  26 tasks      | elapsed:  2.1min\n"
     ]
    },
    {
     "name": "stdout",
     "output_type": "stream",
     "text": [
      "[CV] ......... n_neighbors=44, score=0.6209499176442981, total=   1.8s\n",
      "[CV] n_neighbors=45 ..................................................\n",
      "[CV] ......... n_neighbors=44, score=0.6240399462568287, total=   1.8s\n",
      "[CV] n_neighbors=45 ..................................................\n",
      "[CV] .......... n_neighbors=44, score=0.606542463153329, total=   1.8s\n",
      "[CV] n_neighbors=45 ..................................................\n",
      "[CV] ......... n_neighbors=45, score=0.5989205675863764, total=   1.8s\n",
      "[CV] n_neighbors=45 ..................................................\n",
      "[CV] ......... n_neighbors=45, score=0.6033118913694928, total=   1.8s\n",
      "[CV] n_neighbors=45 ..................................................\n",
      "[CV] ......... n_neighbors=45, score=0.6305148810971721, total=   1.7s\n",
      "[CV] n_neighbors=45 ..................................................\n",
      "[CV] ......... n_neighbors=45, score=0.6195136222538212, total=   1.7s\n",
      "[CV] n_neighbors=45 ..................................................\n",
      "[CV] ......... n_neighbors=45, score=0.6132914328231815, total=   1.8s\n",
      "[CV] n_neighbors=45 ..................................................\n",
      "[CV] ......... n_neighbors=45, score=0.6035336815474791, total=   1.7s\n",
      "[CV] n_neighbors=45 ..................................................\n",
      "[CV] ......... n_neighbors=45, score=0.6230156471714143, total=   1.9s\n",
      "[CV] n_neighbors=45 ..................................................\n",
      "[CV] ......... n_neighbors=45, score=0.6194336455424211, total=   2.0s\n",
      "[CV] n_neighbors=46 ..................................................\n",
      "[CV] ......... n_neighbors=45, score=0.6308030530916563, total=   2.1s\n",
      "[CV] n_neighbors=46 ..................................................\n",
      "[CV] ......... n_neighbors=45, score=0.5997992774362897, total=   1.7s\n",
      "[CV] n_neighbors=46 ..................................................\n",
      "[CV] ......... n_neighbors=46, score=0.6073181969937221, total=   1.8s\n",
      "[CV] n_neighbors=46 ..................................................\n",
      "[CV] ......... n_neighbors=46, score=0.6053528199601584, total=   1.7s\n",
      "[CV] n_neighbors=46 ..................................................\n",
      "[CV] ......... n_neighbors=46, score=0.6350678318722218, total=   1.8s\n",
      "[CV] n_neighbors=46 ..................................................\n",
      "[CV] ......... n_neighbors=46, score=0.6221425987414659, total=   1.8s\n",
      "[CV] n_neighbors=46 ..................................................\n",
      "[CV] ......... n_neighbors=46, score=0.6147014424143176, total=   1.7s\n",
      "[CV] n_neighbors=46 ..................................................\n",
      "[CV] ......... n_neighbors=46, score=0.6046740594829524, total=   1.7s\n",
      "[CV] n_neighbors=46 ..................................................\n",
      "[CV] ......... n_neighbors=46, score=0.6208436262032044, total=   1.7s\n",
      "[CV] n_neighbors=46 ..................................................\n",
      "[CV] ......... n_neighbors=46, score=0.6215643585109878, total=   1.7s\n",
      "[CV] n_neighbors=47 ..................................................\n",
      "[CV] ......... n_neighbors=46, score=0.6300458115546761, total=   1.7s\n",
      "[CV] n_neighbors=47 ..................................................\n",
      "[CV] ......... n_neighbors=46, score=0.6062356080692132, total=   1.7s\n",
      "[CV] n_neighbors=47 ..................................................\n",
      "[CV] ......... n_neighbors=47, score=0.6035536882945638, total=   1.7s\n",
      "[CV] n_neighbors=47 ..................................................\n",
      "[CV] ......... n_neighbors=47, score=0.6042367389101847, total=   1.7s\n",
      "[CV] n_neighbors=47 ..................................................\n",
      "[CV] ......... n_neighbors=47, score=0.6338725091537175, total=   1.8s\n",
      "[CV] n_neighbors=47 ..................................................\n",
      "[CV] ......... n_neighbors=47, score=0.6260209621683441, total=   1.7s\n",
      "[CV] n_neighbors=47 ..................................................\n",
      "[CV] ......... n_neighbors=47, score=0.6116108194458885, total=   1.9s\n",
      "[CV] n_neighbors=47 ..................................................\n",
      "[CV] ......... n_neighbors=47, score=0.6042016719967184, total=   2.0s\n",
      "[CV] n_neighbors=47 ..................................................\n",
      "[CV] ......... n_neighbors=47, score=0.6252099096851796, total=   1.9s\n",
      "[CV] n_neighbors=47 ..................................................\n",
      "[CV] .......... n_neighbors=47, score=0.616914425090749, total=   1.6s\n",
      "[CV] n_neighbors=48 ..................................................\n",
      "[CV] ......... n_neighbors=47, score=0.6292064813320453, total=   1.7s\n",
      "[CV] n_neighbors=48 ..................................................\n",
      "[CV] ......... n_neighbors=47, score=0.6026004115621274, total=   1.6s\n",
      "[CV] n_neighbors=48 ..................................................\n",
      "[CV] ......... n_neighbors=48, score=0.6016647040520509, total=   1.6s\n",
      "[CV] n_neighbors=48 ..................................................\n",
      "[CV] ......... n_neighbors=48, score=0.6093810822341628, total=   1.7s\n",
      "[CV] n_neighbors=48 ..................................................\n",
      "[CV] ......... n_neighbors=48, score=0.6360329527094646, total=   1.6s\n",
      "[CV] n_neighbors=48 ..................................................\n",
      "[CV] ......... n_neighbors=48, score=0.6204656137577533, total=   1.6s\n",
      "[CV] n_neighbors=48 ..................................................\n",
      "[CV] ......... n_neighbors=48, score=0.6154716052642694, total=   1.7s\n",
      "[CV] n_neighbors=48 ..................................................\n",
      "[CV] ......... n_neighbors=48, score=0.6038292991317531, total=   1.6s\n",
      "[CV] n_neighbors=48 ..................................................\n",
      "[CV] ......... n_neighbors=48, score=0.6229591021732562, total=   1.6s\n",
      "[CV] n_neighbors=48 ..................................................\n",
      "[CV] ........... n_neighbors=48, score=0.61612346831913, total=   1.7s\n",
      "[CV] n_neighbors=49 ..................................................\n",
      "[CV] ......... n_neighbors=48, score=0.6280855769821809, total=   1.6s\n",
      "[CV] n_neighbors=49 ..................................................\n",
      "[CV] ......... n_neighbors=48, score=0.6041132140582994, total=   1.6s\n",
      "[CV] n_neighbors=49 ..................................................\n",
      "[CV] ......... n_neighbors=49, score=0.6033988682642926, total=   1.7s\n",
      "[CV] n_neighbors=49 ..................................................\n",
      "[CV] ........... n_neighbors=49, score=0.60842478483062, total=   1.6s\n",
      "[CV] n_neighbors=49 ..................................................\n",
      "[CV] ......... n_neighbors=49, score=0.6351802050159809, total=   1.6s\n",
      "[CV] n_neighbors=49 ..................................................\n",
      "[CV] ......... n_neighbors=49, score=0.6327227149729504, total=   1.7s\n",
      "[CV] n_neighbors=49 ..................................................\n",
      "[CV] .......... n_neighbors=49, score=0.615104160365381, total=   1.6s\n",
      "[CV] n_neighbors=49 ..................................................\n",
      "[CV] .......... n_neighbors=49, score=0.604627660985448, total=   1.5s\n",
      "[CV] n_neighbors=49 ..................................................\n",
      "[CV] ......... n_neighbors=49, score=0.6184050677260973, total=   1.7s\n",
      "[CV] n_neighbors=49 ..................................................\n",
      "[CV] ......... n_neighbors=49, score=0.6182475842236039, total=   1.6s\n",
      "[CV] n_neighbors=50 ..................................................\n",
      "[CV] ......... n_neighbors=49, score=0.6280022382493483, total=   1.5s\n",
      "[CV] n_neighbors=50 ..................................................\n",
      "[CV] .......... n_neighbors=49, score=0.604435541051591, total=   1.7s\n",
      "[CV] n_neighbors=50 ..................................................\n",
      "[CV] ......... n_neighbors=50, score=0.6015124861095403, total=   1.6s\n",
      "[CV] n_neighbors=50 ..................................................\n",
      "[CV] ......... n_neighbors=50, score=0.6080312440074359, total=   1.5s\n",
      "[CV] n_neighbors=50 ..................................................\n",
      "[CV] ......... n_neighbors=50, score=0.6351409874253434, total=   1.7s\n",
      "[CV] n_neighbors=50 ..................................................\n",
      "[CV] ......... n_neighbors=50, score=0.6301572614943683, total=   1.6s\n",
      "[CV] n_neighbors=50 ..................................................\n",
      "[CV] ......... n_neighbors=50, score=0.6177659650113186, total=   1.8s\n",
      "[CV] n_neighbors=50 ..................................................\n"
     ]
    },
    {
     "name": "stdout",
     "output_type": "stream",
     "text": [
      "[CV] ......... n_neighbors=50, score=0.6105239585073757, total=   2.0s\n",
      "[CV] n_neighbors=50 ..................................................\n",
      "[CV] ......... n_neighbors=50, score=0.6152941460132143, total=   2.0s\n",
      "[CV] n_neighbors=50 ..................................................\n",
      "[CV] ......... n_neighbors=50, score=0.6139777873247112, total=   1.5s\n",
      "[CV] n_neighbors=51 ..................................................\n",
      "[CV] ......... n_neighbors=50, score=0.6308086384731811, total=   1.6s\n",
      "[CV] n_neighbors=51 ..................................................\n",
      "[CV] ......... n_neighbors=50, score=0.6053661145110183, total=   1.6s\n",
      "[CV] n_neighbors=51 ..................................................\n",
      "[CV] ......... n_neighbors=51, score=0.6018465562217546, total=   1.5s\n",
      "[CV] n_neighbors=51 ..................................................\n",
      "[CV] ......... n_neighbors=51, score=0.6051543927757278, total=   1.6s\n",
      "[CV] n_neighbors=51 ..................................................\n",
      "[CV] ......... n_neighbors=51, score=0.6382922256281142, total=   1.6s\n",
      "[CV] n_neighbors=51 ..................................................\n",
      "[CV] .......... n_neighbors=51, score=0.632844447896842, total=   1.6s\n",
      "[CV] n_neighbors=51 ..................................................\n",
      "[CV] .......... n_neighbors=51, score=0.617985573613614, total=   1.6s\n",
      "[CV] n_neighbors=51 ..................................................\n",
      "[CV] .......... n_neighbors=51, score=0.605020655349936, total=   1.6s\n",
      "[CV] n_neighbors=51 ..................................................\n",
      "[CV] ......... n_neighbors=51, score=0.6221451612671872, total=   1.6s\n",
      "[CV] n_neighbors=51 ..................................................\n",
      "[CV] ......... n_neighbors=51, score=0.6157163350724779, total=   1.7s\n",
      "[CV] n_neighbors=52 ..................................................\n",
      "[CV] ......... n_neighbors=51, score=0.6267147527019234, total=   1.6s\n",
      "[CV] n_neighbors=52 ..................................................\n",
      "[CV] ......... n_neighbors=51, score=0.6030200593484423, total=   1.6s\n",
      "[CV] n_neighbors=52 ..................................................\n",
      "[CV] ......... n_neighbors=52, score=0.6038869943319743, total=   1.6s\n",
      "[CV] n_neighbors=52 ..................................................\n",
      "[CV] ......... n_neighbors=52, score=0.6009869688850558, total=   1.8s\n",
      "[CV] n_neighbors=52 ..................................................\n",
      "[CV] ......... n_neighbors=52, score=0.6332677097690762, total=   1.8s\n",
      "[CV] n_neighbors=52 ..................................................\n",
      "[CV] ............ n_neighbors=52, score=0.6341333583733, total=   1.9s\n",
      "[CV] n_neighbors=52 ..................................................\n",
      "[CV] ......... n_neighbors=52, score=0.6131097425165546, total=   1.7s\n",
      "[CV] n_neighbors=52 ..................................................\n",
      "[CV] .......... n_neighbors=52, score=0.612555077276527, total=   2.1s\n",
      "[CV] n_neighbors=52 ..................................................\n",
      "[CV] ......... n_neighbors=52, score=0.6245498273882595, total=   1.9s\n",
      "[CV] n_neighbors=52 ..................................................\n",
      "[CV] ......... n_neighbors=52, score=0.6165030066816184, total=   1.8s\n",
      "[CV] n_neighbors=53 ..................................................\n",
      "[CV] ......... n_neighbors=52, score=0.6262698746378904, total=   1.9s\n",
      "[CV] n_neighbors=53 ..................................................\n",
      "[CV] ......... n_neighbors=52, score=0.6015910530125899, total=   1.8s\n",
      "[CV] n_neighbors=53 ..................................................\n",
      "[CV] .......... n_neighbors=53, score=0.603250727827962, total=   1.7s\n",
      "[CV] n_neighbors=53 ..................................................\n",
      "[CV] ......... n_neighbors=53, score=0.6023108150058591, total=   2.0s\n",
      "[CV] n_neighbors=53 ..................................................\n",
      "[CV] ......... n_neighbors=53, score=0.6388782343912721, total=   1.9s\n",
      "[CV] n_neighbors=53 ..................................................\n",
      "[CV] ......... n_neighbors=53, score=0.6307692451202914, total=   1.7s\n",
      "[CV] n_neighbors=53 ..................................................\n",
      "[CV] ......... n_neighbors=53, score=0.6135045629695898, total=   1.6s\n",
      "[CV] n_neighbors=53 ..................................................\n",
      "[CV] ......... n_neighbors=53, score=0.6105623982235003, total=   1.6s\n",
      "[CV] n_neighbors=53 ..................................................\n",
      "[CV] ......... n_neighbors=53, score=0.6216332817176399, total=   1.6s\n",
      "[CV] n_neighbors=53 ..................................................\n",
      "[CV] ......... n_neighbors=53, score=0.6152055336902701, total=   1.6s\n",
      "[CV] n_neighbors=54 ..................................................\n",
      "[CV] ......... n_neighbors=53, score=0.6290565622769473, total=   1.6s\n",
      "[CV] n_neighbors=54 ..................................................\n",
      "[CV] .......... n_neighbors=53, score=0.602693069202222, total=   1.6s\n",
      "[CV] n_neighbors=54 ..................................................\n",
      "[CV] ......... n_neighbors=54, score=0.6066623320383403, total=   1.6s\n",
      "[CV] n_neighbors=54 ..................................................\n",
      "[CV] ......... n_neighbors=54, score=0.6029824645691161, total=   1.6s\n",
      "[CV] n_neighbors=54 ..................................................\n"
     ]
    },
    {
     "name": "stderr",
     "output_type": "stream",
     "text": [
      "[Parallel(n_jobs=3)]: Done 122 tasks      | elapsed:  8.6min\n"
     ]
    },
    {
     "name": "stdout",
     "output_type": "stream",
     "text": [
      "[CV] ......... n_neighbors=54, score=0.6408533091497388, total=   1.6s\n",
      "[CV] n_neighbors=54 ..................................................\n",
      "[CV] ......... n_neighbors=54, score=0.6385244563115771, total=   1.7s\n",
      "[CV] n_neighbors=54 ..................................................\n",
      "[CV] ......... n_neighbors=54, score=0.6159869740920709, total=   1.6s\n",
      "[CV] n_neighbors=54 ..................................................\n",
      "[CV] ......... n_neighbors=54, score=0.6099181189646462, total=   1.6s\n",
      "[CV] n_neighbors=54 ..................................................\n",
      "[CV] ......... n_neighbors=54, score=0.6229285975221526, total=   1.7s\n",
      "[CV] n_neighbors=54 ..................................................\n",
      "[CV] ......... n_neighbors=54, score=0.6146927988502036, total=   1.7s\n",
      "[CV] n_neighbors=55 ..................................................\n",
      "[CV] ......... n_neighbors=54, score=0.6264764419455768, total=   1.7s\n",
      "[CV] n_neighbors=55 ..................................................\n",
      "[CV] .......... n_neighbors=54, score=0.602148354393289, total=   1.9s\n",
      "[CV] n_neighbors=55 ..................................................\n",
      "[CV] ......... n_neighbors=55, score=0.6091592091698379, total=   1.7s\n",
      "[CV] n_neighbors=55 ..................................................\n",
      "[CV] .......... n_neighbors=55, score=0.604007258092505, total=   1.6s\n",
      "[CV] n_neighbors=55 ..................................................\n",
      "[CV] ......... n_neighbors=55, score=0.6398943240555435, total=   1.8s\n",
      "[CV] n_neighbors=55 ..................................................\n",
      "[CV] ......... n_neighbors=55, score=0.6322271736819557, total=   1.6s\n",
      "[CV] n_neighbors=55 ..................................................\n",
      "[CV] ......... n_neighbors=55, score=0.6099667142997071, total=   1.8s\n",
      "[CV] n_neighbors=55 ..................................................\n",
      "[CV] .......... n_neighbors=55, score=0.612203694683306, total=   1.8s\n",
      "[CV] n_neighbors=55 ..................................................\n",
      "[CV] ......... n_neighbors=55, score=0.6200371098241428, total=   1.7s\n",
      "[CV] n_neighbors=55 ..................................................\n",
      "[CV] ......... n_neighbors=55, score=0.6148123803634311, total=   1.7s\n",
      "[CV] n_neighbors=56 ..................................................\n",
      "[CV] ......... n_neighbors=55, score=0.6257470274555712, total=   2.2s\n",
      "[CV] n_neighbors=56 ..................................................\n",
      "[CV] ......... n_neighbors=55, score=0.5999499443026574, total=   1.7s\n",
      "[CV] n_neighbors=56 ..................................................\n",
      "[CV] ......... n_neighbors=56, score=0.6081253610218414, total=   1.9s\n",
      "[CV] n_neighbors=56 ..................................................\n",
      "[CV] ......... n_neighbors=56, score=0.6027148252077398, total=   1.8s\n",
      "[CV] n_neighbors=56 ..................................................\n",
      "[CV] ......... n_neighbors=56, score=0.6392873284157713, total=   1.6s\n",
      "[CV] n_neighbors=56 ..................................................\n",
      "[CV] ......... n_neighbors=56, score=0.6356454119747276, total=   1.6s\n",
      "[CV] n_neighbors=56 ..................................................\n",
      "[CV] ......... n_neighbors=56, score=0.6071011813697118, total=   2.2s\n",
      "[CV] n_neighbors=56 ..................................................\n",
      "[CV] ......... n_neighbors=56, score=0.6077101947550179, total=   1.8s\n",
      "[CV] n_neighbors=56 ..................................................\n",
      "[CV] .......... n_neighbors=56, score=0.618628159844331, total=   1.6s\n",
      "[CV] n_neighbors=56 ..................................................\n",
      "[CV] ......... n_neighbors=56, score=0.6145190766719862, total=   1.8s\n",
      "[CV] n_neighbors=57 ..................................................\n",
      "[CV] ......... n_neighbors=56, score=0.6264832047852441, total=   1.6s\n",
      "[CV] n_neighbors=57 ..................................................\n",
      "[CV] .......... n_neighbors=56, score=0.598612478572457, total=   1.6s\n",
      "[CV] n_neighbors=57 ..................................................\n",
      "[CV] ......... n_neighbors=57, score=0.6063737579963688, total=   1.8s\n",
      "[CV] n_neighbors=57 ..................................................\n",
      "[CV] ......... n_neighbors=57, score=0.6034286603777372, total=   1.6s\n",
      "[CV] n_neighbors=57 ..................................................\n",
      "[CV] ......... n_neighbors=57, score=0.6392789187743235, total=   1.6s\n",
      "[CV] n_neighbors=57 ..................................................\n",
      "[CV] ......... n_neighbors=57, score=0.6306430706335877, total=   1.8s\n",
      "[CV] n_neighbors=57 ..................................................\n",
      "[CV] ......... n_neighbors=57, score=0.6093009274162976, total=   1.6s\n",
      "[CV] n_neighbors=57 ..................................................\n",
      "[CV] ......... n_neighbors=57, score=0.6089959917134057, total=   1.6s\n",
      "[CV] n_neighbors=57 ..................................................\n",
      "[CV] .......... n_neighbors=57, score=0.619217671378846, total=   1.9s\n",
      "[CV] n_neighbors=57 ..................................................\n",
      "[CV] ......... n_neighbors=57, score=0.6158832382230817, total=   1.7s\n",
      "[CV] n_neighbors=58 ..................................................\n",
      "[CV] ......... n_neighbors=57, score=0.6276852779395258, total=   1.7s\n",
      "[CV] n_neighbors=58 ..................................................\n",
      "[CV] ......... n_neighbors=57, score=0.6010989714786844, total=   1.8s\n",
      "[CV] n_neighbors=58 ..................................................\n",
      "[CV] ......... n_neighbors=58, score=0.6069249211951765, total=   1.6s\n",
      "[CV] n_neighbors=58 ..................................................\n",
      "[CV] ......... n_neighbors=58, score=0.6030998337381862, total=   1.6s\n",
      "[CV] n_neighbors=58 ..................................................\n",
      "[CV] ......... n_neighbors=58, score=0.6352517121889927, total=   2.1s\n",
      "[CV] n_neighbors=58 ..................................................\n",
      "[CV] ......... n_neighbors=58, score=0.6324262874446344, total=   2.0s\n",
      "[CV] n_neighbors=58 ..................................................\n",
      "[CV] ......... n_neighbors=58, score=0.6103691878050627, total=   1.9s\n",
      "[CV] n_neighbors=58 ..................................................\n",
      "[CV] ......... n_neighbors=58, score=0.6090745396453525, total=   1.8s\n",
      "[CV] n_neighbors=58 ..................................................\n",
      "[CV] ......... n_neighbors=58, score=0.6213601858189058, total=   1.6s\n",
      "[CV] n_neighbors=58 ..................................................\n",
      "[CV] ......... n_neighbors=58, score=0.6121363881963808, total=   1.6s\n",
      "[CV] n_neighbors=59 ..................................................\n",
      "[CV] ......... n_neighbors=58, score=0.6268012506471236, total=   1.9s\n",
      "[CV] n_neighbors=59 ..................................................\n",
      "[CV] ......... n_neighbors=58, score=0.6005654532270914, total=   1.7s\n",
      "[CV] n_neighbors=59 ..................................................\n",
      "[CV] ......... n_neighbors=59, score=0.6087199969229093, total=   1.6s\n",
      "[CV] n_neighbors=59 ..................................................\n",
      "[CV] ......... n_neighbors=59, score=0.6044954544031097, total=   1.9s\n",
      "[CV] n_neighbors=59 ..................................................\n",
      "[CV] ......... n_neighbors=59, score=0.6397657064801417, total=   1.8s\n",
      "[CV] n_neighbors=59 ..................................................\n",
      "[CV] ......... n_neighbors=59, score=0.6364208352861019, total=   2.1s\n",
      "[CV] n_neighbors=59 ..................................................\n",
      "[CV] ......... n_neighbors=59, score=0.6080418894810697, total=   1.9s\n",
      "[CV] n_neighbors=59 ..................................................\n",
      "[CV] ......... n_neighbors=59, score=0.6111096348642209, total=   1.7s\n",
      "[CV] n_neighbors=59 ..................................................\n",
      "[CV] ......... n_neighbors=59, score=0.6232617019466881, total=   1.6s\n",
      "[CV] n_neighbors=59 ..................................................\n",
      "[CV] ......... n_neighbors=59, score=0.6111334885503896, total=   1.7s\n",
      "[CV] n_neighbors=60 ..................................................\n",
      "[CV] ......... n_neighbors=59, score=0.6349956103274648, total=   1.6s\n",
      "[CV] n_neighbors=60 ..................................................\n",
      "[CV] ......... n_neighbors=59, score=0.5955654650286004, total=   1.6s\n",
      "[CV] n_neighbors=60 ..................................................\n"
     ]
    },
    {
     "name": "stdout",
     "output_type": "stream",
     "text": [
      "[CV] ......... n_neighbors=60, score=0.6098267480717249, total=   1.7s\n",
      "[CV] n_neighbors=60 ..................................................\n",
      "[CV] ......... n_neighbors=60, score=0.6054303192684253, total=   1.6s\n",
      "[CV] n_neighbors=60 ..................................................\n",
      "[CV] ......... n_neighbors=60, score=0.6354045920286664, total=   1.6s\n",
      "[CV] n_neighbors=60 ..................................................\n",
      "[CV] ......... n_neighbors=60, score=0.6380391861735909, total=   1.9s\n",
      "[CV] n_neighbors=60 ..................................................\n",
      "[CV] ......... n_neighbors=60, score=0.6097268880184853, total=   1.6s\n",
      "[CV] n_neighbors=60 ..................................................\n",
      "[CV] ......... n_neighbors=60, score=0.6108608489057045, total=   1.9s\n",
      "[CV] n_neighbors=60 ..................................................\n",
      "[CV] ......... n_neighbors=60, score=0.6189819228216769, total=   1.7s\n",
      "[CV] n_neighbors=60 ..................................................\n",
      "[CV] ......... n_neighbors=60, score=0.6149841786838605, total=   1.6s\n",
      "[CV] ......... n_neighbors=60, score=0.6329383515087248, total=   1.6s\n",
      "[CV] ......... n_neighbors=60, score=0.6016482576876514, total=   1.6s\n"
     ]
    },
    {
     "name": "stderr",
     "output_type": "stream",
     "text": [
      "[Parallel(n_jobs=3)]: Done 190 out of 190 | elapsed: 13.4min finished\n"
     ]
    },
    {
     "data": {
      "text/plain": [
       "GridSearchCV(cv=10, error_score='raise',\n",
       "       estimator=KNeighborsClassifier(algorithm='auto', leaf_size=30, metric='minkowski',\n",
       "           metric_params=None, n_jobs=1, n_neighbors=5, p=2,\n",
       "           weights='uniform'),\n",
       "       fit_params=None, iid=True, n_jobs=3,\n",
       "       param_grid={'n_neighbors': array([42, 43, 44, 45, 46, 47, 48, 49, 50, 51, 52, 53, 54, 55, 56, 57, 58,\n",
       "       59, 60])},\n",
       "       pre_dispatch='2*n_jobs', refit=True, return_train_score='warn',\n",
       "       scoring='f1_weighted', verbose=3)"
      ]
     },
     "execution_count": 40,
     "metadata": {},
     "output_type": "execute_result"
    }
   ],
   "source": [
    "clf.fit(X_train_tfidf, Y_train)"
   ]
  },
  {
   "cell_type": "code",
   "execution_count": 41,
   "metadata": {
    "ExecuteTime": {
     "end_time": "2018-09-24T08:16:13.935111Z",
     "start_time": "2018-09-24T08:16:13.931326Z"
    }
   },
   "outputs": [
    {
     "data": {
      "text/plain": [
       "{'n_neighbors': 54}"
      ]
     },
     "execution_count": 41,
     "metadata": {},
     "output_type": "execute_result"
    }
   ],
   "source": [
    "clf.best_params_"
   ]
  },
  {
   "cell_type": "code",
   "execution_count": 42,
   "metadata": {
    "ExecuteTime": {
     "end_time": "2018-09-24T08:16:13.940477Z",
     "start_time": "2018-09-24T08:16:13.937010Z"
    }
   },
   "outputs": [
    {
     "data": {
      "text/plain": [
       "0.6181194688081953"
      ]
     },
     "execution_count": 42,
     "metadata": {},
     "output_type": "execute_result"
    }
   ],
   "source": [
    "clf.best_score_"
   ]
  },
  {
   "cell_type": "code",
   "execution_count": null,
   "metadata": {
    "ExecuteTime": {
     "end_time": "2018-09-22T03:53:12.626276Z",
     "start_time": "2018-09-22T03:48:10.373Z"
    }
   },
   "outputs": [],
   "source": [
    "best_f1 = 0.0\n",
    "best_k = None\n",
    "best_acc = 0.0\n",
    "\n",
    "# sqrt(# of training records) ~ 140  \n",
    "for k in np.arange(1, 140, 5):\n",
    "    acc, f1 = evaluate_model(X_train_tfidf, Y_train, K=k, fold=10)\n",
    "#     print('For %i-NN, 10-Fold CV Average Accuracy: %.05f%%' % (k, acc * 100.0)) \n",
    "    print('For %i-NN, 10-Fold CV Weighted F1 Score: %.05f' % (k, f1)) \n",
    "    if f1 > best_f1:\n",
    "        best_f1 = f1\n",
    "        best_acc = acc\n",
    "        best_k = k\n",
    "    \n",
    "print('Best Model Params: \\n For %i-NN, 10-Fold CV Weighted F1 Score: %.08f' (best_k, best_f1))"
   ]
  },
  {
   "cell_type": "code",
   "execution_count": null,
   "metadata": {},
   "outputs": [],
   "source": []
  },
  {
   "cell_type": "code",
   "execution_count": null,
   "metadata": {},
   "outputs": [],
   "source": []
  }
 ],
 "metadata": {
  "kernelspec": {
   "display_name": "Python 3",
   "language": "python",
   "name": "python3"
  },
  "language_info": {
   "codemirror_mode": {
    "name": "ipython",
    "version": 3
   },
   "file_extension": ".py",
   "mimetype": "text/x-python",
   "name": "python",
   "nbconvert_exporter": "python",
   "pygments_lexer": "ipython3",
   "version": "3.6.5"
  }
 },
 "nbformat": 4,
 "nbformat_minor": 2
}
