{
 "cells": [
  {
   "cell_type": "markdown",
   "metadata": {},
   "source": [
    "# PR3: Text Clustering with DBSCAN\n",
    "\n",
    "* Author: Kevin Chuang [@k-chuang](https://www.github.com/k-chuang)\n",
    "* Created on: September 21, 2018\n",
    "* Description: Text clustering using DBCAN clustering algorithm\n",
    "-----------"
   ]
  },
  {
   "cell_type": "code",
   "execution_count": 1,
   "metadata": {
    "ExecuteTime": {
     "end_time": "2018-11-30T01:15:40.228251Z",
     "start_time": "2018-11-30T01:15:38.927914Z"
    }
   },
   "outputs": [
    {
     "name": "stdout",
     "output_type": "stream",
     "text": [
      "The scikit-learn version is 0.20.0.\n"
     ]
    }
   ],
   "source": [
    "__author__ = 'Kevin Chuang (https://www.github.com/k-chuang)' \n",
    "\n",
    "# OS & sys\n",
    "import os\n",
    "import sys\n",
    "import glob\n",
    "\n",
    "# Version check\n",
    "import sklearn\n",
    "print('The scikit-learn version is {}.'.format(sklearn.__version__))\n",
    "\n",
    "# linear algebra\n",
    "import numpy as np \n",
    "\n",
    "# data processing\n",
    "import pandas as pd \n",
    "\n",
    "# data visualization\n",
    "import seaborn as sns\n",
    "from matplotlib import pyplot as plt\n",
    "plt.rcParams['axes.labelsize'] = 14\n",
    "plt.rcParams['xtick.labelsize'] = 12\n",
    "plt.rcParams['ytick.labelsize'] = 12\n",
    "\n",
    "# Algorithms\n",
    "from sklearn.linear_model import SGDClassifier, LogisticRegression, Perceptron\n",
    "from sklearn.ensemble import RandomForestClassifier, AdaBoostClassifier, VotingClassifier, ExtraTreesClassifier\n",
    "from sklearn.tree import DecisionTreeClassifier\n",
    "from sklearn.neighbors import KNeighborsClassifier, NearestNeighbors\n",
    "from sklearn.svm import SVC, LinearSVC\n",
    "from sklearn.naive_bayes import GaussianNB, MultinomialNB\n",
    "from sklearn.neural_network import MLPClassifier\n",
    "from sklearn.multiclass import OneVsRestClassifier, OneVsOneClassifier\n",
    "import xgboost as xgb\n",
    "import lightgbm as lgb\n",
    "\n",
    "\n",
    "# Preprocessing \n",
    "from sklearn.model_selection import train_test_split\n",
    "from sklearn.preprocessing import LabelEncoder, StandardScaler, OneHotEncoder, MinMaxScaler, RobustScaler\n",
    "\n",
    "# Pipeline\n",
    "from sklearn.pipeline import Pipeline\n",
    "\n",
    "# Manifold Learning\n",
    "from sklearn.manifold import LocallyLinearEmbedding, TSNE\n",
    "\n",
    "# Feature Selection\n",
    "from sklearn.feature_selection import VarianceThreshold, SelectKBest, SelectPercentile, chi2, RFECV, SelectFromModel, RFE\n",
    "\n",
    "# Text Feature Extraction\n",
    "from sklearn.feature_extraction.text import CountVectorizer, TfidfTransformer, TfidfVectorizer, ENGLISH_STOP_WORDS\n",
    "\n",
    "# Metrics \n",
    "from sklearn.metrics import log_loss, f1_score, accuracy_score\n",
    "from sklearn.model_selection import cross_val_score\n",
    "\n",
    "# Model Selection & Hyperparameter tuning\n",
    "from sklearn.model_selection import GridSearchCV, RandomizedSearchCV, StratifiedKFold\n",
    "from skopt import BayesSearchCV\n",
    "from skopt.space  import Real, Categorical, Integer\n",
    "\n",
    "# Decomposition\n",
    "from sklearn.decomposition import PCA, TruncatedSVD, KernelPCA, NMF, FactorAnalysis, FastICA\n",
    "\n",
    "# Discriminant Analysis\n",
    "from sklearn.discriminant_analysis import LinearDiscriminantAnalysis\n",
    "\n",
    "# Clustering\n",
    "from sklearn.cluster import KMeans\n",
    "\n",
    "# Mathematical Functions\n",
    "import math\n",
    "\n",
    "# Utils\n",
    "from collections import Counter, defaultdict\n",
    "\n",
    "# Statistics\n",
    "from scipy import stats, sparse\n",
    "\n",
    "# Ignore useless warnings\n",
    "import warnings\n",
    "warnings.filterwarnings(action=\"ignore\")"
   ]
  },
  {
   "cell_type": "code",
   "execution_count": 2,
   "metadata": {
    "ExecuteTime": {
     "end_time": "2018-11-30T01:15:40.259066Z",
     "start_time": "2018-11-30T01:15:40.229964Z"
    }
   },
   "outputs": [],
   "source": [
    "with open('train.dat', 'r') as fh:\n",
    "#     data = fh.readlines()\n",
    "    data = fh.read().splitlines() "
   ]
  },
  {
   "cell_type": "code",
   "execution_count": 3,
   "metadata": {
    "ExecuteTime": {
     "end_time": "2018-11-30T01:15:40.268050Z",
     "start_time": "2018-11-30T01:15:40.261370Z"
    }
   },
   "outputs": [
    {
     "data": {
      "text/plain": [
       "8580"
      ]
     },
     "execution_count": 3,
     "metadata": {},
     "output_type": "execute_result"
    }
   ],
   "source": [
    "len(data)"
   ]
  },
  {
   "cell_type": "code",
   "execution_count": 4,
   "metadata": {
    "ExecuteTime": {
     "end_time": "2018-11-30T01:15:40.273587Z",
     "start_time": "2018-11-30T01:15:40.270411Z"
    }
   },
   "outputs": [],
   "source": [
    "def grouped(iterable, n):\n",
    "    return zip(*[iter(iterable)]*n)"
   ]
  },
  {
   "cell_type": "code",
   "execution_count": 5,
   "metadata": {
    "ExecuteTime": {
     "end_time": "2018-11-30T01:15:41.348485Z",
     "start_time": "2018-11-30T01:15:40.276916Z"
    }
   },
   "outputs": [],
   "source": [
    "row_pairs = []\n",
    "inds = []\n",
    "vals = []\n",
    "ptrs = [0]\n",
    "for row_idx, row in enumerate(data):\n",
    "    \n",
    "    document = row.strip().split()\n",
    "    if len(document) % 2 != 0:\n",
    "        raise ValueError(\"document length is not correct...\")\n",
    "    doc_length = len(document)//2\n",
    "    \n",
    "    ptrs.append(ptrs[-1] + doc_length)\n",
    "    for index, count in grouped(row.split(), 2):\n",
    "#         row_pairs.append((index, count))\n",
    "        inds.append(int(index))\n",
    "        vals.append(int(count))\n",
    "#         print(int(index), int(count))\n"
   ]
  },
  {
   "cell_type": "code",
   "execution_count": 7,
   "metadata": {
    "ExecuteTime": {
     "end_time": "2018-11-30T01:15:41.583351Z",
     "start_time": "2018-11-30T01:15:41.356357Z"
    }
   },
   "outputs": [],
   "source": [
    "data_csr = sparse.csr_matrix((vals,inds,ptrs), dtype=int)"
   ]
  },
  {
   "cell_type": "code",
   "execution_count": 8,
   "metadata": {
    "ExecuteTime": {
     "end_time": "2018-11-30T01:15:45.117865Z",
     "start_time": "2018-11-30T01:15:45.005071Z"
    }
   },
   "outputs": [],
   "source": [
    "# Word transformer\n",
    "# X = TfidfTransformer(norm='l2', use_idf=True, smooth_idf=True, sublinear_tf=True).fit_transform(data_csr)\n",
    "X = TfidfTransformer(norm='l2', use_idf=True, smooth_idf=True, sublinear_tf=False).fit_transform(data_csr)"
   ]
  },
  {
   "cell_type": "code",
   "execution_count": 9,
   "metadata": {
    "ExecuteTime": {
     "end_time": "2018-11-30T01:15:45.201714Z",
     "start_time": "2018-11-30T01:15:45.197211Z"
    }
   },
   "outputs": [
    {
     "data": {
      "text/plain": [
       "(8580, 126356)"
      ]
     },
     "execution_count": 9,
     "metadata": {},
     "output_type": "execute_result"
    }
   ],
   "source": [
    "X.shape"
   ]
  },
  {
   "cell_type": "code",
   "execution_count": 14,
   "metadata": {
    "ExecuteTime": {
     "end_time": "2018-11-30T01:15:46.538999Z",
     "start_time": "2018-11-30T01:15:46.296189Z"
    }
   },
   "outputs": [],
   "source": [
    "# Goal is to minmize squared reconstruction error\n",
    "selector = TruncatedSVD(n_components=5, algorithm=\"arpack\", random_state=8)\n",
    "X = selector.fit_transform(X)"
   ]
  },
  {
   "cell_type": "code",
   "execution_count": 15,
   "metadata": {
    "ExecuteTime": {
     "end_time": "2018-11-30T01:16:19.665133Z",
     "start_time": "2018-11-30T01:16:19.660781Z"
    }
   },
   "outputs": [],
   "source": [
    "X = sparse.csr_matrix(X)"
   ]
  },
  {
   "cell_type": "code",
   "execution_count": 16,
   "metadata": {
    "ExecuteTime": {
     "end_time": "2018-11-30T01:16:20.591983Z",
     "start_time": "2018-11-30T01:16:20.558467Z"
    }
   },
   "outputs": [],
   "source": [
    "def csr_l2normalize(mat, copy=False, **kargs):\n",
    "    r\"\"\" Normalize the rows of a CSR matrix by their L-2 norm. \n",
    "    If copy is True, returns a copy of the normalized matrix.\n",
    "    \"\"\"\n",
    "    if copy is True:\n",
    "        mat = mat.copy()\n",
    "    nrows = mat.shape[0]\n",
    "    nnz = mat.nnz\n",
    "    ind, val, ptr = mat.indices, mat.data, mat.indptr\n",
    "    # normalize\n",
    "    for i in range(nrows):\n",
    "        rsum = 0.0    \n",
    "        for j in range(ptr[i], ptr[i+1]):\n",
    "            rsum += val[j]**2\n",
    "        if rsum == 0.0:\n",
    "            continue  # do not normalize empty rows\n",
    "        rsum = float(1.0/np.sqrt(rsum))\n",
    "        for j in range(ptr[i], ptr[i+1]):\n",
    "            val[j] *= rsum\n",
    "            \n",
    "    if copy is True:\n",
    "        return mat"
   ]
  },
  {
   "cell_type": "code",
   "execution_count": 17,
   "metadata": {
    "ExecuteTime": {
     "end_time": "2018-11-30T01:16:21.168291Z",
     "start_time": "2018-11-30T01:16:21.110236Z"
    }
   },
   "outputs": [],
   "source": [
    "X = csr_l2normalize(X, copy=True)"
   ]
  },
  {
   "cell_type": "code",
   "execution_count": 18,
   "metadata": {
    "ExecuteTime": {
     "end_time": "2018-11-30T01:16:21.393896Z",
     "start_time": "2018-11-30T01:16:21.381199Z"
    }
   },
   "outputs": [],
   "source": [
    "def cosine_similarity_sparse(s1, s2):\n",
    "    '''Calculate cosine similiarity of two sparse matrices'''\n",
    "    # Calculate dot product (already L2 norm vectors so we do not need to divide)\n",
    "    numerator = s1.dot(s2.T)\n",
    "    return numerator\n",
    "\n",
    "\n",
    "def cosine_distance_sparse(s1, s2):\n",
    "    '''Calculate cosine distance of two sparse matrices (1 - cosine_similarity)'''\n",
    "    # Calculate dot product (already L2 norm vectors so we do not need to divide)\n",
    "    cos_sim = s1.dot(s2.T)\n",
    "#     print(cos_sim.shape)\n",
    "    if s1.shape[0] > s2.shape[0]:\n",
    "        one_array = np.ones((s1.shape[0], 1), dtype=float)\n",
    "    else:\n",
    "        one_array = np.ones((s2.shape[0], 1), dtype=float)\n",
    "    return np.array(one_array - cos_sim)"
   ]
  },
  {
   "cell_type": "code",
   "execution_count": 19,
   "metadata": {
    "ExecuteTime": {
     "end_time": "2018-11-30T01:16:21.565844Z",
     "start_time": "2018-11-30T01:16:21.560841Z"
    }
   },
   "outputs": [],
   "source": [
    "def find_neighbors(data, query, eps):\n",
    "    distances = cosine_distance_sparse(data, query)\n",
    "    indices = np.arange(data.shape[0])\n",
    "    neighbors = indices[np.ravel(distances < eps)]\n",
    "    return neighbors"
   ]
  },
  {
   "cell_type": "code",
   "execution_count": 20,
   "metadata": {
    "ExecuteTime": {
     "end_time": "2018-11-30T01:16:21.818205Z",
     "start_time": "2018-11-30T01:16:21.765206Z"
    }
   },
   "outputs": [],
   "source": [
    "def generate_cluster(data, labels, q, neighbors, c_id, eps, minPts, border_pts):\n",
    "   \n",
    "    labels[q] = c_id\n",
    "    i = 0\n",
    "    while i < len(neighbors):    \n",
    "        new_point = neighbors[i]\n",
    "        if labels[new_point] == -1:\n",
    "            labels[new_point] = c_id\n",
    "            border_pts.append(new_point)\n",
    "        \n",
    "        elif labels[new_point] == 0:\n",
    "            labels[new_point] = c_id\n",
    "            \n",
    "            new_neighbors = find_neighbors(data, data[new_point], eps)\n",
    "            if len(new_neighbors) >= minPts:\n",
    "                neighbors = np.concatenate((neighbors, new_neighbors), axis=None)\n",
    "        i += 1        \n",
    "        \n",
    "    return labels, border_pts"
   ]
  },
  {
   "cell_type": "code",
   "execution_count": 21,
   "metadata": {
    "ExecuteTime": {
     "end_time": "2018-11-30T01:16:22.006851Z",
     "start_time": "2018-11-30T01:16:21.970924Z"
    }
   },
   "outputs": [],
   "source": [
    "def DBSCAN(data, eps, minPts):\n",
    "    labels = np.zeros(data.shape[0], dtype=int)\n",
    "    c_id = 0\n",
    "    \n",
    "    core_pts = []\n",
    "    border_pts = []\n",
    "    \n",
    "    for q in range(0, data.shape[0]):\n",
    "\n",
    "        if labels[q] != 0:\n",
    "            continue\n",
    "\n",
    "        neighbors = find_neighbors(data, data[q], eps)\n",
    "        if len(neighbors) < minPts:\n",
    "            labels[q] = -1\n",
    "        else: \n",
    "            c_id += 1\n",
    "            core_pts.append(q)\n",
    "            labels, border_pts = generate_cluster(data, labels, q, neighbors, c_id, eps, minPts, border_pts)\n",
    "    return labels, core_pts, border_pts"
   ]
  },
  {
   "cell_type": "code",
   "execution_count": 22,
   "metadata": {
    "ExecuteTime": {
     "end_time": "2018-11-30T01:16:22.286354Z",
     "start_time": "2018-11-30T01:16:22.231102Z"
    }
   },
   "outputs": [],
   "source": [
    "def assign_noise_cluster(data, ids, K=5):\n",
    "    \"\"\"Use K nearest neighbors and majority voting to assign noise points to potential new clusters\"\"\"\n",
    "    noise_ind = np.argwhere(ids==-1).ravel()\n",
    "    n_clusters_ = len(set(ids)) - (1 if -1 in ids else 0)\n",
    "    for q in noise_ind:\n",
    "        distances = cosine_distance_sparse(data, data[q])\n",
    "        neighbors = np.argsort(distances.ravel())[1:K+1]\n",
    "        neighbor_ids = ids[neighbors]\n",
    "        optimal_dists = distances[neighbors]\n",
    "        count = Counter(neighbor_ids).most_common()\n",
    "        if len(count) == 1 or count[0][1] > count[1][1]:\n",
    "            if count[0][0] == -1:\n",
    "                ids[q] = n_clusters_ + 1\n",
    "            else:\n",
    "#                 print(\"Found a simliar noise point to a existing cluster\")\n",
    "                ids[q] = count[0][0]\n",
    "            continue\n",
    "        num_n = count[0][1]\n",
    "        keep_ids = [l for l, c in count if c == num_n]\n",
    "        tc = defaultdict(float)\n",
    "        # Distance-Weighted Voting\n",
    "        for c_id, dist in zip(neighbor_ids, optimal_dists):\n",
    "            if c_id not in keep_ids:\n",
    "                continue\n",
    "            else:\n",
    "                tc[c_id] += (1 / (dist ** 2))\n",
    "        if sorted(tc.items(), key=lambda x: x[1], reverse=True)[0][0] == -1:\n",
    "            ids[q] = n_clusters_ + 1\n",
    "        else:\n",
    "#             print(\"Found a simliar noise point to a existing cluster\")\n",
    "            ids[q] = sorted(tc.items(), key=lambda x: x[1], reverse=True)[0][0]\n",
    "        \n",
    "    return ids"
   ]
  },
  {
   "cell_type": "code",
   "execution_count": 23,
   "metadata": {
    "ExecuteTime": {
     "end_time": "2018-11-30T01:16:22.518104Z",
     "start_time": "2018-11-30T01:16:22.474423Z"
    }
   },
   "outputs": [],
   "source": [
    "def assign_noise_KNN(data, ids, K=5):\n",
    "    \"\"\"Use K nearest neighbors and majority voting to assign noise points to existing clusters\"\"\"\n",
    "    noise_ind = np.argwhere(ids==-1).ravel()\n",
    "    no_noise_data = data[np.where(ids!=-1)]\n",
    "    no_noise_ids = ids[np.where(ids!=-1)]\n",
    "    for q in noise_ind:\n",
    "        distances = cosine_distance_sparse(no_noise_data, data[q])\n",
    "        pseudo_neighbors = np.argsort(distances.ravel())[:K]\n",
    "        neighbor_ids = no_noise_ids[pseudo_neighbors]\n",
    "        optimal_dists = distances[pseudo_neighbors]\n",
    "\n",
    "        count = Counter(neighbor_ids).most_common()\n",
    "#         print(count)\n",
    "        if len(count) == 1 or count[0][1] > count[1][1]:\n",
    "            ids[q] = count[0][0]\n",
    "            continue\n",
    "        num_n = count[0][1]\n",
    "        keep_ids = [l for l, c in count if c == num_n]\n",
    "        tc = defaultdict(float)\n",
    "        # Distance-Weighted Voting\n",
    "        for c_id, dist in zip(neighbor_ids, optimal_dists):\n",
    "            if c_id not in keep_ids:\n",
    "                continue\n",
    "            else:\n",
    "                tc[c_id] += (1 / (dist ** 2))\n",
    "        ids[q] = sorted(tc.items(), key=lambda x: x[1], reverse=True)[0][0]\n",
    "        \n",
    "    return ids"
   ]
  },
  {
   "cell_type": "code",
   "execution_count": 24,
   "metadata": {
    "ExecuteTime": {
     "end_time": "2018-11-30T01:16:22.794361Z",
     "start_time": "2018-11-30T01:16:22.780899Z"
    }
   },
   "outputs": [],
   "source": [
    "def assign_noise_to_core(data, ids, core_pts, border_pts):\n",
    "    noise_ind = np.argwhere(ids==-1).ravel()\n",
    "    no_noise_ind = np.argwhere(ids!=-1).ravel()\n",
    "    no_noise_data = data[np.where(ids!=-1)]\n",
    "    no_noise_ids = ids[np.where(ids!=-1)]\n",
    "    for q in noise_ind:\n",
    "        distances = cosine_distance_sparse(no_noise_data, data[q])\n",
    "        neighbors = np.argsort(distances.ravel())\n",
    "        nearest_core_ind = next((x for x in no_noise_ind[neighbors] if x in core_pts), -1)\n",
    "        ids[q] = ids[nearest_core_ind]\n",
    "    return ids"
   ]
  },
  {
   "cell_type": "code",
   "execution_count": 25,
   "metadata": {
    "ExecuteTime": {
     "end_time": "2018-11-30T01:16:23.100599Z",
     "start_time": "2018-11-30T01:16:23.087353Z"
    }
   },
   "outputs": [],
   "source": [
    "def assign_noise_to_border(data, ids, core_pts, border_pts):\n",
    "    noise_ind = np.argwhere(ids==-1).ravel()\n",
    "    no_noise_ind = np.argwhere(ids!=-1).ravel()\n",
    "    no_noise_data = data[np.where(ids!=-1)]\n",
    "    no_noise_ids = ids[np.where(ids!=-1)]\n",
    "    for q in noise_ind:\n",
    "        distances = cosine_distance_sparse(no_noise_data, data[q])\n",
    "        neighbors = np.argsort(distances.ravel())\n",
    "        nearest_core_ind = next((x for x in no_noise_ind[neighbors] if x in border_pts), -1)\n",
    "        ids[q] = ids[nearest_core_ind]\n",
    "    return ids"
   ]
  },
  {
   "cell_type": "code",
   "execution_count": 26,
   "metadata": {
    "ExecuteTime": {
     "end_time": "2018-11-30T01:16:23.366245Z",
     "start_time": "2018-11-30T01:16:23.349878Z"
    }
   },
   "outputs": [],
   "source": [
    "def assign_noise_to_closest(data, ids, core_pts, border_pts):\n",
    "    noise_ind = np.argwhere(ids==-1).ravel()\n",
    "    no_noise_ind = np.argwhere(ids!=-1).ravel()\n",
    "    no_noise_data = data[np.where(ids!=-1)]\n",
    "    no_noise_ids = ids[np.where(ids!=-1)]\n",
    "    core_border = core_pts + border_pts\n",
    "    for q in noise_ind:\n",
    "        distances = cosine_distance_sparse(no_noise_data, data[q])\n",
    "        neighbors = np.argsort(distances.ravel())\n",
    "        nearest_core_ind = next((x for x in no_noise_ind[neighbors] if x in core_border), -1)\n",
    "        ids[q] = ids[nearest_core_ind]\n",
    "    return ids"
   ]
  },
  {
   "cell_type": "code",
   "execution_count": 27,
   "metadata": {
    "ExecuteTime": {
     "end_time": "2018-11-30T01:16:23.680599Z",
     "start_time": "2018-11-30T01:16:23.664647Z"
    }
   },
   "outputs": [],
   "source": [
    "def calculate_centroids(data, ids):\n",
    "    no_noise_ind = np.argwhere(ids!=-1).ravel()\n",
    "    no_noise_data = data[np.where(ids!=-1)]\n",
    "    no_noise_ids = ids[np.where(ids!=-1)]\n",
    "    n_clusters_ = len(set(ids)) - (1 if -1 in ids else 0)\n",
    "    c_ids = sorted([x for x in set(ids) if x != -1])\n",
    "    c_centroids = []\n",
    "    for c in c_ids:\n",
    "        cluster_data = data[np.where(ids==c)]\n",
    "        centroid = np.asarray(cluster_data.mean(axis=0)).ravel().tolist()\n",
    "        c_centroids.append(centroid)\n",
    "\n",
    "    return c_ids, sparse.csr_matrix(c_centroids)"
   ]
  },
  {
   "cell_type": "code",
   "execution_count": 28,
   "metadata": {
    "ExecuteTime": {
     "end_time": "2018-11-30T01:16:24.039723Z",
     "start_time": "2018-11-30T01:16:24.018582Z"
    }
   },
   "outputs": [],
   "source": [
    "def assign_noise_to_centroid(data, ids, recompute_centroid=False):\n",
    "    c_ids, c_centroids = calculate_centroids(data, ids)\n",
    "    \n",
    "    noise_ind = np.argwhere(ids==-1).ravel()\n",
    "    no_noise_ind = np.argwhere(ids!=-1).ravel()\n",
    "    no_noise_data = data[np.where(ids!=-1)]\n",
    "    no_noise_ids = ids[np.where(ids!=-1)]\n",
    "    for q in noise_ind:\n",
    "        distances = cosine_distance_sparse(c_centroids, data[q])\n",
    "#         print(distances.ravel()[0])\n",
    "        neighbors = np.argsort(distances.ravel())\n",
    "        nearest_centroid = neighbors[0]\n",
    "#         print(nearest_centroid)\n",
    "        ids[q] = c_ids[nearest_centroid]\n",
    "        if recompute_centroid:\n",
    "            # Recalculate centroids\n",
    "            c_ids, c_centroids = calculate_centroids(data, ids)\n",
    "    return ids"
   ]
  },
  {
   "cell_type": "markdown",
   "metadata": {},
   "source": [
    "## K-distance graph\n",
    "\n",
    "- The elbow should be the optimal radius epsilon (given K nearest neighbors) for the dataset\n",
    "- For this project, I choose the range between the elbow to further tune"
   ]
  },
  {
   "cell_type": "code",
   "execution_count": 43,
   "metadata": {
    "ExecuteTime": {
     "end_time": "2018-11-30T01:52:48.507248Z",
     "start_time": "2018-11-30T01:52:48.502953Z"
    }
   },
   "outputs": [],
   "source": [
    "k = 3\n",
    "num_points = X.shape[0]\n",
    "nbrs = NearestNeighbors(n_neighbors=k, metric='cosine').fit(X)"
   ]
  },
  {
   "cell_type": "code",
   "execution_count": 44,
   "metadata": {
    "ExecuteTime": {
     "end_time": "2018-11-30T01:52:51.745095Z",
     "start_time": "2018-11-30T01:52:49.100325Z"
    }
   },
   "outputs": [],
   "source": [
    "distances, indices = nbrs.kneighbors(X)"
   ]
  },
  {
   "cell_type": "code",
   "execution_count": 45,
   "metadata": {
    "ExecuteTime": {
     "end_time": "2018-11-30T01:52:51.754851Z",
     "start_time": "2018-11-30T01:52:51.747038Z"
    }
   },
   "outputs": [],
   "source": [
    "distanceDec = sorted(distances[:, k-1], reverse = False)"
   ]
  },
  {
   "cell_type": "code",
   "execution_count": 54,
   "metadata": {
    "ExecuteTime": {
     "end_time": "2018-11-30T02:47:10.208175Z",
     "start_time": "2018-11-30T02:47:10.036101Z"
    }
   },
   "outputs": [
    {
     "data": {
      "image/png": "[encoded data removed]",
      "text/plain": [
       "<Figure size 432x288 with 1 Axes>"
      ]
     },
     "metadata": {},
     "output_type": "display_data"
    }
   ],
   "source": [
    "plt.plot(list(range(1, num_points + 1)), distanceDec);\n",
    "plt.xlabel(\"Number of points\");\n",
    "plt.ylabel(\"Distance (3 Neighbors)\");\n",
    "plt.title(\"3-Distance Graph\");"
   ]
  },
  {
   "cell_type": "code",
   "execution_count": 47,
   "metadata": {
    "ExecuteTime": {
     "end_time": "2018-11-30T01:52:51.933342Z",
     "start_time": "2018-11-30T01:52:51.922270Z"
    }
   },
   "outputs": [
    {
     "data": {
      "text/plain": [
       "0.0009077967948894046"
      ]
     },
     "execution_count": 47,
     "metadata": {},
     "output_type": "execute_result"
    }
   ],
   "source": [
    "distances.mean()"
   ]
  },
  {
   "cell_type": "code",
   "execution_count": 49,
   "metadata": {
    "ExecuteTime": {
     "end_time": "2018-11-30T02:36:17.739778Z",
     "start_time": "2018-11-30T02:36:17.734896Z"
    }
   },
   "outputs": [],
   "source": [
    "k = 15\n",
    "num_points = X.shape[0]\n",
    "nbrs = NearestNeighbors(n_neighbors=k, metric='cosine').fit(X)"
   ]
  },
  {
   "cell_type": "code",
   "execution_count": 50,
   "metadata": {
    "ExecuteTime": {
     "end_time": "2018-11-30T02:36:22.716063Z",
     "start_time": "2018-11-30T02:36:19.595096Z"
    }
   },
   "outputs": [],
   "source": [
    "distances, indices = nbrs.kneighbors(X)"
   ]
  },
  {
   "cell_type": "code",
   "execution_count": 51,
   "metadata": {
    "ExecuteTime": {
     "end_time": "2018-11-30T02:36:23.466498Z",
     "start_time": "2018-11-30T02:36:23.459229Z"
    }
   },
   "outputs": [],
   "source": [
    "distanceDec = sorted(distances[:, k-1], reverse = False)"
   ]
  },
  {
   "cell_type": "code",
   "execution_count": 52,
   "metadata": {
    "ExecuteTime": {
     "end_time": "2018-11-30T02:36:27.343279Z",
     "start_time": "2018-11-30T02:36:27.208027Z"
    }
   },
   "outputs": [
    {
     "data": {
      "image/png": "[encoded data removed]",
      "text/plain": [
       "<Figure size 432x288 with 1 Axes>"
      ]
     },
     "metadata": {},
     "output_type": "display_data"
    }
   ],
   "source": [
    "plt.plot(list(range(1, num_points + 1)), distanceDec);"
   ]
  },
  {
   "cell_type": "code",
   "execution_count": 29,
   "metadata": {
    "ExecuteTime": {
     "end_time": "2018-11-30T01:16:24.461805Z",
     "start_time": "2018-11-30T01:16:24.458940Z"
    }
   },
   "outputs": [],
   "source": [
    "from sklearn.metrics.cluster import normalized_mutual_info_score, silhouette_score, calinski_harabaz_score"
   ]
  },
  {
   "cell_type": "code",
   "execution_count": 34,
   "metadata": {
    "ExecuteTime": {
     "end_time": "2018-11-30T01:23:36.926896Z",
     "start_time": "2018-11-30T01:23:36.923990Z"
    }
   },
   "outputs": [],
   "source": [
    "X_dense = X.toarray()"
   ]
  },
  {
   "cell_type": "code",
   "execution_count": 32,
   "metadata": {
    "ExecuteTime": {
     "end_time": "2018-11-30T01:22:13.056226Z",
     "start_time": "2018-11-30T01:22:13.053925Z"
    }
   },
   "outputs": [],
   "source": [
    "epsilon = 0.00318"
   ]
  },
  {
   "cell_type": "code",
   "execution_count": 35,
   "metadata": {
    "ExecuteTime": {
     "end_time": "2018-11-30T01:27:55.258139Z",
     "start_time": "2018-11-30T01:23:45.821774Z"
    },
    "scrolled": true
   },
   "outputs": [
    {
     "name": "stdout",
     "output_type": "stream",
     "text": [
      "For eps: 0.00318, minPts: 3\n",
      "  Estimated number of clusters: 40\n",
      "  Calinski Harabaz Score: 63.339\n",
      "For eps: 0.00318, minPts: 5\n",
      "  Estimated number of clusters: 16\n",
      "  Calinski Harabaz Score: 220.360\n",
      "For eps: 0.00318, minPts: 7\n",
      "  Estimated number of clusters: 15\n",
      "  Calinski Harabaz Score: 348.693\n",
      "For eps: 0.00318, minPts: 9\n",
      "  Estimated number of clusters: 13\n",
      "  Calinski Harabaz Score: 428.588\n",
      "For eps: 0.00318, minPts: 11\n",
      "  Estimated number of clusters: 11\n",
      "  Calinski Harabaz Score: 522.765\n",
      "For eps: 0.00318, minPts: 13\n",
      "  Estimated number of clusters: 9\n",
      "  Calinski Harabaz Score: 1806.377\n",
      "For eps: 0.00318, minPts: 15\n",
      "  Estimated number of clusters: 12\n",
      "  Calinski Harabaz Score: 1681.461\n",
      "For eps: 0.00318, minPts: 17\n",
      "  Estimated number of clusters: 13\n",
      "  Calinski Harabaz Score: 1586.648\n",
      "For eps: 0.00318, minPts: 19\n",
      "  Estimated number of clusters: 11\n",
      "  Calinski Harabaz Score: 1924.247\n",
      "For eps: 0.00318, minPts: 21\n",
      "  Estimated number of clusters: 16\n",
      "  Calinski Harabaz Score: 2915.417\n"
     ]
    }
   ],
   "source": [
    "ch_scores = []\n",
    "for min_pts in np.arange(3, 22, 2):\n",
    "    print(\"For eps: {}, minPts: {}\".format(epsilon, min_pts))\n",
    "    labels, core_pts, border_pts = DBSCAN(X, eps=epsilon, minPts=min_pts)\n",
    "    n_clusters_ = len(set(labels)) - (1 if -1 in labels else 0)\n",
    "    print('  Estimated number of clusters: %d' % n_clusters_)\n",
    "    if n_clusters_ in [0, 1]:\n",
    "        continue\n",
    "    labels = assign_noise_to_centroid(X, labels, recompute_centroid=True)\n",
    "\n",
    "    try:\n",
    "        score = calinski_harabaz_score(X_dense, labels)\n",
    "        print(\"  Calinski Harabaz Score: %0.3f\"\n",
    "          % score)\n",
    "        ch_scores.append(score)\n",
    "    except:\n",
    "        ch_scores.append(score)\n",
    "        print(\"  Calinski Harabaz cannot be found on 1 cluster...\")"
   ]
  },
  {
   "cell_type": "code",
   "execution_count": 55,
   "metadata": {
    "ExecuteTime": {
     "end_time": "2018-11-30T07:44:32.222985Z",
     "start_time": "2018-11-30T07:44:31.993988Z"
    }
   },
   "outputs": [
    {
     "data": {
      "image/png": "[encoded data removed]",
      "text/plain": [
       "<Figure size 432x288 with 1 Axes>"
      ]
     },
     "metadata": {},
     "output_type": "display_data"
    }
   ],
   "source": [
    "x = list(range(3, 22, 2))\n",
    "y = ch_scores\n",
    "plt.plot(x, y);\n",
    "plt.xlabel(\"MinPts\");\n",
    "plt.ylabel(\"Calinski Harabaz Score\");\n",
    "plt.xticks(range(min(x), max(x)+1, 2));"
   ]
  },
  {
   "cell_type": "code",
   "execution_count": 37,
   "metadata": {
    "ExecuteTime": {
     "end_time": "2018-11-30T01:46:56.494870Z",
     "start_time": "2018-11-30T01:42:10.673913Z"
    },
    "scrolled": true
   },
   "outputs": [
    {
     "name": "stdout",
     "output_type": "stream",
     "text": [
      "For eps: 0.00318, minPts: 3\n",
      "  Estimated number of clusters: 40\n",
      "  Silhouette Coefficient: -0.694\n",
      "For eps: 0.00318, minPts: 5\n",
      "  Estimated number of clusters: 16\n",
      "  Silhouette Coefficient: -0.467\n",
      "For eps: 0.00318, minPts: 7\n",
      "  Estimated number of clusters: 15\n",
      "  Silhouette Coefficient: -0.352\n",
      "For eps: 0.00318, minPts: 9\n",
      "  Estimated number of clusters: 13\n",
      "  Silhouette Coefficient: -0.313\n",
      "For eps: 0.00318, minPts: 11\n",
      "  Estimated number of clusters: 11\n",
      "  Silhouette Coefficient: -0.250\n",
      "For eps: 0.00318, minPts: 13\n",
      "  Estimated number of clusters: 9\n",
      "  Silhouette Coefficient: 0.157\n",
      "For eps: 0.00318, minPts: 15\n",
      "  Estimated number of clusters: 12\n",
      "  Silhouette Coefficient: 0.134\n",
      "For eps: 0.00318, minPts: 17\n",
      "  Estimated number of clusters: 13\n",
      "  Silhouette Coefficient: 0.150\n",
      "For eps: 0.00318, minPts: 19\n",
      "  Estimated number of clusters: 11\n",
      "  Silhouette Coefficient: 0.203\n",
      "For eps: 0.00318, minPts: 21\n",
      "  Estimated number of clusters: 16\n",
      "  Silhouette Coefficient: 0.324\n"
     ]
    }
   ],
   "source": [
    "sil_scores = []\n",
    "for min_pts in np.arange(3, 22, 2):\n",
    "    print(\"For eps: {}, minPts: {}\".format(epsilon, min_pts))\n",
    "    labels, core_pts, border_pts = DBSCAN(X, eps=epsilon, minPts=min_pts)\n",
    "    labels = assign_noise_to_centroid(X, labels, recompute_centroid=True)\n",
    "#         labels = assign_noise_KNN(X, labels, K = min_pts - 1)\n",
    "\n",
    "    # Number of clusters in labels, ignoring noise if present.\n",
    "    n_clusters_ = len(set(labels)) - (1 if -1 in labels else 0)\n",
    "    print('  Estimated number of clusters: %d' % n_clusters_)\n",
    "    if n_clusters_ == 1:\n",
    "        continue\n",
    "    try:\n",
    "        score = silhouette_score(X, labels, metric='cosine', random_state=8)\n",
    "        print(\"  Silhouette Coefficient: %0.3f\"\n",
    "          % score)\n",
    "        sil_scores.append(score)\n",
    "    except:\n",
    "        sil_scores.append(score)\n",
    "        print(\"  Silhouette Coefficient cannot be found on 1 cluster...\")"
   ]
  },
  {
   "cell_type": "code",
   "execution_count": 48,
   "metadata": {
    "ExecuteTime": {
     "end_time": "2018-11-30T01:53:38.728934Z",
     "start_time": "2018-11-30T01:53:38.574255Z"
    }
   },
   "outputs": [
    {
     "data": {
      "image/png": "[encoded data removed]",
      "text/plain": [
       "<Figure size 432x288 with 1 Axes>"
      ]
     },
     "metadata": {},
     "output_type": "display_data"
    }
   ],
   "source": [
    "x = list(range(3, 22, 2))\n",
    "y = sil_scores\n",
    "plt.plot(x, y);\n",
    "plt.xlabel(\"MinPts\");\n",
    "plt.ylabel(\"Silhouette Score\");\n",
    "plt.xticks(range(min(x), max(x)+1, 2));"
   ]
  },
  {
   "cell_type": "code",
   "execution_count": null,
   "metadata": {},
   "outputs": [],
   "source": []
  }
 ],
 "metadata": {
  "kernelspec": {
   "display_name": "Python 3",
   "language": "python",
   "name": "python3"
  },
  "language_info": {
   "codemirror_mode": {
    "name": "ipython",
    "version": 3
   },
   "file_extension": ".py",
   "mimetype": "text/x-python",
   "name": "python",
   "nbconvert_exporter": "python",
   "pygments_lexer": "ipython3",
   "version": "3.6.5"
  }
 },
 "nbformat": 4,
 "nbformat_minor": 2
}
